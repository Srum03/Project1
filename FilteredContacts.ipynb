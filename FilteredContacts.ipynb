{
 "cells": [
  {
   "cell_type": "markdown",
   "metadata": {},
   "source": [
    "# Performing Tasks with APIs\n",
    "\n",
    "\n",
    "In this assignment, you'll play the role of a Customer Acquisitions Analyst for a B2C software company. You have been asked to review a dataset of leads that the Sales team has generated through a web form on the company’s site. Most of the entries are accurate, but some people have entered fake phone numbers. \n",
    "\n",
    "The Sales team has requested that you identify and remove the rows with invalid phone numbers, so that they  don’t waste time calling numbers that don’t exist. Additionally, they want you to calculate the percentage of entries that contain invalid phone numbers. If more than 75% of the numbers are invalid, then the team will prioritize how best to optimize the web form to collect more accurate information. If the percentage is lower than that, then the team will not expend any resources on this task. \n",
    "\n",
    "Since the company doesn’t collect any data itself on valid phone numbers, you will use an API to perform this task. Specifically, you will use the [Veriphone](https://rapidapi.com/Veriphone/api/veriphone/endpoints) API to find and remove fake phone numbers.\n"
   ]
  },
  {
   "cell_type": "markdown",
   "metadata": {},
   "source": [
    "### Getting Started\n",
    "To get started, download the following files:\n",
    "- `Unit 23 - Technical - Unsolved.ipynb` (_this notebook_)\n",
    "- `ContactsList.csv`\n",
    "\n",
    "Place these together in to a dedicated directory on your hard drive. We recommend creating a folder in your `Documents` directory for this week of class, as follows:\n",
    "\n",
    "```\n",
    "Documents/\n",
    "  Python/\n",
    "    Term III/\n",
    "      Week23/\n",
    "        Unit 23 - Technical - Unsolved.ipynb\n",
    "        ContactsList.csv\n",
    "```\n",
    "\n",
    "Then, start Jupyter Notebook, navigate to the `Week23` directory, and open `Unit 23 - Technical - Unsolved.ipynb` in your browser. Make sure the `ContactsList.csv` file lives in the same directory.\n",
    "\n",
    "### Problem Structure\n",
    "Each problem will be accompanied by:\n",
    "- **Instructions**\n",
    "  - Each problem features a markdown cell explaining the problem.\n",
    "- **Unfinished Code Cells**\n",
    "  - Each problem has unfinished code cells, where you will write code to solve the problem.\n",
    "  - Cells will contain either starter code for you to finish, or a comment explaining what your code should do.\n",
    "- **Expected Output**. \n",
    "  - Many unfinished code cells will have output below them. You will be expected to write code that produces the same output.\n",
    "  - Some unfinished code cells do _not_ have output below them. This is simply because not all code will generate output. Your solutions for these cells should _not_ print anything.\n",
    "  \n",
    "### Deliverables\n",
    "To receive credit for this assignment, you must submit the following files:\n",
    "- Your completed Jupyter Notebook\n",
    "- `FilteredContactsList.csv`\n",
    "\n",
    "Your completed Jupyter Notebook will be this file, but with all of the problems solved. In addition, one of the problems requires that you generate a file called `FilteredContactsList.csv`. When you're done with the assignment, run all cells to verify that your code executes as expected. Then, save and submit both this notebook _and_ the `FilteredContactsList.csv` file.\n",
    "\n",
    "Good luck!\n",
    "\n",
    "---"
   ]
  },
  {
   "cell_type": "markdown",
   "metadata": {},
   "source": [
    "## Part 1: Loading Data"
   ]
  },
  {
   "cell_type": "markdown",
   "metadata": {},
   "source": [
    "### Problem 1: Loading Data\n",
    "You have been provided with a `filename` variable, containing the path to the `ContactsList.csv` file. Use it to complete the steps below:\n",
    "- Read `ContactsList.csv` into a DataFrame called `contacts`\n",
    "- Print the first 5 rows of `contacts`\n",
    "\n",
    "---\n",
    "\n",
    "Your code should print the following:\n",
    "\n",
    "```\n",
    "\tfirst_name\tlast_name\taddress\tcity\tstate\tzip\tphone\tIntroduction\n",
    "0\tJames\tButt\t6649 N Blue Gum St\tNew Orleans\tLA\t70116\t504-845-1427\tСалам! Мен сиздердин компания менен кызматташу...\n",
    "1\tJosephine\tDarakjy\t4 B Blue Ridge Blvd\tBrighton\tMI\t48116\t810-374-9840\tChào! Tôi có một vài câu hỏi về công ty của bạ...\n",
    "2\tArt\tVenere\t8 W Cerritos Ave #54\tBridgeport\tNJ\t8014\t856-264-4130\tЗдраво, јас сум заинтересиран да ја испробам н...\n",
    "3\tLenna\tPaprocki\t639 Main St\tAnchorage\tAK\t99501\t907-921-2010\tHaye! Waxaan qabaa su'aalo dhowr ah oo ku saab...\n",
    "4\tDonette\tFoller\t34 Center St\tHamilton\tOH\t45011\t513-549-4561\tЗдраво! Имам неколико питања о вашој компанији...\n",
    "```"
   ]
  },
  {
   "cell_type": "code",
   "execution_count": 1,
   "metadata": {
    "ExecuteTime": {
     "end_time": "2021-04-27T03:49:18.106590Z",
     "start_time": "2021-04-27T03:49:17.488056Z"
    }
   },
   "outputs": [],
   "source": [
    "# Provided Code -- Do NOT Edt!\n",
    "import pandas as pd\n",
    "import requests\n",
    "\n",
    "filename = 'ContactsList.csv'"
   ]
  },
  {
   "cell_type": "code",
   "execution_count": 2,
   "metadata": {
    "ExecuteTime": {
     "end_time": "2021-04-27T03:49:18.151516Z",
     "start_time": "2021-04-27T03:49:18.132475Z"
    }
   },
   "outputs": [],
   "source": [
    "# TODO: Load `ContactsList.csv` into `contacts` variable\n",
    "contacts = pd.read_csv(filename)"
   ]
  },
  {
   "cell_type": "code",
   "execution_count": 3,
   "metadata": {
    "ExecuteTime": {
     "end_time": "2021-04-27T03:49:18.217208Z",
     "start_time": "2021-04-27T03:49:18.163075Z"
    }
   },
   "outputs": [
    {
     "data": {
      "text/html": [
       "<div>\n",
       "<style scoped>\n",
       "    .dataframe tbody tr th:only-of-type {\n",
       "        vertical-align: middle;\n",
       "    }\n",
       "\n",
       "    .dataframe tbody tr th {\n",
       "        vertical-align: top;\n",
       "    }\n",
       "\n",
       "    .dataframe thead th {\n",
       "        text-align: right;\n",
       "    }\n",
       "</style>\n",
       "<table border=\"1\" class=\"dataframe\">\n",
       "  <thead>\n",
       "    <tr style=\"text-align: right;\">\n",
       "      <th></th>\n",
       "      <th>first_name</th>\n",
       "      <th>last_name</th>\n",
       "      <th>address</th>\n",
       "      <th>city</th>\n",
       "      <th>state</th>\n",
       "      <th>zip</th>\n",
       "      <th>phone</th>\n",
       "      <th>Introduction</th>\n",
       "    </tr>\n",
       "  </thead>\n",
       "  <tbody>\n",
       "    <tr>\n",
       "      <th>0</th>\n",
       "      <td>Art</td>\n",
       "      <td>Venere</td>\n",
       "      <td>8 W Cerritos Ave #54</td>\n",
       "      <td>Bridgeport</td>\n",
       "      <td>NJ</td>\n",
       "      <td>8014</td>\n",
       "      <td>8562644130</td>\n",
       "      <td>Здраво, јас сум заинтересиран да ја испробам н...</td>\n",
       "    </tr>\n",
       "    <tr>\n",
       "      <th>1</th>\n",
       "      <td>Abel</td>\n",
       "      <td>Maclead</td>\n",
       "      <td>37275 St  Rt 17m M</td>\n",
       "      <td>Middle Island</td>\n",
       "      <td>NY</td>\n",
       "      <td>11953</td>\n",
       "      <td>6316773675</td>\n",
       "      <td>Hej, chciałbym się skontaktować w sprawie wspó...</td>\n",
       "    </tr>\n",
       "    <tr>\n",
       "      <th>2</th>\n",
       "      <td>Frieden</td>\n",
       "      <td>Richard</td>\n",
       "      <td>6360 Wilshire Blvd Ste 506</td>\n",
       "      <td>Los Angeles</td>\n",
       "      <td>CA</td>\n",
       "      <td>90048</td>\n",
       "      <td>3236553854</td>\n",
       "      <td>Živjo! Imam nekaj vprašanj o vašem podjetju v ...</td>\n",
       "    </tr>\n",
       "    <tr>\n",
       "      <th>3</th>\n",
       "      <td>Tina</td>\n",
       "      <td>Mendoza</td>\n",
       "      <td>10599 Michael Cliffs</td>\n",
       "      <td>Dannyfort</td>\n",
       "      <td>PA</td>\n",
       "      <td>96251</td>\n",
       "      <td>3148244193</td>\n",
       "      <td>Ola, estou interesado en probar o seu servizo....</td>\n",
       "    </tr>\n",
       "    <tr>\n",
       "      <th>4</th>\n",
       "      <td>Richard</td>\n",
       "      <td>Garcia</td>\n",
       "      <td>13942 Flores Greens</td>\n",
       "      <td>New David</td>\n",
       "      <td>KS</td>\n",
       "      <td>11905</td>\n",
       "      <td>3612617977</td>\n",
       "      <td>मलाई लाग्छ तपाईंको सेवा हाम्रो व्यवसाय को लागी...</td>\n",
       "    </tr>\n",
       "  </tbody>\n",
       "</table>\n",
       "</div>"
      ],
      "text/plain": [
       "  first_name last_name                     address           city state  \\\n",
       "0        Art    Venere        8 W Cerritos Ave #54     Bridgeport    NJ   \n",
       "1       Abel   Maclead          37275 St  Rt 17m M  Middle Island    NY   \n",
       "2    Frieden   Richard  6360 Wilshire Blvd Ste 506    Los Angeles    CA   \n",
       "3       Tina   Mendoza        10599 Michael Cliffs      Dannyfort    PA   \n",
       "4    Richard    Garcia         13942 Flores Greens      New David    KS   \n",
       "\n",
       "     zip       phone                                       Introduction  \n",
       "0   8014  8562644130  Здраво, јас сум заинтересиран да ја испробам н...  \n",
       "1  11953  6316773675  Hej, chciałbym się skontaktować w sprawie wspó...  \n",
       "2  90048  3236553854  Živjo! Imam nekaj vprašanj o vašem podjetju v ...  \n",
       "3  96251  3148244193  Ola, estou interesado en probar o seu servizo....  \n",
       "4  11905  3612617977  मलाई लाग्छ तपाईंको सेवा हाम्रो व्यवसाय को लागी...  "
      ]
     },
     "execution_count": 3,
     "metadata": {},
     "output_type": "execute_result"
    }
   ],
   "source": [
    "# TODO: Print first 5 rows of `contacts`\n",
    "contacts.head()"
   ]
  },
  {
   "cell_type": "markdown",
   "metadata": {},
   "source": [
    "## Part 2: API Registration & Connection Test\n",
    "Before you can use the Veriphone API to filter fake leads from your reformatted data, you will: \n",
    "- Register for the Veriphone API\n",
    "- Explore the documentation\n",
    "- Write a function to call the API"
   ]
  },
  {
   "cell_type": "markdown",
   "metadata": {},
   "source": [
    "### Problem 1: Registering for & Connecting to the Veriphone API\n",
    "In this problem, you will register for a Veriphone account, and then read the documentation to determine which endpoint and parameters are required to retrieve a response.\n",
    "\n",
    "First, navigate to [Veriphone](https://veriphone.io), and register for a new account. Then, save your API Key in the empty `veriphone_api_key` variable provided in the code cell below. Note that you will _not_ be charged – the first 1,000 requests per month are free."
   ]
  },
  {
   "cell_type": "code",
   "execution_count": 4,
   "metadata": {
    "ExecuteTime": {
     "end_time": "2021-04-27T03:49:18.444202Z",
     "start_time": "2021-04-27T03:49:18.437849Z"
    }
   },
   "outputs": [],
   "source": [
    "# TODO: Fill out your API Key below\n",
    "api_key = '5F630A26E918470D966FB5311E8F4478'"
   ]
  },
  {
   "cell_type": "markdown",
   "metadata": {},
   "source": [
    "### Problem 2: Determining if a Phone Number is Valid\n",
    "\n",
    "  \n",
    "Review the **VERIFY** section of the [Veriphone API Documentation](https://veriphone.io/docs/v2). It explains that we need the following `params` to make a request:\n",
    "- `key`: This is the `api_key` variable defined above.\n",
    "- `phone`: A phone number, which will come from the `contacts.phone` column\n",
    "- `default_country`: Country in which the phone number is registered. For us, this will be `'US'`. \n",
    "\n",
    "In addition, note that JSON returned by this API has the following shape:\n",
    "\n",
    "```\n",
    "{'status': 'success',\n",
    " 'phone': '9999999999',\n",
    " 'phone_valid': False,\n",
    " 'phone_type': 'unknown',\n",
    " 'phone_region': '',\n",
    " 'country': '',\n",
    " 'country_code': '',\n",
    " 'country_prefix': '0',\n",
    " 'international_number': '+1 999-999-9999',\n",
    " 'local_number': '(999) 999-9999',\n",
    " 'e164': '+19999999999',\n",
    " 'carrier': ''}\n",
    "```\n",
    "\n",
    "The `phone_valid` key contains the data we are looking for. If a number is valid, the value will be `True`. If a number is invalid - as in the above example - the value will be `False`.\n",
    "\n",
    "Next, you will write a function that uses the Veriphone API to determine if a phone number is fake. You will re-use this function in a later problem.\n",
    "\n",
    "You have been provided with starter code in the cell below. You must complete the lines containing `# TODO` to solve this problem. Follow the steps below:\n",
    "- Save the URL of the **VERIFY** endpoint into the `url` variable\n",
    "- Use `requests` to perform a `GET` request to `url`, using the provided `params`\n",
    "- Check if the status code of the response equals `200`\n",
    "  - If not, return `False`\n",
    "  - If so, convert the response to JSON, then return the value of the `phone_valid` key\n",
    "  \n"
   ]
  },
  {
   "cell_type": "code",
   "execution_count": 5,
   "metadata": {
    "ExecuteTime": {
     "end_time": "2021-04-27T03:49:18.459655Z",
     "start_time": "2021-04-27T03:49:18.449816Z"
    }
   },
   "outputs": [],
   "source": [
    "# Declare `is_valid_phone` function, accepting `number` argument\n",
    "def is_valid_phone(number):\n",
    "    # TODO: Create `url` variable containing URL of the `verify` endpoint\n",
    "    base_url = 'https://api.veriphone.io/v2/verify'\n",
    "    # Create `params` dictionary. This has already been provided to you below. \n",
    "    params = {\n",
    "        'key': api_key,\n",
    "        'phone': number,\n",
    "        'default_country': 'US',\n",
    "    }\n",
    "    \n",
    "    # TODO: Use `requests` to perform `GET` request to `url` with `params`\n",
    "    response = requests.get(base_url, params = params)\n",
    "    # TODO: Check if `status_code` of `response` is NOT `200`\n",
    "    if response.status_code != 200:\n",
    "        # TODO: If not, return `False`\n",
    "        return False\n",
    "    # TODO: Otherwise, convert `response` to JSON, and return value of `phone_valid` key\n",
    "    return response.json()['phone_valid']\n",
    "\n"
   ]
  },
  {
   "cell_type": "markdown",
   "metadata": {},
   "source": [
    "After implementing `is_valid_phone`, execute it with the following test values:\n",
    "- `2024561111` (Phone Number of the US White House)\n",
    "- `9999999999` (Clearly fake data)\n",
    "\n",
    "---\n",
    "\n",
    "Your code should print the following:\n",
    "\n",
    "```\n",
    "True\n",
    "\n",
    "False\n",
    "```"
   ]
  },
  {
   "cell_type": "code",
   "execution_count": 6,
   "metadata": {},
   "outputs": [
    {
     "data": {
      "text/plain": [
       "True"
      ]
     },
     "execution_count": 6,
     "metadata": {},
     "output_type": "execute_result"
    }
   ],
   "source": [
    "is_valid_phone('2024561111')"
   ]
  },
  {
   "cell_type": "code",
   "execution_count": 7,
   "metadata": {},
   "outputs": [
    {
     "data": {
      "text/plain": [
       "False"
      ]
     },
     "execution_count": 7,
     "metadata": {},
     "output_type": "execute_result"
    }
   ],
   "source": [
    "is_valid_phone('9999999999')"
   ]
  },
  {
   "cell_type": "markdown",
   "metadata": {},
   "source": [
    "## Part 3: Filtering Out Fake Entries\n",
    "\n",
    "Now that you've written functions to validate phone numbers, you'll use the API to augment your DataFrame with a new column indicating whether each row contains a valid phone number."
   ]
  },
  {
   "cell_type": "markdown",
   "metadata": {},
   "source": [
    "### Problem 1: Adding a `real_phone_number` Column\n",
    "First, add a new column to `contacts`, called `real_phone_number?`, with a default value of `False`."
   ]
  },
  {
   "cell_type": "code",
   "execution_count": 8,
   "metadata": {
    "ExecuteTime": {
     "end_time": "2021-04-27T03:49:20.452840Z",
     "start_time": "2021-04-27T03:49:20.446032Z"
    }
   },
   "outputs": [],
   "source": [
    "# TODO: Add `real_phone_number?` and `ValidAddress` columns, defaulted to `False`\n",
    "contacts['real_phone_number?'] = False"
   ]
  },
  {
   "cell_type": "markdown",
   "metadata": {},
   "source": [
    "### Problem 2: Identifying Real Numbers\n",
    "Next, you will iterate through each row in `contacts` and set `real_phone_number?` equal to `True` for any numbers that are, in fact, real.\n",
    "\n",
    "Follow the steps below:\n",
    "- Iterate over the `index` and `row` items of `contacts`\n",
    "  - Use [iterrows](https://pandas.pydata.org/pandas-docs/stable/reference/api/pandas.DataFrame.iterrows.html), which is similar to `enumerate`.\n",
    "  - Within the loop:\n",
    "      - Extract the `phone` field from each `row` into a variable called `phone_number`.\n",
    "      - Determine if this number is valid using `is_valid_phone` number.\n",
    "      - Set the value of `real_phone_number?` at `index` equal to the above result.\n",
    "      \n",
    "      \n",
    "- Print the `value_counts` of the `real_phone_number?` column.\n",
    "\n",
    "---\n",
    "\n",
    "Your code should print the following:\n",
    "\n",
    "```\n",
    "True     75\n",
    "False    50\n",
    "Name: ValidPhone, dtype: int64\n",
    "```"
   ]
  },
  {
   "cell_type": "code",
   "execution_count": 9,
   "metadata": {},
   "outputs": [],
   "source": [
    "# TODO: Iterate over each `index` and `row` of `contacts`\n",
    "for index, row in contacts.iterrows():\n",
    "    \n",
    "    # TODO: Extract `phone_number` from `row`\n",
    "    phone_number = row['phone']\n",
    "    \n",
    "    # TODO: Check if `is_valid_phone`\n",
    "    real_phone_number = is_valid_phone(phone_number)\n",
    "    \n",
    "    # TODO: Set `real_phone_number?` equal to result of API call\n",
    "    contacts.loc[index, 'real_phone_number?'] = real_phone_number"
   ]
  },
  {
   "cell_type": "code",
   "execution_count": 10,
   "metadata": {},
   "outputs": [
    {
     "data": {
      "text/plain": [
       "True     75\n",
       "False    50\n",
       "Name: real_phone_number?, dtype: int64"
      ]
     },
     "execution_count": 10,
     "metadata": {},
     "output_type": "execute_result"
    }
   ],
   "source": [
    "contacts['real_phone_number?'].value_counts()"
   ]
  },
  {
   "cell_type": "markdown",
   "metadata": {},
   "source": [
    "### Problem 3: Finding the Real Ones\n",
    "Next, create a DataFrame called `verified_contacts`, consisting of only the rows containing a valid phone number _and_ a valid address. Print the first 5 rows of the result.\n",
    "\n",
    "Then, print out the percentage of the data that turned out to be good, so Sales has a quantitative measure of their lead quality. Use the formula `valid_contacts_length / original_length * 100`, and round your result to two decimal places.\n",
    "\n",
    "<hr>\n",
    "\n",
    "Your code should print the following:\n",
    "\n",
    "```\n",
    "\n",
    "    first_name\tlast_name\taddress\tcity\tstate\tzip\tphone\tIntroduction\treal_phone_number?\n",
    "0\tArt\tVenere\t8 W Cerritos Ave #54\tBridgeport\tNJ\t8014\t8562644130\tЗдраво, јас сум заинтересиран да ја испробам н...\tTrue\n",
    "1\tAbel\tMaclead\t37275 St Rt 17m M\tMiddle Island\tNY\t11953\t6316773675\tHej, chciałbym się skontaktować w sprawie wspó...\tTrue\n",
    "2\tFrieden\tRichard\t6360 Wilshire Blvd Ste 506\tLos Angeles\tCA\t90048\t3236553854\tŽivjo! Imam nekaj vprašanj o vašem podjetju v ...\tTrue\n",
    "3\tTina\tMendoza\t10599 Michael Cliffs\tDannyfort\tPA\t96251\t3148244193\tOla, estou interesado en probar o seu servizo....\tTrue\n",
    "4\tRichard\tGarcia\t13942 Flores Greens\tNew David\tKS\t11905\t3612617977\tमलाई लाग्छ तपाईंको सेवा हाम्रो व्यवसाय को लागी...\tTrue\n",
    "\n",
    "60.0%\n",
    "```"
   ]
  },
  {
   "cell_type": "code",
   "execution_count": 11,
   "metadata": {
    "ExecuteTime": {
     "end_time": "2021-04-27T03:49:20.886067Z",
     "start_time": "2021-04-27T03:49:20.873372Z"
    }
   },
   "outputs": [],
   "source": [
    "# TODO: Filter for only `verified_contacts`\n",
    "verified_contacts = contacts.loc[(contacts['real_phone_number?'] == True)]"
   ]
  },
  {
   "cell_type": "code",
   "execution_count": 12,
   "metadata": {
    "ExecuteTime": {
     "end_time": "2021-04-27T03:49:20.926496Z",
     "start_time": "2021-04-27T03:49:20.895992Z"
    }
   },
   "outputs": [
    {
     "data": {
      "text/html": [
       "<div>\n",
       "<style scoped>\n",
       "    .dataframe tbody tr th:only-of-type {\n",
       "        vertical-align: middle;\n",
       "    }\n",
       "\n",
       "    .dataframe tbody tr th {\n",
       "        vertical-align: top;\n",
       "    }\n",
       "\n",
       "    .dataframe thead th {\n",
       "        text-align: right;\n",
       "    }\n",
       "</style>\n",
       "<table border=\"1\" class=\"dataframe\">\n",
       "  <thead>\n",
       "    <tr style=\"text-align: right;\">\n",
       "      <th></th>\n",
       "      <th>first_name</th>\n",
       "      <th>last_name</th>\n",
       "      <th>address</th>\n",
       "      <th>city</th>\n",
       "      <th>state</th>\n",
       "      <th>zip</th>\n",
       "      <th>phone</th>\n",
       "      <th>Introduction</th>\n",
       "      <th>real_phone_number?</th>\n",
       "    </tr>\n",
       "  </thead>\n",
       "  <tbody>\n",
       "    <tr>\n",
       "      <th>0</th>\n",
       "      <td>Art</td>\n",
       "      <td>Venere</td>\n",
       "      <td>8 W Cerritos Ave #54</td>\n",
       "      <td>Bridgeport</td>\n",
       "      <td>NJ</td>\n",
       "      <td>8014</td>\n",
       "      <td>8562644130</td>\n",
       "      <td>Здраво, јас сум заинтересиран да ја испробам н...</td>\n",
       "      <td>True</td>\n",
       "    </tr>\n",
       "    <tr>\n",
       "      <th>1</th>\n",
       "      <td>Abel</td>\n",
       "      <td>Maclead</td>\n",
       "      <td>37275 St  Rt 17m M</td>\n",
       "      <td>Middle Island</td>\n",
       "      <td>NY</td>\n",
       "      <td>11953</td>\n",
       "      <td>6316773675</td>\n",
       "      <td>Hej, chciałbym się skontaktować w sprawie wspó...</td>\n",
       "      <td>True</td>\n",
       "    </tr>\n",
       "    <tr>\n",
       "      <th>2</th>\n",
       "      <td>Frieden</td>\n",
       "      <td>Richard</td>\n",
       "      <td>6360 Wilshire Blvd Ste 506</td>\n",
       "      <td>Los Angeles</td>\n",
       "      <td>CA</td>\n",
       "      <td>90048</td>\n",
       "      <td>3236553854</td>\n",
       "      <td>Živjo! Imam nekaj vprašanj o vašem podjetju v ...</td>\n",
       "      <td>True</td>\n",
       "    </tr>\n",
       "    <tr>\n",
       "      <th>3</th>\n",
       "      <td>Tina</td>\n",
       "      <td>Mendoza</td>\n",
       "      <td>10599 Michael Cliffs</td>\n",
       "      <td>Dannyfort</td>\n",
       "      <td>PA</td>\n",
       "      <td>96251</td>\n",
       "      <td>3148244193</td>\n",
       "      <td>Ola, estou interesado en probar o seu servizo....</td>\n",
       "      <td>True</td>\n",
       "    </tr>\n",
       "    <tr>\n",
       "      <th>4</th>\n",
       "      <td>Richard</td>\n",
       "      <td>Garcia</td>\n",
       "      <td>13942 Flores Greens</td>\n",
       "      <td>New David</td>\n",
       "      <td>KS</td>\n",
       "      <td>11905</td>\n",
       "      <td>3612617977</td>\n",
       "      <td>मलाई लाग्छ तपाईंको सेवा हाम्रो व्यवसाय को लागी...</td>\n",
       "      <td>True</td>\n",
       "    </tr>\n",
       "  </tbody>\n",
       "</table>\n",
       "</div>"
      ],
      "text/plain": [
       "  first_name last_name                     address           city state  \\\n",
       "0        Art    Venere        8 W Cerritos Ave #54     Bridgeport    NJ   \n",
       "1       Abel   Maclead          37275 St  Rt 17m M  Middle Island    NY   \n",
       "2    Frieden   Richard  6360 Wilshire Blvd Ste 506    Los Angeles    CA   \n",
       "3       Tina   Mendoza        10599 Michael Cliffs      Dannyfort    PA   \n",
       "4    Richard    Garcia         13942 Flores Greens      New David    KS   \n",
       "\n",
       "     zip       phone                                       Introduction  \\\n",
       "0   8014  8562644130  Здраво, јас сум заинтересиран да ја испробам н...   \n",
       "1  11953  6316773675  Hej, chciałbym się skontaktować w sprawie wspó...   \n",
       "2  90048  3236553854  Živjo! Imam nekaj vprašanj o vašem podjetju v ...   \n",
       "3  96251  3148244193  Ola, estou interesado en probar o seu servizo....   \n",
       "4  11905  3612617977  मलाई लाग्छ तपाईंको सेवा हाम्रो व्यवसाय को लागी...   \n",
       "\n",
       "   real_phone_number?  \n",
       "0                True  \n",
       "1                True  \n",
       "2                True  \n",
       "3                True  \n",
       "4                True  "
      ]
     },
     "execution_count": 12,
     "metadata": {},
     "output_type": "execute_result"
    }
   ],
   "source": [
    "# TODO: Print `verified_contacts`\n",
    "verified_contacts.head() "
   ]
  },
  {
   "cell_type": "code",
   "execution_count": 13,
   "metadata": {
    "ExecuteTime": {
     "end_time": "2021-04-27T03:49:20.959355Z",
     "start_time": "2021-04-27T03:49:20.930597Z"
    }
   },
   "outputs": [
    {
     "name": "stdout",
     "output_type": "stream",
     "text": [
      "60.0%\n"
     ]
    }
   ],
   "source": [
    "# TODO: Print percentage of valid contacts\n",
    "print(str(len(verified_contacts)/ len(contacts) * 100) +'%')"
   ]
  },
  {
   "cell_type": "markdown",
   "metadata": {},
   "source": [
    "That implies a 40% fake lead rate. This is below the 75% threshold the Sales team had set, which means that they will not prioritize any improvements to the web form. "
   ]
  },
  {
   "cell_type": "markdown",
   "metadata": {},
   "source": [
    "### Problem 4: Export CSV of Real Contacts\n",
    "Finally, save the real contacts a CSV, called `FilteredContactsList.csv`. The first five rows of this spreadsheet should look as follows:\n",
    "\n",
    "```\n",
    "first_name,last_name,address,city,state,zip,phone,Introduction,real_phone_number?\n",
    "Art,Venere,8 W Cerritos Ave #54,Bridgeport,NJ,8014,8562644130,\"Здраво, јас сум заинтересиран да ја испробам нашата услуга. Кога би било добро време да закажете консултација?\",True\n",
    "Abel,Maclead,37275 St  Rt 17m M,Middle Island,NY,11953,6316773675,\"Hej, chciałbym się skontaktować w sprawie współpracy z twoimi usługami. Kiedy jest dobry czas na rozmowę?\",True\n",
    "Frieden,Richard,6360 Wilshire Blvd Ste 506,Los Angeles,CA,90048,3236553854,Živjo! Imam nekaj vprašanj o vašem podjetju v zvezi z vzpostavljanjem partnerstva. Ali imate ta ali naslednji teden nekaj časa za klepet o logistiki?,True\n",
    "Tina,Mendoza,10599 Michael Cliffs,Dannyfort,PA,96251,3148244193,\"Ola, estou interesado en probar o seu servizo. Cando sería un bo momento para programar unha consulta?\",True\n",
    "```\n",
    "\n",
    "**Hints**\n",
    "- Be sure to omit the index when you create your CSV."
   ]
  },
  {
   "cell_type": "code",
   "execution_count": 14,
   "metadata": {},
   "outputs": [],
   "source": [
    "# TODO: Finally, output real contacts to`FilteredContactsList.csv`\n",
    "contacts.to_csv('FilteredContactsList.csv', index=False)"
   ]
  }
 ],
 "metadata": {
  "kernelspec": {
   "display_name": "Python 3",
   "language": "python",
   "name": "python3"
  },
  "language_info": {
   "codemirror_mode": {
    "name": "ipython",
    "version": 3
   },
   "file_extension": ".py",
   "mimetype": "text/x-python",
   "name": "python",
   "nbconvert_exporter": "python",
   "pygments_lexer": "ipython3",
   "version": "3.8.5"
  }
 },
 "nbformat": 4,
 "nbformat_minor": 4
}
