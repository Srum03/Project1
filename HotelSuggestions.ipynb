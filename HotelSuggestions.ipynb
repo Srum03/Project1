{
 "cells": [
  {
   "cell_type": "code",
   "execution_count": 1,
   "metadata": {},
   "outputs": [],
   "source": [
    "from pprint import pprint\n",
    "\n",
    "import matplotlib.pyplot as plt\n",
    "import pandas as pd\n",
    "import requests"
   ]
  },
  {
   "cell_type": "markdown",
   "metadata": {},
   "source": [
    "# Analyzing TV Viewership Tendencies\n",
    "In this assignment, you will play the role of a business analyst at Nielsen, a company focused on trends in media viewership. Currently you are part of a team tasked to analyze television show ratings across different US television networks.\n",
    "\n",
    "They want to better understand which networks over time have had the highest average ratings for their shows. Additionally, they want to see the breakdown of television show by genre for each network in order to see whether better performing networks favor specific genre categories.\n",
    "\n",
    "You have been tasked specifically to analyze television show ratings between 2009 and 2014. You will use data from the TV Maze API, restricting your analysis to the 9 US networks with the most shows. You will produce the following deliverables:\n",
    "- A scatterplot that shows the average television show ratings by network from 2009 through 2014\n",
    "- Pie charts that show the overall breakdown of TV shows by genre for each network from 2009 through 2014"
   ]
  },
  {
   "cell_type": "markdown",
   "metadata": {},
   "source": [
    "### Getting Started\n",
    "To get started, download the following files:\n",
    "- `Unit 22 - Technical - Unsolved.ipynb` (_this notebook_)\n",
    "\n",
    "Place these together in to a dedicated directory on your hard drive. We recommend creating a folder in your `Documents` directory for this week of class, as follows:\n",
    "\n",
    "```\n",
    "Documents/\n",
    "  Term III/\n",
    "    Week22/\n",
    "      Unit 22 - Technical - Unsolved.ipynb\n",
    "```\n",
    "\n",
    "Then, start Jupyter Notebook and open `Unit 22 - Technical - Unsolved.ipynb` in your browser.\n",
    "\n",
    "---\n",
    "\n",
    "### Problem Structure\n",
    "Each problem will be accompanied by:\n",
    "- **Instructions**\n",
    "  - Each problem features a markdown cell explaining the problem.\n",
    "- **Unfinished Code Cells**\n",
    "  - Each problem has unfinished code cells, where you will write code to solve the problem.\n",
    "  - Cells will contain either starter code for you to finish, or a comment explaining what your code should do.\n",
    "- **Expected Output**. \n",
    "  - Many unfinished code cells will have output below them. You will be expected to write code that produces the same output.\n",
    "  - Some unfinished code cells do _not_ have output below them. This is simply because not all code will generate output. Your solutions for these cells should _not_ print anything.\n",
    "\n",
    "---\n",
    "  \n",
    "### Deliverables\n",
    "To receive credit for this assignment, you must submit the following files:\n",
    "- Your completed Jupyter Notebook\n",
    "\n",
    "Your completed Jupyter Notebook will be this file, but with all of the problems solved. \n",
    "\n",
    "When you're done with the assignment, run all cells to verify that your code executes as expected.\n",
    "\n",
    "Good luck!\n",
    "\n",
    "---"
   ]
  },
  {
   "cell_type": "markdown",
   "metadata": {},
   "source": [
    "### Problem 1: Fetch API Data\n",
    "In this problem, you will use the `requests` library to retrieve data from the [TV Maze API](https://www.tvmaze.com/api).  Read the [documentation for this endpoint](https://www.tvmaze.com/api#show-index), and note the following examples it provides:\n",
    "```\n",
    "URL: /shows?page=:num\n",
    "Example: http://api.tvmaze.com/shows\n",
    "Example: http://api.tvmaze.com/shows?page=1\n",
    "```\n",
    "You will call the API's `/shows` endpoint, which requires a single query parameter, called `page`. For this assignment, you will retrieve only page 0.\n",
    "\n",
    "-----"
   ]
  },
  {
   "cell_type": "code",
   "execution_count": 2,
   "metadata": {},
   "outputs": [],
   "source": [
    "# TODO: Create a `url` variable that stores the API endpoint and retrieves only page 0\n",
    "url = 'http://api.tvmaze.com/shows?page=0'"
   ]
  },
  {
   "cell_type": "code",
   "execution_count": 3,
   "metadata": {},
   "outputs": [],
   "source": [
    "# TODO: Perform GET request to `url`\n",
    "shows = requests.get(url)"
   ]
  },
  {
   "cell_type": "code",
   "execution_count": 4,
   "metadata": {},
   "outputs": [],
   "source": [
    "# TODO: Convert response to JSON and store in a variable called `data`\n",
    "data = shows.json()"
   ]
  },
  {
   "cell_type": "markdown",
   "metadata": {},
   "source": [
    "To finish up, print the number of items in `data`, as well as its first element. You should see the output below:\n",
    "\n",
    "```\n",
    "Number of items in dataset:  240\n",
    "\n",
    "{'_links': {'previousepisode': {'href': 'https://api.tvmaze.com/episodes/185054'},\n",
    "            'self': {'href': 'https://api.tvmaze.com/shows/1'}},\n",
    " 'dvdCountry': None,\n",
    " 'externals': {'imdb': 'tt1553656', 'thetvdb': 264492, 'tvrage': 25988},\n",
    " 'genres': ['Drama', 'Science-Fiction', 'Thriller'],\n",
    " 'id': 1,\n",
    " 'image': {'medium': 'https://static.tvmaze.com/uploads/images/medium_portrait/81/202627.jpg',\n",
    "           'original': 'https://static.tvmaze.com/uploads/images/original_untouched/81/202627.jpg'},\n",
    " 'language': 'English',\n",
    " 'name': 'Under the Dome',\n",
    " 'network': {'country': {'code': 'US',\n",
    "                         'name': 'United States',\n",
    "                         'timezone': 'America/New_York'},\n",
    "             'id': 2,\n",
    "             'name': 'CBS'},\n",
    " 'officialSite': 'http://www.cbs.com/shows/under-the-dome/',\n",
    " 'premiered': '2013-06-24',\n",
    " 'rating': {'average': 6.6},\n",
    " 'runtime': 60,\n",
    " 'schedule': {'days': ['Thursday'], 'time': '22:00'},\n",
    " 'status': 'Ended',\n",
    " 'summary': '<p><b>Under the Dome</b> is the story of a small town that is '\n",
    "            'suddenly and inexplicably sealed off from the rest of the world '\n",
    "            \"by an enormous transparent dome. The town's inhabitants must deal \"\n",
    "            'with surviving the post-apocalyptic conditions while searching '\n",
    "            'for answers about the dome, where it came from and if and when it '\n",
    "            'will go away.</p>',\n",
    " 'type': 'Scripted',\n",
    " 'updated': 1617697381,\n",
    " 'url': 'https://www.tvmaze.com/shows/1/under-the-dome',\n",
    " 'webChannel': None,\n",
    " 'weight': 96}\n",
    "```"
   ]
  },
  {
   "cell_type": "code",
   "execution_count": 5,
   "metadata": {},
   "outputs": [
    {
     "name": "stdout",
     "output_type": "stream",
     "text": [
      "Number of items in dataset: 240\n"
     ]
    }
   ],
   "source": [
    "# TODO: Print the number of items in `data`\n",
    "print('Number of items in dataset: ' + str(len(data)))"
   ]
  },
  {
   "cell_type": "code",
   "execution_count": 6,
   "metadata": {
    "scrolled": false
   },
   "outputs": [
    {
     "name": "stdout",
     "output_type": "stream",
     "text": [
      "{'_links': {'previousepisode': {'href': 'https://api.tvmaze.com/episodes/185054'},\n",
      "            'self': {'href': 'https://api.tvmaze.com/shows/1'}},\n",
      " 'averageRuntime': 60,\n",
      " 'dvdCountry': None,\n",
      " 'ended': '2015-09-10',\n",
      " 'externals': {'imdb': 'tt1553656', 'thetvdb': 264492, 'tvrage': 25988},\n",
      " 'genres': ['Drama', 'Science-Fiction', 'Thriller'],\n",
      " 'id': 1,\n",
      " 'image': {'medium': 'https://static.tvmaze.com/uploads/images/medium_portrait/81/202627.jpg',\n",
      "           'original': 'https://static.tvmaze.com/uploads/images/original_untouched/81/202627.jpg'},\n",
      " 'language': 'English',\n",
      " 'name': 'Under the Dome',\n",
      " 'network': {'country': {'code': 'US',\n",
      "                         'name': 'United States',\n",
      "                         'timezone': 'America/New_York'},\n",
      "             'id': 2,\n",
      "             'name': 'CBS'},\n",
      " 'officialSite': 'http://www.cbs.com/shows/under-the-dome/',\n",
      " 'premiered': '2013-06-24',\n",
      " 'rating': {'average': 6.5},\n",
      " 'runtime': 60,\n",
      " 'schedule': {'days': ['Thursday'], 'time': '22:00'},\n",
      " 'status': 'Ended',\n",
      " 'summary': '<p><b>Under the Dome</b> is the story of a small town that is '\n",
      "            'suddenly and inexplicably sealed off from the rest of the world '\n",
      "            \"by an enormous transparent dome. The town's inhabitants must deal \"\n",
      "            'with surviving the post-apocalyptic conditions while searching '\n",
      "            'for answers about the dome, where it came from and if and when it '\n",
      "            'will go away.</p>',\n",
      " 'type': 'Scripted',\n",
      " 'updated': 1631010933,\n",
      " 'url': 'https://www.tvmaze.com/shows/1/under-the-dome',\n",
      " 'webChannel': None,\n",
      " 'weight': 98}\n"
     ]
    }
   ],
   "source": [
    "# TODO: Print first element of `data`\n",
    "first_element = data[0]\n",
    "pprint(first_element)"
   ]
  },
  {
   "cell_type": "markdown",
   "metadata": {},
   "source": [
    "### Problem 2: Extract Data\n",
    "In this problem, you will reformat the data set by extracting only the following keys and associated values from each element of `data`:\n",
    "- `name`\n",
    "- `rating.average`\n",
    "- `premiered`\n",
    "- First element of `genres`\n",
    "- `network.country.name`\n",
    "- `network.name`\n",
    "* **Note**: Each element in `data` that you retrieved from the API has a `genres` key, whose value is a list of three elements. For the purposes of this assignment, you will extract only the first element of the `genres` list. All three entries are informative, but the first element, called the \"primary genre\", describes the show most accurately.\n",
    "\n",
    "\n",
    "You will extract the above into a list of dictionaries called `condensed_data`. An example of a dictionary within this list is below:\n",
    "\n",
    "\n",
    "```\n",
    "{\n",
    "  'name': 'Under the Dome',\n",
    "  'rating': 6.6,\n",
    "  'premiered': '2013-06-24',\n",
    "  'genre': 'Drama',\n",
    "  'country': 'United States',\n",
    "  'network': 'CBS',\n",
    "}\n",
    "```\n",
    "\n",
    "**Hints**\n",
    "- Accessing a key that a dictionary doesn't have will raise an error. You will see this with the `genre` and `network` keys. This means that, when you get the `genre`, `network.name`, or `network.country.name` keys, you will need to use an `if` statement and the `dict.get` method."
   ]
  },
  {
   "cell_type": "code",
   "execution_count": 7,
   "metadata": {},
   "outputs": [],
   "source": [
    "# TODO: Create new list called `condensed_data`\n",
    "condensed_data = []\n",
    "    \n",
    "# TODO: Iterate over elements in `data`\n",
    "for info in data:\n",
    "    \n",
    "    # TODO: Create a `new_dictionary` to append to `condensed_data`\n",
    "    new_dictionary = {}\n",
    "   \n",
    "    \n",
    "    # TODO: Set `name` key in `new_dictionary` equal to the value of `name` key in element\n",
    "    new_dictionary['name'] = info.get('name')\n",
    "    \n",
    "    # TODO: Set `rating` key in `new dictionary` equal to `rating.average` in element\n",
    "    new_dictionary['rating'] = info.get('rating').get('average')\n",
    "    \n",
    "    # TODO: Set `premiered` key in `new dictionary` to the value of `premiered` key in element\n",
    "    new_dictionary['premiered'] = info.get('premiered')\n",
    "    \n",
    "    # TODO: Set `genre` key in `new_dictionary` equal to first element of the `genres` key in element.\n",
    "    if  info.get('genres') is not None  and type(info.get('genres')) == list and len(info.get('genres')) != 0:\n",
    "        new_dictionary['genre'] = info['genres'][0]\n",
    "        \n",
    "    # TODO: Set `network` key in `new_dictionary` equal to the value of `network.name` in element.\n",
    "    if info.get('network') is not None:\n",
    "        new_dictionary['network'] = info.get('network').get('name')  \n",
    "    \n",
    "    # TODO: Set `country` key in `new_dictionary` equal to the value of `network.country.name` in element\n",
    "        if info.get('network').get('country') is not None:\n",
    "             new_dictionary['country'] = info.get('network').get('country').get('name') \n",
    "      \n",
    "    \n",
    "    # TODO: Append `new dictionary` to `condensed _data`\n",
    "    condensed_data.append(new_dictionary)\n"
   ]
  },
  {
   "cell_type": "markdown",
   "metadata": {},
   "source": [
    "Next, print the length of `condensed_data`, as well as its first element. You should see the output below:\n",
    "```\n",
    "Number of items in dataset:  240\n",
    "{'country': 'United States',\n",
    " 'genre': 'Drama',\n",
    " 'name': 'Under the Dome',\n",
    " 'network': 'CBS',\n",
    " 'premiered': '2013-06-24',\n",
    " 'rating': 6.6}\n",
    "```"
   ]
  },
  {
   "cell_type": "code",
   "execution_count": 8,
   "metadata": {},
   "outputs": [
    {
     "name": "stdout",
     "output_type": "stream",
     "text": [
      "Number of items in dataset: 240\n"
     ]
    }
   ],
   "source": [
    "#TODO: Print length of `condensed_data`\n",
    "print('Number of items in dataset: ' + str(len(condensed_data)))"
   ]
  },
  {
   "cell_type": "code",
   "execution_count": 9,
   "metadata": {},
   "outputs": [
    {
     "name": "stdout",
     "output_type": "stream",
     "text": [
      "{'country': 'United States',\n",
      " 'genre': 'Drama',\n",
      " 'name': 'Under the Dome',\n",
      " 'network': 'CBS',\n",
      " 'premiered': '2013-06-24',\n",
      " 'rating': 6.5}\n"
     ]
    }
   ],
   "source": [
    "# TODO: Print first element of `condensed_data`\n",
    "pprint(condensed_data[0])"
   ]
  },
  {
   "cell_type": "markdown",
   "metadata": {},
   "source": [
    "### Problem 3: Create & Filter a DataFrame\n",
    "Next, you will use your list of simplified data to create and filter a DataFrame, which you will use to generate plots in the problems that follow.\n",
    "\n",
    "This filtered data frame will only contain shows that broadcast within the United States for the top 9 networks (i.e. networks that have more than 5 shows)\n",
    "\n",
    "**Hints**\n",
    "- Recall the following syntax: `df['datetime_column'].dt.year`. This extracts the year from each date in `'datetime_column'`, and can be used to create filters, e.g.: `df['datetime_column'].dt.year <= 2000`.\n",
    "- To find shows that started in or after 2009 and in or before 2014, use two filters: One to select rows that started in or after 2009, and one to select rows that started in or before 2014. Use `&` to combine these filters.\n",
    "\n",
    "The comments in the cells below provide step-by-step instructions to solve this problem.\n"
   ]
  },
  {
   "cell_type": "code",
   "execution_count": 10,
   "metadata": {},
   "outputs": [],
   "source": [
    "# TODO: Create DataFrame from `condensed_data`\n",
    "df = pd.DataFrame(condensed_data)"
   ]
  },
  {
   "cell_type": "code",
   "execution_count": 11,
   "metadata": {},
   "outputs": [
    {
     "data": {
      "text/plain": [
       "name                 object\n",
       "rating              float64\n",
       "premiered    datetime64[ns]\n",
       "genre                object\n",
       "network              object\n",
       "country              object\n",
       "dtype: object"
      ]
     },
     "execution_count": 11,
     "metadata": {},
     "output_type": "execute_result"
    }
   ],
   "source": [
    "# TODO: Convert type of `premiered` column to datetime]\n",
    "df['premiered']=pd.to_datetime(df['premiered'])\n",
    "df.dtypes"
   ]
  },
  {
   "cell_type": "code",
   "execution_count": 12,
   "metadata": {},
   "outputs": [],
   "source": [
    "# TODO: Filter for shows that broadcast in the United States\n",
    "US_shows = df.loc[(df['country'] == 'United States')]"
   ]
  },
  {
   "cell_type": "code",
   "execution_count": 13,
   "metadata": {},
   "outputs": [
    {
     "data": {
      "text/html": [
       "<div>\n",
       "<style scoped>\n",
       "    .dataframe tbody tr th:only-of-type {\n",
       "        vertical-align: middle;\n",
       "    }\n",
       "\n",
       "    .dataframe tbody tr th {\n",
       "        vertical-align: top;\n",
       "    }\n",
       "\n",
       "    .dataframe thead th {\n",
       "        text-align: right;\n",
       "    }\n",
       "</style>\n",
       "<table border=\"1\" class=\"dataframe\">\n",
       "  <thead>\n",
       "    <tr style=\"text-align: right;\">\n",
       "      <th></th>\n",
       "      <th>name</th>\n",
       "      <th>rating</th>\n",
       "      <th>premiered</th>\n",
       "      <th>genre</th>\n",
       "      <th>network</th>\n",
       "      <th>country</th>\n",
       "    </tr>\n",
       "  </thead>\n",
       "  <tbody>\n",
       "    <tr>\n",
       "      <th>0</th>\n",
       "      <td>Under the Dome</td>\n",
       "      <td>6.5</td>\n",
       "      <td>2013-06-24</td>\n",
       "      <td>Drama</td>\n",
       "      <td>CBS</td>\n",
       "      <td>United States</td>\n",
       "    </tr>\n",
       "    <tr>\n",
       "      <th>1</th>\n",
       "      <td>Person of Interest</td>\n",
       "      <td>8.9</td>\n",
       "      <td>2011-09-22</td>\n",
       "      <td>Action</td>\n",
       "      <td>CBS</td>\n",
       "      <td>United States</td>\n",
       "    </tr>\n",
       "    <tr>\n",
       "      <th>3</th>\n",
       "      <td>Arrow</td>\n",
       "      <td>7.4</td>\n",
       "      <td>2012-10-10</td>\n",
       "      <td>Drama</td>\n",
       "      <td>The CW</td>\n",
       "      <td>United States</td>\n",
       "    </tr>\n",
       "    <tr>\n",
       "      <th>4</th>\n",
       "      <td>True Detective</td>\n",
       "      <td>8.3</td>\n",
       "      <td>2014-01-12</td>\n",
       "      <td>Drama</td>\n",
       "      <td>HBO</td>\n",
       "      <td>United States</td>\n",
       "    </tr>\n",
       "    <tr>\n",
       "      <th>5</th>\n",
       "      <td>The 100</td>\n",
       "      <td>7.8</td>\n",
       "      <td>2014-03-19</td>\n",
       "      <td>Action</td>\n",
       "      <td>The CW</td>\n",
       "      <td>United States</td>\n",
       "    </tr>\n",
       "    <tr>\n",
       "      <th>...</th>\n",
       "      <td>...</td>\n",
       "      <td>...</td>\n",
       "      <td>...</td>\n",
       "      <td>...</td>\n",
       "      <td>...</td>\n",
       "      <td>...</td>\n",
       "    </tr>\n",
       "    <tr>\n",
       "      <th>228</th>\n",
       "      <td>Dallas</td>\n",
       "      <td>6.2</td>\n",
       "      <td>2012-06-13</td>\n",
       "      <td>Drama</td>\n",
       "      <td>TNT</td>\n",
       "      <td>United States</td>\n",
       "    </tr>\n",
       "    <tr>\n",
       "      <th>229</th>\n",
       "      <td>Anger Management</td>\n",
       "      <td>6.6</td>\n",
       "      <td>2012-06-28</td>\n",
       "      <td>Comedy</td>\n",
       "      <td>FX</td>\n",
       "      <td>United States</td>\n",
       "    </tr>\n",
       "    <tr>\n",
       "      <th>231</th>\n",
       "      <td>Benched</td>\n",
       "      <td>6.7</td>\n",
       "      <td>2014-10-28</td>\n",
       "      <td>Comedy</td>\n",
       "      <td>USA Network</td>\n",
       "      <td>United States</td>\n",
       "    </tr>\n",
       "    <tr>\n",
       "      <th>233</th>\n",
       "      <td>Conan</td>\n",
       "      <td>7.5</td>\n",
       "      <td>2010-11-08</td>\n",
       "      <td>Comedy</td>\n",
       "      <td>TBS</td>\n",
       "      <td>United States</td>\n",
       "    </tr>\n",
       "    <tr>\n",
       "      <th>235</th>\n",
       "      <td>Town of the Living Dead</td>\n",
       "      <td>NaN</td>\n",
       "      <td>2014-10-07</td>\n",
       "      <td>NaN</td>\n",
       "      <td>Syfy</td>\n",
       "      <td>United States</td>\n",
       "    </tr>\n",
       "  </tbody>\n",
       "</table>\n",
       "<p>171 rows × 6 columns</p>\n",
       "</div>"
      ],
      "text/plain": [
       "                        name  rating  premiered   genre      network  \\\n",
       "0             Under the Dome     6.5 2013-06-24   Drama          CBS   \n",
       "1         Person of Interest     8.9 2011-09-22  Action          CBS   \n",
       "3                      Arrow     7.4 2012-10-10   Drama       The CW   \n",
       "4             True Detective     8.3 2014-01-12   Drama          HBO   \n",
       "5                    The 100     7.8 2014-03-19  Action       The CW   \n",
       "..                       ...     ...        ...     ...          ...   \n",
       "228                   Dallas     6.2 2012-06-13   Drama          TNT   \n",
       "229         Anger Management     6.6 2012-06-28  Comedy           FX   \n",
       "231                  Benched     6.7 2014-10-28  Comedy  USA Network   \n",
       "233                    Conan     7.5 2010-11-08  Comedy          TBS   \n",
       "235  Town of the Living Dead     NaN 2014-10-07     NaN         Syfy   \n",
       "\n",
       "           country  \n",
       "0    United States  \n",
       "1    United States  \n",
       "3    United States  \n",
       "4    United States  \n",
       "5    United States  \n",
       "..             ...  \n",
       "228  United States  \n",
       "229  United States  \n",
       "231  United States  \n",
       "233  United States  \n",
       "235  United States  \n",
       "\n",
       "[171 rows x 6 columns]"
      ]
     },
     "execution_count": 13,
     "metadata": {},
     "output_type": "execute_result"
    }
   ],
   "source": [
    "# TODO: Filter for shows that premiered between 2009 and 2014\n",
    "\n",
    "start_date = US_shows[\"premiered\"].dt.year >= 2009\n",
    "end_date = US_shows[\"premiered\"].dt.year <= 2014\n",
    "between_dates = start_date & end_date\n",
    "US_shows_1 = US_shows.loc[between_dates]\n",
    "US_shows_1\n"
   ]
  },
  {
   "cell_type": "code",
   "execution_count": 14,
   "metadata": {},
   "outputs": [],
   "source": [
    "# TODO: Filter out only networks with more than 5 shows (i.e., the top 9 networks)\n",
    "Top_Networks = US_shows_1[US_shows_1['network'].map(US_shows_1['network'].value_counts() > 5)]"
   ]
  },
  {
   "cell_type": "markdown",
   "metadata": {},
   "source": [
    "When you're done, call `info` and print the first 5 rows of the DataFrame to check your work. You should see the following output:\n",
    "\n",
    "```\n",
    "# info\n",
    "<class 'pandas.core.frame.DataFrame'>\n",
    "Int64Index: 131 entries, 65 to 151\n",
    "Data columns (total 6 columns):\n",
    " #   Column     Non-Null Count  Dtype\n",
    "---  ------     --------------  -----\n",
    " 0   genre      129 non-null    object\n",
    " 1   name       131 non-null    object\n",
    " 2   network    131 non-null    object\n",
    " 3   country    131 non-null    object\n",
    " 4   rating     129 non-null    float64\n",
    " 5   premiered  131 non-null    datetime64[ns]\n",
    "dtypes: datetime64[ns](1), float64(1), object(4)\n",
    "memory usage: 7.2+ KB\n",
    "\n",
    "# head\n",
    "genre\tname\tnetwork\tcountry\trating\tpremiered\n",
    "65\tDrama\tCastle\tABC\tUnited States\t8.3\t2009-03-09\n",
    "165\tComedy\tParks and Recreation\tNBC\tUnited States\t8.5\t2009-04-09\n",
    "7\tDrama\tGlee\tFOX\tUnited States\t6.8\t2009-05-19\n",
    "139\tDrama\tNurse Jackie\tShowtime\tUnited States\t7.7\t2009-06-08\n",
    "60\tDrama\tThe Vampire Diaries\tThe CW\tUnited States\t8.0\t2009-09-10\n",
    "```"
   ]
  },
  {
   "cell_type": "code",
   "execution_count": 15,
   "metadata": {},
   "outputs": [
    {
     "name": "stdout",
     "output_type": "stream",
     "text": [
      "<class 'pandas.core.frame.DataFrame'>\n",
      "Int64Index: 131 entries, 65 to 151\n",
      "Data columns (total 6 columns):\n",
      " #   Column     Non-Null Count  Dtype         \n",
      "---  ------     --------------  -----         \n",
      " 0   genre      129 non-null    object        \n",
      " 1   name       131 non-null    object        \n",
      " 2   network    131 non-null    object        \n",
      " 3   country    131 non-null    object        \n",
      " 4   rating     129 non-null    float64       \n",
      " 5   premiered  131 non-null    datetime64[ns]\n",
      "dtypes: datetime64[ns](1), float64(1), object(4)\n",
      "memory usage: 7.2+ KB\n"
     ]
    }
   ],
   "source": [
    "# TODO: Print `info`\n",
    "Top_Networks = Top_Networks.sort_values(by=['premiered'])\n",
    "Top_Networks = Top_Networks[['genre','name', 'network','country','rating','premiered']]\n",
    "Top_Networks.info()"
   ]
  },
  {
   "cell_type": "code",
   "execution_count": 16,
   "metadata": {},
   "outputs": [
    {
     "data": {
      "text/html": [
       "<div>\n",
       "<style scoped>\n",
       "    .dataframe tbody tr th:only-of-type {\n",
       "        vertical-align: middle;\n",
       "    }\n",
       "\n",
       "    .dataframe tbody tr th {\n",
       "        vertical-align: top;\n",
       "    }\n",
       "\n",
       "    .dataframe thead th {\n",
       "        text-align: right;\n",
       "    }\n",
       "</style>\n",
       "<table border=\"1\" class=\"dataframe\">\n",
       "  <thead>\n",
       "    <tr style=\"text-align: right;\">\n",
       "      <th></th>\n",
       "      <th>genre</th>\n",
       "      <th>name</th>\n",
       "      <th>network</th>\n",
       "      <th>country</th>\n",
       "      <th>rating</th>\n",
       "      <th>premiered</th>\n",
       "    </tr>\n",
       "  </thead>\n",
       "  <tbody>\n",
       "    <tr>\n",
       "      <th>65</th>\n",
       "      <td>Drama</td>\n",
       "      <td>Castle</td>\n",
       "      <td>ABC</td>\n",
       "      <td>United States</td>\n",
       "      <td>8.3</td>\n",
       "      <td>2009-03-09</td>\n",
       "    </tr>\n",
       "    <tr>\n",
       "      <th>165</th>\n",
       "      <td>Comedy</td>\n",
       "      <td>Parks and Recreation</td>\n",
       "      <td>NBC</td>\n",
       "      <td>United States</td>\n",
       "      <td>8.5</td>\n",
       "      <td>2009-04-09</td>\n",
       "    </tr>\n",
       "    <tr>\n",
       "      <th>7</th>\n",
       "      <td>Drama</td>\n",
       "      <td>Glee</td>\n",
       "      <td>FOX</td>\n",
       "      <td>United States</td>\n",
       "      <td>6.7</td>\n",
       "      <td>2009-05-19</td>\n",
       "    </tr>\n",
       "    <tr>\n",
       "      <th>139</th>\n",
       "      <td>Drama</td>\n",
       "      <td>Nurse Jackie</td>\n",
       "      <td>Showtime</td>\n",
       "      <td>United States</td>\n",
       "      <td>7.8</td>\n",
       "      <td>2009-06-08</td>\n",
       "    </tr>\n",
       "    <tr>\n",
       "      <th>60</th>\n",
       "      <td>Drama</td>\n",
       "      <td>The Vampire Diaries</td>\n",
       "      <td>The CW</td>\n",
       "      <td>United States</td>\n",
       "      <td>8.0</td>\n",
       "      <td>2009-09-10</td>\n",
       "    </tr>\n",
       "  </tbody>\n",
       "</table>\n",
       "</div>"
      ],
      "text/plain": [
       "      genre                  name   network        country  rating  premiered\n",
       "65    Drama                Castle       ABC  United States     8.3 2009-03-09\n",
       "165  Comedy  Parks and Recreation       NBC  United States     8.5 2009-04-09\n",
       "7     Drama                  Glee       FOX  United States     6.7 2009-05-19\n",
       "139   Drama          Nurse Jackie  Showtime  United States     7.8 2009-06-08\n",
       "60    Drama   The Vampire Diaries    The CW  United States     8.0 2009-09-10"
      ]
     },
     "execution_count": 16,
     "metadata": {},
     "output_type": "execute_result"
    }
   ],
   "source": [
    "# TODO: Print `head`\n",
    "Top_Networks.head()"
   ]
  },
  {
   "cell_type": "markdown",
   "metadata": {},
   "source": [
    "### Problem 4: Plot Average Rating of Each Network\n",
    "Next, you will generate a scatter plot with each network's name on the x-axis, and the network's average rating on the y-axis. Your final plot should have 9 points. The highest value on the y-axis should be around `7.9`, and the lowest value should be around `7.2`.\n",
    "\n",
    "**Hints**\n",
    "- The names of the networks will be stored in `network_average_ratings.index`, and the corresponding ratings in `network_average_ratings.values`. Use `plt.scatter` to plot this index against its values.\n",
    "\n",
    "The comments in the cells below provide step-by-step instructions to solve this problem."
   ]
  },
  {
   "cell_type": "code",
   "execution_count": 17,
   "metadata": {},
   "outputs": [],
   "source": [
    "# TODO: Group by `network` and store the result in a variable called `networks`\n",
    "networks = Top_Networks.groupby('network')"
   ]
  },
  {
   "cell_type": "code",
   "execution_count": 18,
   "metadata": {},
   "outputs": [],
   "source": [
    "# TODO: Compute average rating by network and sort in descending order,\n",
    "#       and Store the result in a variable called `network_average_ratings`\n",
    "network_average_ratings = round(networks[['rating']].mean(), 1).sort_values(by = 'rating', ascending = False)"
   ]
  },
  {
   "cell_type": "code",
   "execution_count": 19,
   "metadata": {},
   "outputs": [
    {
     "data": {
      "image/png": "[encoded data removed]",
      "text/plain": [
       "<Figure size 432x288 with 1 Axes>"
      ]
     },
     "metadata": {
      "needs_background": "light"
     },
     "output_type": "display_data"
    }
   ],
   "source": [
    "# TODO: Create scatter plot\n",
    "plt.scatter(x = network_average_ratings.index, y = network_average_ratings.values)\n",
    "#network_average_ratings.plot.scatter(x='network', y='rating')\n",
    "\n",
    "# TODO: Add title, xlabel, ylabel, and rotate xticks\n",
    "plt.title('Network Average Ratings')\n",
    "plt.xlabel('Network')\n",
    "plt.ylabel('Average Rating')\n",
    "plt.xticks(rotation=45)\n",
    "# TODO: Show plot\n",
    "plt.show()"
   ]
  },
  {
   "cell_type": "markdown",
   "metadata": {},
   "source": [
    "### Problem 5: Genre Breakdown for Top Networks\n",
    "Next, you will print the genre breakdown for each network, and then generate a pie chart displaying which proportion of each network's shows belong to each genre. \n",
    "\n",
    "You have been provided with a `networks` variable, generated by grouping `df` on the `network` column. Use it to complete the steps below:\n",
    "- Print the `value_counts` for the `genre` column of `networks`\n",
    "- Iterate over each `network` and `group` in `networks`\n",
    "- Within the loop:\n",
    "  - Use the `genre` column of `group` to generate a pie chart\n",
    "  - Use the `network` name as the `title` of the plot\n",
    "  - Make sure the plot has no y-label\n",
    "  \n",
    "Be sure to call `plt.show()` within your `for` loop. Otherwise, Pandas will plot everything on a single chart!"
   ]
  },
  {
   "cell_type": "code",
   "execution_count": 20,
   "metadata": {},
   "outputs": [],
   "source": [
    "# Provided Code -- Do NOT Edit!\n",
    "networks = Top_Networks.groupby('network')"
   ]
  },
  {
   "cell_type": "code",
   "execution_count": 21,
   "metadata": {},
   "outputs": [
    {
     "data": {
      "text/plain": [
       "network   genre \n",
       "ABC       Drama     15\n",
       "          Comedy     8\n",
       "          Action     1\n",
       "CBS       Drama     12\n",
       "          Comedy     5\n",
       "          Action     2\n",
       "          Crime      1\n",
       "FOX       Drama      8\n",
       "          Comedy     5\n",
       "          Action     1\n",
       "FX        Drama      7\n",
       "          Comedy     1\n",
       "HBO       Drama      7\n",
       "          Comedy     4\n",
       "NBC       Drama     12\n",
       "          Comedy     8\n",
       "          Action     1\n",
       "          Music      1\n",
       "Showtime  Drama      7\n",
       "          Comedy     2\n",
       "          Horror     1\n",
       "Syfy      Action     4\n",
       "          Drama      3\n",
       "          Horror     1\n",
       "The CW    Drama      9\n",
       "          Action     3\n",
       "Name: genre, dtype: int64"
      ]
     },
     "execution_count": 21,
     "metadata": {},
     "output_type": "execute_result"
    }
   ],
   "source": [
    "# TODO: Print `genre` value counts for each `group` in `networks`\n",
    "group = networks['genre'].value_counts()\n",
    "group"
   ]
  },
  {
   "cell_type": "code",
   "execution_count": 22,
   "metadata": {},
   "outputs": [
    {
     "data": {
      "image/png": "[encoded data removed]",
      "text/plain": [
       "<Figure size 432x288 with 1 Axes>"
      ]
     },
     "metadata": {},
     "output_type": "display_data"
    },
    {
     "data": {
      "image/png": "[encoded data removed]",
      "text/plain": [
       "<Figure size 432x288 with 1 Axes>"
      ]
     },
     "metadata": {},
     "output_type": "display_data"
    },
    {
     "data": {
      "image/png": "[encoded data removed]",
      "text/plain": [
       "<Figure size 432x288 with 1 Axes>"
      ]
     },
     "metadata": {},
     "output_type": "display_data"
    },
    {
     "data": {
      "image/png": "[encoded data removed]",
      "text/plain": [
       "<Figure size 432x288 with 1 Axes>"
      ]
     },
     "metadata": {},
     "output_type": "display_data"
    },
    {
     "data": {
      "image/png": "[encoded data removed]",
      "text/plain": [
       "<Figure size 432x288 with 1 Axes>"
      ]
     },
     "metadata": {},
     "output_type": "display_data"
    },
    {
     "data": {
      "image/png": "[encoded data removed]",
      "text/plain": [
       "<Figure size 432x288 with 1 Axes>"
      ]
     },
     "metadata": {},
     "output_type": "display_data"
    },
    {
     "data": {
      "image/png": "[encoded data removed]",
      "text/plain": [
       "<Figure size 432x288 with 1 Axes>"
      ]
     },
     "metadata": {},
     "output_type": "display_data"
    },
    {
     "data": {
      "image/png": "[encoded data removed]",
      "text/plain": [
       "<Figure size 432x288 with 1 Axes>"
      ]
     },
     "metadata": {},
     "output_type": "display_data"
    },
    {
     "data": {
      "image/png": "[encoded data removed]",
      "text/plain": [
       "<Figure size 432x288 with 1 Axes>"
      ]
     },
     "metadata": {},
     "output_type": "display_data"
    }
   ],
   "source": [
    "# TODO: Iterate over each `network` and `group` in `networks`\n",
    "for network, group in networks:\n",
    "  # TODO: Use the `genre` column of each `group` to generate a pie chart \n",
    "    group.genre.value_counts().plot.pie(subplots=True, legend=True)\n",
    "  # TODO: Set the plot's `title` equal to the name of the `network`, and make sure there is no `ylabel`\n",
    "    plt.title(network)\n",
    "    plt.ylabel('')\n",
    "  # TODO: `show` your plot\n",
    "    plt.show()"
   ]
  }
 ],
 "metadata": {
  "kernelspec": {
   "display_name": "Python 3",
   "language": "python",
   "name": "python3"
  },
  "language_info": {
   "codemirror_mode": {
    "name": "ipython",
    "version": 3
   },
   "file_extension": ".py",
   "mimetype": "text/x-python",
   "name": "python",
   "nbconvert_exporter": "python",
   "pygments_lexer": "ipython3",
   "version": "3.8.5"
  }
 },
 "nbformat": 4,
 "nbformat_minor": 5
}
