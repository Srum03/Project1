{
 "cells": [
  {
   "cell_type": "markdown",
   "metadata": {},
   "source": [
    "# Cleaning Up a Sales Spreadsheet"
   ]
  },
  {
   "cell_type": "markdown",
   "metadata": {},
   "source": [
    "In this assignment, you will play the role of an analyst at a retail wholesaler. The company has rolled out a brand-new data collection initiative in order to better understand its customers, and they’ve recently collected information about their most popular products.  \n",
    "\n",
    "While the data collected is accurate, everything is terribly formatted. Your task is to clean up this data so that other members of the team can properly analyze it. Below is a description of the columns of data in this CSV and the current formatting issues that you will need to solve.\n",
    "\n",
    "\n",
    "- `Product Name`\n",
    "  - **Description**: Contains the name of each product.\n",
    "  - **Problem**: Product names have mixed casing, extra padding, and, in some cases, random hyphens.\n",
    "    - **Example**:  `\"   ---- iPhone \"`, instead of `\"iPhone\"`\n",
    "- `Customer Name`\n",
    "  - **Description**: Contains name of the customer who ordered the product.\n",
    "  - **Problem**: Customer names are all lower cased, but should be title cased. They also have extra padding.\n",
    "    - **Example**: `\" jane smith     \"` instead of `\"Jane Smith\"`\n",
    "- `Product Price`\n",
    "  - **Description**: Contains the price of each product.\n",
    "  - **Problem**: Prices are imported as strings, but should be `float` values. In addition, some are negative, but should be positive.\n",
    "    - **Example**: `\"-149.22\"` instead of `149.22`\n",
    "- `Quantity Sold`\n",
    "  - **Description**: Number of units of each product sold.\n",
    "  - **Problem**: Quantities sold are imported as strings, but should be `int` values. Like `Product Price`, some of these values are negative, but should be positive.\n",
    "    - **Example**: `\"-29\"` instead of `29`\n",
    "\n",
    "After you have performed the above tasks, you will output your cleaned data into a new CSV and submit that as part of your final deliverable. \n",
    "\n",
    "---\n",
    "\n",
    "### Getting Started\n",
    "To get started, download the following files:\n",
    "- `Unit 18 - Business - Unsolved.ipynb` (_this notebook_)\n",
    "- `sales_data.csv`\n",
    "\n",
    "Place these together in to a dedicated directory on your hard drive. We recommend creating a folder in your `Documents` directory for this week of class, as follows:\n",
    "\n",
    "```\n",
    "Documents/\n",
    "  Term III/\n",
    "      Unit 18 - Business - Unsolved.ipynb\n",
    "      sales_data.csv\n",
    "```\n",
    "\n",
    "Then, start Jupyter Notebook and open `Unit 18 - Business - Unsolved.ipynb` in your browser. Make sure the `sales_data.csv` file lives in the same directory.\n",
    "\n",
    "---\n",
    "\n",
    "### Problem Structure\n",
    "Each problem will be accompanied by:\n",
    "- **Instructions**\n",
    "  - Each problem features a markdown cell explaining the problem.\n",
    "- **Unfinished Code Cells**\n",
    "  - Each problem has unfinished code cells, where you will write code to solve the problem.\n",
    "  - Cells will contain either starter code for you to finish, or a comment explaining what your code should do.\n",
    "- **Expected Output**. \n",
    "  - Many unfinished code cells will have output below them. You will be expected to write code that produces the same output.\n",
    "  - Some unfinished code cells do _not_ have output below them. This is simply because not all code will generate output. Your solutions for these cells should _not_ print anything.\n",
    "\n",
    "\n",
    "---\n",
    "  \n",
    "### Deliverables\n",
    "To receive credit for this assignment, you must submit the following files:\n",
    "- Your completed Jupyter Notebook\n",
    "- `sales_data_SOLUTION.csv`\n",
    "\n",
    "Your completed Jupyter Notebook will be this file, but with all of the problems solved. One of these problems will require you to generate a file called `sales_data_SOLUTION.csv`, which you will also submit.\n",
    "\n",
    "When you're done with the assignment, run all cells to verify that your code executes as expected. Then, save and submit this notebook, _and_ the `sales_data_SOLUTION.csv` it generates.\n",
    "\n",
    "Good luck!\n",
    "\n",
    "---"
   ]
  },
  {
   "cell_type": "markdown",
   "metadata": {},
   "source": [
    "## Part 1: Loading & Splitting CSVs\n",
    "In this section, you will focus on loading the data and using it to create a dictionary \"spreadsheet\". Specifically, your tasks will be to:\n",
    "- Load the CSV file and separate column names from data rows\n",
    "- Split and organize information in each data row according to its appropriate column\n",
    "- Create a dictionary where each column name is a key whose value is the corresponding column data"
   ]
  },
  {
   "cell_type": "markdown",
   "metadata": {},
   "source": [
    "### Problem 1: Loading the CSV\n",
    "Load the CSV file and separate column names from data rows. The comments in the cells below provide step-by-step instructions to solve this problem. In the first cell below, you've also been provided with the `filename` you need to load.\n",
    "\n",
    "When you're done, your code should print the following:\n",
    "\n",
    "```\n",
    "Product Name,Customer Name,Product Price,Quantity Sold\n",
    "\n",
    "['   seagate hdd ,Joshua Torres,2191.2017023427293,-30', ' MACBOOK PRO.       ,Mckenzie Hodges,412.29742222886625,94', 'fishsticks,Yolanda Gill,1139.56145689279,22', '100 oil barrels,Carla Lowery MD,1871.4157212395978,32', ' --- eucalyptus mint candle ,Wanda Green,1271.0341148632322,75']\n",
    "```\n",
    "<hr>"
   ]
  },
  {
   "cell_type": "code",
   "execution_count": 2,
   "metadata": {},
   "outputs": [],
   "source": [
    "# Provided Code -- Do NOT Edit!\n",
    "filename = 'sales_data.csv'"
   ]
  },
  {
   "cell_type": "code",
   "execution_count": 3,
   "metadata": {},
   "outputs": [],
   "source": [
    "# TODO: `open` `sales_data.csv`, then `read` it using `splitlines` into a variable called `contents`\n",
    "file = open(filename, \"r\")\n",
    "contents = file.read().splitlines()"
   ]
  },
  {
   "cell_type": "code",
   "execution_count": 4,
   "metadata": {},
   "outputs": [],
   "source": [
    "# TODO: Extract first row of `contents` into a variable called `headers`\n",
    "headers = contents[0]"
   ]
  },
  {
   "cell_type": "code",
   "execution_count": 5,
   "metadata": {},
   "outputs": [],
   "source": [
    "# TODO: Extract the rest of the rows from `contents` into a variable called `data`\n",
    "data = contents[1:]"
   ]
  },
  {
   "cell_type": "code",
   "execution_count": 6,
   "metadata": {
    "scrolled": true
   },
   "outputs": [
    {
     "name": "stdout",
     "output_type": "stream",
     "text": [
      "Product Name,Customer Name,Product Price,Quantity Sold\n",
      "\n",
      "['   seagate hdd ,Joshua Torres,2191.2017023427293,-30', ' MACBOOK PRO.       ,Mckenzie Hodges,412.29742222886625,94', 'fishsticks,Yolanda Gill,1139.56145689279,22', '100 oil barrels,Carla Lowery MD,1871.4157212395978,32', ' --- eucalyptus mint candle ,Wanda Green,1271.0341148632322,75']\n"
     ]
    }
   ],
   "source": [
    "# TODO: Print `headers`\n",
    "print(headers)\n",
    "\n",
    "print()\n",
    "\n",
    "# TODO: Print first five elements of `data`\n",
    "print(data[:5])"
   ]
  },
  {
   "cell_type": "markdown",
   "metadata": {},
   "source": [
    "### Problem 2: Splitting Data\n",
    "Now, you will split and organize information in each data row according to its appropriate column. You have been provided with a set of empty list variables, corresponding to the columns of a spreadsheet.\n",
    "\n",
    "To solve this problem, you must write a for loop that iterates over each row of data, splits each line into its constituent elements, and appends each element of the split to the appropriate column variable.\n",
    "\n",
    "---\n",
    "\n",
    "**Hints**\n",
    "- Recall that you can \"unpack\" lists, e.g., after  `first_name, last_name = [\"John\", \"Doe\"]`, `first_name` contains `\"John\"`, and `last_name` contains `\"Doe\"`."
   ]
  },
  {
   "cell_type": "code",
   "execution_count": 7,
   "metadata": {},
   "outputs": [],
   "source": [
    "product_names = []\n",
    "customer_names = []\n",
    "product_prices = []\n",
    "quantities_sold = []"
   ]
  },
  {
   "cell_type": "code",
   "execution_count": 8,
   "metadata": {},
   "outputs": [],
   "source": [
    "headers = headers.lower().replace(' ','_').split(',')\n",
    "\n",
    "# TODO: Iterate over rows\n",
    "for row in data:\n",
    "        \n",
    "    # TODO: Split row\n",
    "    split_row = row.split(\",\")\n",
    "    \n",
    "    # TODO: Unpack split\n",
    "    product_name = split_row[0]\n",
    "    customer_name = split_row[1]\n",
    "    product_price = split_row[2]\n",
    "    quantity_sold = split_row[3]   \n",
    "    \n",
    "    # TODO: Append elements to appropriate columns\n",
    "    product_names.append(product_name)\n",
    "    customer_names.append(customer_name)\n",
    "    product_prices.append(product_price)\n",
    "    quantities_sold.append(quantity_sold)"
   ]
  },
  {
   "cell_type": "markdown",
   "metadata": {},
   "source": [
    "### Problem 3: Creating a Spreadsheet from a Dictionary\n",
    "Create a dictionary, called `spreadsheet`, where each column name is a key whose value is the corresponding column data. After creating the dictionary, you will use `items` to print each column's name and first 2 values.\n",
    "\n",
    "Your code should print the following:\n",
    "\n",
    "```\n",
    "product_name: ['   seagate hdd ', ' MACBOOK PRO.       ']\n",
    "customer_name: ['Joshua Torres', 'Mckenzie Hodges']\n",
    "product_price: ['2191.2017023427293', '412.29742222886625']\n",
    "quantity_sold: ['-30', '94']\n",
    "```\n",
    "\n",
    "---\n",
    "\n",
    "**Hints**\n",
    "- Be sure your answer is correct before moving on, as you'll use the `spreadsheet` variable to solve the next problem(s).\n",
    "\n",
    "The comments in the cells below provide step-by-step instructions to solve this problem."
   ]
  },
  {
   "cell_type": "code",
   "execution_count": 9,
   "metadata": {},
   "outputs": [],
   "source": [
    "# TODO: Define `spreadsheet` dictionary\n",
    "spreadsheet = {\n",
    "    headers[0]: product_names,\n",
    "    headers[1]: customer_names,\n",
    "    headers[2]: product_prices,\n",
    "    headers[3]: quantities_sold,\n",
    "}"
   ]
  },
  {
   "cell_type": "code",
   "execution_count": 10,
   "metadata": {},
   "outputs": [
    {
     "name": "stdout",
     "output_type": "stream",
     "text": [
      "product_name:['   seagate hdd ', ' MACBOOK PRO.       ']\n",
      "customer_name:['Joshua Torres', 'Mckenzie Hodges']\n",
      "product_price:['2191.2017023427293', '412.29742222886625']\n",
      "quantity_sold:['-30', '94']\n"
     ]
    }
   ],
   "source": [
    "# TODO: Iterate over items of `spreadsheet`\n",
    "for key, value in spreadsheet.items():\n",
    "    # TODO: Print column name and first two elements of data\n",
    "    print(str(key) + ':' + str(value[:2]))"
   ]
  },
  {
   "cell_type": "markdown",
   "metadata": {},
   "source": [
    "## Part 2: Cleaning Data with List Comprehensions\n",
    "Now that your data is loaded, it's time to clean it. "
   ]
  },
  {
   "cell_type": "markdown",
   "metadata": {},
   "source": [
    "### Problem 1: Normalizing Strings\n",
    "Your task is to make the following changes to your `spreadsheet`:\n",
    "- Strip and title case each element in the the `customer_name` column\n",
    "- Strip, title case, and remove special characters from the `product_name` column. Specifically, you must remove the `-` and `.` characters from each element.\n",
    "\n",
    "---\n",
    "\n",
    "**Hint**\n",
    "- Recall that methods can be \"chained\" — i.e., you can do things like `name.strip().upper()` all at once.\n",
    "- You will need to use `replace` twice to reformat the Product Names column, e.g.: `\"  !?fish?! \".replace('?', '').replace('!', '')`.\n",
    "- Recall that you can use list comprehensions to update a list \"in-place\", e.g.:\n",
    "  - `original_list = [element.upper() for element in original_list]`\n",
    "  - This updates the `original_list` with uppercase versions of its original contents.\n",
    "  - Note that you do _not_ need to use a `for` loop or create a new, \"intermediate\" list."
   ]
  },
  {
   "cell_type": "code",
   "execution_count": 31,
   "metadata": {},
   "outputs": [],
   "source": [
    "# TODO: Strip and title case each element in the the `customer_name` column\n",
    "spreadsheet[\"customer_name\"] = [name.strip().title() for name in spreadsheet[\"customer_name\"]]"
   ]
  },
  {
   "cell_type": "code",
   "execution_count": 32,
   "metadata": {},
   "outputs": [],
   "source": [
    "# TODO: Strip, title case, and remove special characters from the `product_name` column\n",
    "spreadsheet[\"product_name\"] = [product.strip().title().strip(\"--- \") for product in spreadsheet[\"product_name\"]]"
   ]
  },
  {
   "cell_type": "markdown",
   "metadata": {},
   "source": [
    "Next, use `items` to iterate over `spreadsheet` and for each column, print its name and first two values. Your code should print the following:\n",
    "\n",
    "```\n",
    "product_name: ['Seagate Hdd', 'Macbook Pro']\n",
    "customer_name: ['Joshua Torres', 'Mckenzie Hodges']\n",
    "product_price: ['2191.2017023427293', '412.29742222886625']\n",
    "quantity_sold: ['-30', '94']\n",
    "```"
   ]
  },
  {
   "cell_type": "code",
   "execution_count": 33,
   "metadata": {},
   "outputs": [
    {
     "name": "stdout",
     "output_type": "stream",
     "text": [
      "product_name:['Seagate Hdd', 'Macbook Pro.']\n",
      "customer_name:['Joshua Torres', 'Mckenzie Hodges']\n",
      "product_price:['2191.2017023427293', '412.29742222886625']\n",
      "quantity_sold:['-30', '94']\n"
     ]
    }
   ],
   "source": [
    "# TODO: Iterate over items of `spreadsheet`\n",
    "for key, value in spreadsheet.items():\n",
    "    \n",
    "    # TODO: Print column name and first two elements\n",
    "    print(str(key) +':' + str(value[:2]))"
   ]
  },
  {
   "cell_type": "markdown",
   "metadata": {},
   "source": [
    "### Problem 2: Casting Data Types\n",
    "Fix the numerical data types. Specifically:\n",
    "- Convert the elements in `product_price` to `float` values\n",
    "- Convert the elements in `quantity_sold` to `int` values"
   ]
  },
  {
   "cell_type": "code",
   "execution_count": 34,
   "metadata": {},
   "outputs": [],
   "source": [
    "# TODO: Convert the elements in `product_price` to `float` value\n",
    "spreadsheet[\"product_price\"] = [float(price) for price in spreadsheet[\"product_price\"]]"
   ]
  },
  {
   "cell_type": "code",
   "execution_count": 35,
   "metadata": {},
   "outputs": [],
   "source": [
    "# TODO: Convert the elements in `quantity_sold` to `int` values\n",
    "spreadsheet[\"quantity_sold\"] = [int(quantity) for quantity in spreadsheet[\"quantity_sold\"]]"
   ]
  },
  {
   "cell_type": "markdown",
   "metadata": {},
   "source": [
    "Next, use `items` to iterate over `spreadsheet` and for each column, print its name and first two values. Your code should print the following:\n",
    "\n",
    "```\n",
    "product_name: ['Seagate Hdd', 'Macbook Pro']\n",
    "customer_name: ['Joshua Torres', 'Mckenzie Hodges']\n",
    "product_price: [2191.2017023427293, 412.29742222886625]\n",
    "quantity_sold: [-30, 94]\n",
    "```"
   ]
  },
  {
   "cell_type": "code",
   "execution_count": 36,
   "metadata": {},
   "outputs": [
    {
     "name": "stdout",
     "output_type": "stream",
     "text": [
      "product_name:['Seagate Hdd', 'Macbook Pro.']\n",
      "customer_name:['Joshua Torres', 'Mckenzie Hodges']\n",
      "product_price:[2191.2017023427293, 412.29742222886625]\n",
      "quantity_sold:[-30, 94]\n"
     ]
    }
   ],
   "source": [
    "# TODO: Iterate over items of `spreadsheet`\n",
    "for key, value in spreadsheet.items():\n",
    "    \n",
    "    # TODO: Print column name and first two elements\n",
    "    print(str(key) + ':' + str(value[:2]))"
   ]
  },
  {
   "cell_type": "markdown",
   "metadata": {},
   "source": [
    "### Problem 3: Flipping Negative Values\n",
    "Finally, you must convert any negative product prices or quantities sold into _positive_ numbers. Follow the steps below:\n",
    "- Force all elements of `product_price` to be positive\n",
    "- Force all elements of `quantity_sold` to be positive\n",
    "\n",
    "\n",
    "**Hint**\n",
    "- Use an `if`/`else` statement in your list comprehension to convert negative numbers."
   ]
  },
  {
   "cell_type": "code",
   "execution_count": 37,
   "metadata": {},
   "outputs": [],
   "source": [
    "# TODO: Force prices to be positive\n",
    "prices = []\n",
    "\n",
    "for price in spreadsheet[\"product_price\"]:\n",
    "    if price < 0:\n",
    "        prices.append(abs(price))\n",
    "    else:\n",
    "        prices.append(price)\n",
    "        \n",
    "spreadsheet[\"product_price\"] = prices"
   ]
  },
  {
   "cell_type": "code",
   "execution_count": 38,
   "metadata": {},
   "outputs": [],
   "source": [
    "# TODO: Force quantities_sold to be positive\n",
    "quantities = []\n",
    "\n",
    "for quantity in spreadsheet[\"quantity_sold\"]:\n",
    "    if quantity < 0:\n",
    "        quantities.append(abs(quantity))\n",
    "    else:\n",
    "        quantities.append(quantity)\n",
    "        \n",
    "spreadsheet[\"quantity_sold\"] = quantities"
   ]
  },
  {
   "cell_type": "markdown",
   "metadata": {},
   "source": [
    "## Part 3:  Output a CSV\n",
    "Your cleaning and analysis is complete — well done! It's time to re-export your data to a spreadsheet, so that the next analyst doesn't have to repeat your work.\n",
    "\n",
    "We have imported the `csv` module and defined an `output_filename` for you. Your task is to:\n",
    "- Open the `output_filename`\n",
    "- Create a `DictWriter`\n",
    "- Write `headers` to a new CSV file\n",
    "- Write all rows to the new CSV file\n",
    "- Close the file\n",
    "\n",
    "When you're done, open your CSV file in Excel. The first 10 lines should look as follows:\n",
    "\n",
    "```\n",
    "product_name,customer_name,product_price,quantity_sold\n",
    "Seagate Hdd,Joshua Torres,2191.2017023427293,30\n",
    "Macbook Pro,Mckenzie Hodges,412.29742222886625,94\n",
    "Fishsticks,Yolanda Gill,1139.56145689279,22\n",
    "100 Oil Barrels,Carla Lowery Md,1871.4157212395978,32\n",
    "Eucalyptus Mint Candle,Wanda Green,1271.0341148632322,75\n",
    "Vanilla Sandalwood Candle,Adriana Rodriguez,2316.7236793082125,67\n",
    "Tea Tree Oil Candle,John Williams,113.86301434666332,31\n",
    "Patchouli Oil Shampoo,Justin Dominguez,416.8271078215336,51\n",
    "Lavendar Oil Shampoo,Betty Wiley,2236.3337680983177,88\n",
    "```\n",
    "\n",
    "---\n",
    "\n",
    "**Hints**\n",
    "- Use the call `open(output_filename, 'w+', newline='')` to ensure your CSV has no unnecessary whitespaces.\n",
    "- Recall that writing rows to a CSV file requires a nested `for` loop."
   ]
  },
  {
   "cell_type": "code",
   "execution_count": 39,
   "metadata": {},
   "outputs": [],
   "source": [
    "# Provided Code -- Do NOT Edit!\n",
    "import csv\n",
    "\n",
    "output_filename = 'sales_data_SOLUTION.csv'"
   ]
  },
  {
   "cell_type": "code",
   "execution_count": 40,
   "metadata": {},
   "outputs": [],
   "source": [
    "# TODO: Open the `output_file`\n",
    "output_file = open(output_filename, 'w+', newline='')"
   ]
  },
  {
   "cell_type": "code",
   "execution_count": 41,
   "metadata": {},
   "outputs": [],
   "source": [
    "# TODO: Create a csv.writer\n",
    "writer = csv.writer(output_file)\n",
    "\n",
    "# TODO: Write the CSV headers\n",
    "writer.writerow(spreadsheet.keys())\n",
    "   \n",
    "# TODO: Write the CSV rows\n",
    "for index in range(len(spreadsheet[\"product_name\"])):\n",
    "    row = []\n",
    "    \n",
    "    for headers in spreadsheet.keys():\n",
    "        row.append(spreadsheet[headers][index])\n",
    "    writer.writerow(row)"
   ]
  },
  {
   "cell_type": "code",
   "execution_count": 42,
   "metadata": {},
   "outputs": [],
   "source": [
    "# TODO: Close the `output_file`\n",
    "output_file.close()"
   ]
  }
 ],
 "metadata": {
  "kernelspec": {
   "display_name": "Python 3",
   "language": "python",
   "name": "python3"
  },
  "language_info": {
   "codemirror_mode": {
    "name": "ipython",
    "version": 3
   },
   "file_extension": ".py",
   "mimetype": "text/x-python",
   "name": "python",
   "nbconvert_exporter": "python",
   "pygments_lexer": "ipython3",
   "version": "3.8.5"
  }
 },
 "nbformat": 4,
 "nbformat_minor": 2
}
