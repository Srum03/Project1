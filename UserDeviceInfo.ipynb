{
 "cells": [
  {
   "cell_type": "code",
   "execution_count": 1,
   "metadata": {},
   "outputs": [],
   "source": [
    "import pandas as pd\n",
    "import matplotlib.pyplot as plt\n",
    "\n",
    "%matplotlib inline"
   ]
  },
  {
   "cell_type": "markdown",
   "metadata": {},
   "source": [
    "# Analyzing Top Smartphone Platforms, Manufacturers, and Brands \n",
    "\n",
    "In this assignment, you will play the role of lead data analyst for a regional conglomerate of mobile phone vendors. The organization maintains storefronts in New England, and plans to update its inventory and promotional offerings in the upcoming sales season. \n",
    "\n",
    "They have tasked you to analyze a number of CSVs containing data on top smartphone brands and phone usage. Specifically, you will need to answer the following questions about the cell phone market:\n",
    "- What is the breakdown in terms of platform popularity; i.e. Android and iOS?  \n",
    "- What is the breakdown in terms of popular phone manufacturers? \n",
    "- What is the most popular smartphone brand? \n",
    "- What smartphone brand has the highest average call minutes by user? \n",
    "- What smartphone brand has the highest average SMS usage by user? \n",
    "- What smartphone brand has the highest average data usage by user? \n",
    "\n",
    "This information will help the company plan their purchases for the upcoming year and better position and market certain brands for specific types of users. \n",
    "\n",
    "In order to answer the first two questions, you will first need to merge the `device_info.csv` and `user_device.csv` files. You will complete this in Part 1 of the assignment before proceeding to the analysis in Part 2. In Part 3, you will load and analyze a brand new `usage_all.csv` to answer the remaining questions. \n"
   ]
  },
  {
   "cell_type": "markdown",
   "metadata": {},
   "source": [
    "---\n",
    "\n",
    "### Getting Started\n",
    "To get started, download the following files:\n",
    "- `Unit 21 - Technical - Unsolved.ipynb` (_this notebook_)\n",
    "- `device_info.csv`\n",
    "- `user_device.csv`\n",
    "- `usage_all.csv`\n",
    "\n",
    "Place these together in to a dedicated directory on your hard drive. We recommend creating a folder in your `Documents` directory for this week of class, as follows:\n",
    "\n",
    "```\n",
    "Documents/\n",
    "  Python/\n",
    "    Week21/\n",
    "      Unit 21 - Technical - Unsolved.ipynb\n",
    "      device_info.csv\n",
    "      user_device.csv\n",
    "      usage_all.csv\n",
    "```\n",
    "\n",
    "Then, start Jupyter Notebook and open `Unit 21 - Technical - Unsolved.ipynb` in your browser. Make sure the `device_info.csv`, `user_device.csv` and `usage_all.csv` files live in the same directory.\n",
    "\n",
    "### Problem Structure\n",
    "Each problem will be accompanied by:\n",
    "- **Instructions**\n",
    "  - Each problem features a markdown cell explaining the problem.\n",
    "- **Unfinished Code Cells**\n",
    "  - Each problem has unfinished code cells, where you will write code to solve the problem.\n",
    "  - Cells will contain either starter code for you to finish, or a comment explaining what your code should do.\n",
    "- **Expected Output**. \n",
    "  - Many unfinished code cells will have output below them. You will be expected to write code that produces the same output.\n",
    "  - Some unfinished code cells do _not_ have output below them. This is simply because not all code will generate output. Your solutions for these cells should _not_ print anything.\n",
    "  \n",
    "### Deliverables\n",
    "To receive credit for this assignment, you must submit the following files:\n",
    "- Your completed Jupyter Notebook\n",
    "\n",
    "Your completed Jupyter Notebook will be this file, but with all of the problems solved. This is the only file you will need to submit. When you're done with the assignment, run all cells to verify that your code executes as expected. Then, save and submit this notebook.\n",
    "\n",
    "Good luck!"
   ]
  },
  {
   "cell_type": "markdown",
   "metadata": {},
   "source": [
    "## Part 1: Loading & Merging Datasets\n",
    "Before generating any plots, you will load and explore the raw data, then prepare your merged DataFrames."
   ]
  },
  {
   "cell_type": "markdown",
   "metadata": {},
   "source": [
    "### Part 1: Load CSVs\n",
    "Get started by loading `user_device.csv` and `device_info.csv` into the variables `user_device` and `device_info`, respectively."
   ]
  },
  {
   "cell_type": "code",
   "execution_count": 2,
   "metadata": {},
   "outputs": [],
   "source": [
    "# Provided Code -- Do NOT Edit!\n",
    "user_device_csv = 'user_device.csv'"
   ]
  },
  {
   "cell_type": "code",
   "execution_count": 3,
   "metadata": {},
   "outputs": [],
   "source": [
    "# Provided Code -- Do NOT Edit!\n",
    "device_info_csv = 'device_info.csv'"
   ]
  },
  {
   "cell_type": "markdown",
   "metadata": {},
   "source": [
    "#### `user_device`\n",
    "\n",
    "Load `user_device.csv`; print the `head` of the DataFrame and its `dtypes`."
   ]
  },
  {
   "cell_type": "code",
   "execution_count": 4,
   "metadata": {},
   "outputs": [],
   "source": [
    "# TODO: Load `user_device.csv`\n",
    "user_device = pd.read_csv('user_device.csv')"
   ]
  },
  {
   "cell_type": "markdown",
   "metadata": {},
   "source": [
    "Next"
   ]
  },
  {
   "cell_type": "code",
   "execution_count": 5,
   "metadata": {},
   "outputs": [
    {
     "data": {
      "text/html": [
       "<div>\n",
       "<style scoped>\n",
       "    .dataframe tbody tr th:only-of-type {\n",
       "        vertical-align: middle;\n",
       "    }\n",
       "\n",
       "    .dataframe tbody tr th {\n",
       "        vertical-align: top;\n",
       "    }\n",
       "\n",
       "    .dataframe thead th {\n",
       "        text-align: right;\n",
       "    }\n",
       "</style>\n",
       "<table border=\"1\" class=\"dataframe\">\n",
       "  <thead>\n",
       "    <tr style=\"text-align: right;\">\n",
       "      <th></th>\n",
       "      <th>use_id</th>\n",
       "      <th>user_id</th>\n",
       "      <th>platform</th>\n",
       "      <th>platform_version</th>\n",
       "      <th>device</th>\n",
       "      <th>use_type_id</th>\n",
       "    </tr>\n",
       "  </thead>\n",
       "  <tbody>\n",
       "    <tr>\n",
       "      <th>0</th>\n",
       "      <td>22782</td>\n",
       "      <td>26980</td>\n",
       "      <td>ios</td>\n",
       "      <td>10.2</td>\n",
       "      <td>iPhone7,2</td>\n",
       "      <td>2</td>\n",
       "    </tr>\n",
       "    <tr>\n",
       "      <th>1</th>\n",
       "      <td>22783</td>\n",
       "      <td>29628</td>\n",
       "      <td>android</td>\n",
       "      <td>6.0</td>\n",
       "      <td>Nexus 5</td>\n",
       "      <td>3</td>\n",
       "    </tr>\n",
       "  </tbody>\n",
       "</table>\n",
       "</div>"
      ],
      "text/plain": [
       "   use_id  user_id platform  platform_version     device  use_type_id\n",
       "0   22782    26980      ios              10.2  iPhone7,2            2\n",
       "1   22783    29628  android               6.0    Nexus 5            3"
      ]
     },
     "execution_count": 5,
     "metadata": {},
     "output_type": "execute_result"
    }
   ],
   "source": [
    "# TODO: Print `head` of `user_device` \n",
    "user_device.head(2)"
   ]
  },
  {
   "cell_type": "code",
   "execution_count": 6,
   "metadata": {},
   "outputs": [
    {
     "data": {
      "text/plain": [
       "use_id                int64\n",
       "user_id               int64\n",
       "platform             object\n",
       "platform_version    float64\n",
       "device               object\n",
       "use_type_id           int64\n",
       "dtype: object"
      ]
     },
     "execution_count": 6,
     "metadata": {},
     "output_type": "execute_result"
    }
   ],
   "source": [
    "# TODO: Print `dtypes` of `user_device`\n",
    "user_device.dtypes"
   ]
  },
  {
   "cell_type": "markdown",
   "metadata": {},
   "source": [
    "#### `device_info`\n",
    "\n",
    "\n",
    "Load `device_info.csv`; print the `head` of the DataFrame and its `dtypes`."
   ]
  },
  {
   "cell_type": "code",
   "execution_count": 7,
   "metadata": {},
   "outputs": [],
   "source": [
    "# TODO: Load `device_info.csv`\n",
    "device_info = pd.read_csv('device_info.csv')"
   ]
  },
  {
   "cell_type": "code",
   "execution_count": 8,
   "metadata": {},
   "outputs": [
    {
     "data": {
      "text/html": [
       "<div>\n",
       "<style scoped>\n",
       "    .dataframe tbody tr th:only-of-type {\n",
       "        vertical-align: middle;\n",
       "    }\n",
       "\n",
       "    .dataframe tbody tr th {\n",
       "        vertical-align: top;\n",
       "    }\n",
       "\n",
       "    .dataframe thead th {\n",
       "        text-align: right;\n",
       "    }\n",
       "</style>\n",
       "<table border=\"1\" class=\"dataframe\">\n",
       "  <thead>\n",
       "    <tr style=\"text-align: right;\">\n",
       "      <th></th>\n",
       "      <th>Manufacturer</th>\n",
       "      <th>Marketing Name</th>\n",
       "      <th>Make</th>\n",
       "      <th>Model</th>\n",
       "    </tr>\n",
       "  </thead>\n",
       "  <tbody>\n",
       "    <tr>\n",
       "      <th>0</th>\n",
       "      <td>NaN</td>\n",
       "      <td>NaN</td>\n",
       "      <td>AD681H</td>\n",
       "      <td>Smartfren Andromax AD681H</td>\n",
       "    </tr>\n",
       "    <tr>\n",
       "      <th>1</th>\n",
       "      <td>NaN</td>\n",
       "      <td>NaN</td>\n",
       "      <td>FJL21</td>\n",
       "      <td>FJL21</td>\n",
       "    </tr>\n",
       "  </tbody>\n",
       "</table>\n",
       "</div>"
      ],
      "text/plain": [
       "  Manufacturer Marketing Name    Make                      Model\n",
       "0          NaN            NaN  AD681H  Smartfren Andromax AD681H\n",
       "1          NaN            NaN   FJL21                      FJL21"
      ]
     },
     "execution_count": 8,
     "metadata": {},
     "output_type": "execute_result"
    }
   ],
   "source": [
    "# TODO: Print `head` of `device_info`\n",
    "device_info.head(2)"
   ]
  },
  {
   "cell_type": "code",
   "execution_count": 9,
   "metadata": {},
   "outputs": [
    {
     "data": {
      "text/plain": [
       "Manufacturer      object\n",
       "Marketing Name    object\n",
       "Make              object\n",
       "Model             object\n",
       "dtype: object"
      ]
     },
     "execution_count": 9,
     "metadata": {},
     "output_type": "execute_result"
    }
   ],
   "source": [
    "# TODO: Print `dtypes` of `device_info`\n",
    "device_info.dtypes"
   ]
  },
  {
   "cell_type": "markdown",
   "metadata": {},
   "source": [
    "### Problem 2: Merge DataFrames to Create `phones`\n",
    "Perform a left join to merge `user_device` and `device_info`, by joining the `device` column of `user_device` on the `Model` column of `device_info`.\n",
    "\n",
    "Print the `head` of the DataFrame when finished."
   ]
  },
  {
   "cell_type": "code",
   "execution_count": 10,
   "metadata": {},
   "outputs": [],
   "source": [
    "# TODO: Left join `user_devie` and `deviec_info`, with `device` as left column and `Model` as right\n",
    "phones = user_device.merge(right = device_info, how='left', left_on='device', right_on='Model')"
   ]
  },
  {
   "cell_type": "code",
   "execution_count": 11,
   "metadata": {},
   "outputs": [
    {
     "data": {
      "text/html": [
       "<div>\n",
       "<style scoped>\n",
       "    .dataframe tbody tr th:only-of-type {\n",
       "        vertical-align: middle;\n",
       "    }\n",
       "\n",
       "    .dataframe tbody tr th {\n",
       "        vertical-align: top;\n",
       "    }\n",
       "\n",
       "    .dataframe thead th {\n",
       "        text-align: right;\n",
       "    }\n",
       "</style>\n",
       "<table border=\"1\" class=\"dataframe\">\n",
       "  <thead>\n",
       "    <tr style=\"text-align: right;\">\n",
       "      <th></th>\n",
       "      <th>use_id</th>\n",
       "      <th>user_id</th>\n",
       "      <th>platform</th>\n",
       "      <th>platform_version</th>\n",
       "      <th>device</th>\n",
       "      <th>use_type_id</th>\n",
       "      <th>Manufacturer</th>\n",
       "      <th>Marketing Name</th>\n",
       "      <th>Make</th>\n",
       "      <th>Model</th>\n",
       "    </tr>\n",
       "  </thead>\n",
       "  <tbody>\n",
       "    <tr>\n",
       "      <th>0</th>\n",
       "      <td>22782</td>\n",
       "      <td>26980</td>\n",
       "      <td>ios</td>\n",
       "      <td>10.2</td>\n",
       "      <td>iPhone7,2</td>\n",
       "      <td>2</td>\n",
       "      <td>Apple</td>\n",
       "      <td>iPhone 6</td>\n",
       "      <td>iPhone 6</td>\n",
       "      <td>iPhone7,2</td>\n",
       "    </tr>\n",
       "    <tr>\n",
       "      <th>1</th>\n",
       "      <td>22783</td>\n",
       "      <td>29628</td>\n",
       "      <td>android</td>\n",
       "      <td>6.0</td>\n",
       "      <td>Nexus 5</td>\n",
       "      <td>3</td>\n",
       "      <td>LGE</td>\n",
       "      <td>Nexus 5</td>\n",
       "      <td>hammerhead</td>\n",
       "      <td>Nexus 5</td>\n",
       "    </tr>\n",
       "    <tr>\n",
       "      <th>2</th>\n",
       "      <td>22784</td>\n",
       "      <td>28473</td>\n",
       "      <td>android</td>\n",
       "      <td>5.1</td>\n",
       "      <td>SM-G903F</td>\n",
       "      <td>1</td>\n",
       "      <td>Samsung</td>\n",
       "      <td>Galaxy S5 Neo</td>\n",
       "      <td>s5neolte</td>\n",
       "      <td>SM-G903F</td>\n",
       "    </tr>\n",
       "    <tr>\n",
       "      <th>3</th>\n",
       "      <td>22785</td>\n",
       "      <td>15200</td>\n",
       "      <td>ios</td>\n",
       "      <td>10.2</td>\n",
       "      <td>iPhone7,2</td>\n",
       "      <td>3</td>\n",
       "      <td>Apple</td>\n",
       "      <td>iPhone 6</td>\n",
       "      <td>iPhone 6</td>\n",
       "      <td>iPhone7,2</td>\n",
       "    </tr>\n",
       "    <tr>\n",
       "      <th>4</th>\n",
       "      <td>22786</td>\n",
       "      <td>28239</td>\n",
       "      <td>android</td>\n",
       "      <td>6.0</td>\n",
       "      <td>ONE E1003</td>\n",
       "      <td>1</td>\n",
       "      <td>OnePlus</td>\n",
       "      <td>OnePlus</td>\n",
       "      <td>OnePlus</td>\n",
       "      <td>ONE E1003</td>\n",
       "    </tr>\n",
       "  </tbody>\n",
       "</table>\n",
       "</div>"
      ],
      "text/plain": [
       "   use_id  user_id platform  platform_version     device  use_type_id  \\\n",
       "0   22782    26980      ios              10.2  iPhone7,2            2   \n",
       "1   22783    29628  android               6.0    Nexus 5            3   \n",
       "2   22784    28473  android               5.1   SM-G903F            1   \n",
       "3   22785    15200      ios              10.2  iPhone7,2            3   \n",
       "4   22786    28239  android               6.0  ONE E1003            1   \n",
       "\n",
       "  Manufacturer Marketing Name        Make      Model  \n",
       "0        Apple       iPhone 6    iPhone 6  iPhone7,2  \n",
       "1          LGE        Nexus 5  hammerhead    Nexus 5  \n",
       "2      Samsung  Galaxy S5 Neo    s5neolte   SM-G903F  \n",
       "3        Apple       iPhone 6    iPhone 6  iPhone7,2  \n",
       "4      OnePlus        OnePlus     OnePlus  ONE E1003  "
      ]
     },
     "execution_count": 11,
     "metadata": {},
     "output_type": "execute_result"
    }
   ],
   "source": [
    "# TODO: Print `head` of DataFrame\n",
    "phones.head()"
   ]
  },
  {
   "cell_type": "markdown",
   "metadata": {},
   "source": [
    "## Part 2: Exploring Platform, OS & Device Popularity\n",
    "Now that you've loaded all the data you'll need, you'll use `phones` to answer the first two business questions: \n",
    "\n",
    "- What is the breakdown in terms of platform popularity; i.e. Android and iOS?\n",
    "- What is the breakdown in terms of popular phone manufacturers?\n"
   ]
  },
  {
   "cell_type": "markdown",
   "metadata": {},
   "source": [
    "### Problem 1: Plotting Platform Popularity\n",
    "This problem answers the question: _Which is more popular: Android or iOS?_\n",
    "\n",
    "Follow the steps below:\n",
    "- Use the `user_device` DataFrame to create groups based on device `platform`\n",
    "  - Save the result to a variable called `platform_groups`\n",
    "- Compute the `size` of each group\n",
    "  - Save the result in a variable called `platform_group_sizes`\n",
    "- Plot the `size` of each group as a `pie` chart, with the labels `Android` and `iOS`\n",
    "- Make sure the plot has no `ylabel`\n",
    "- `show` the plot\n",
    "\n",
    "You should see a pie chart with two regions: One for Android, and one for iOS. The Android region should be blue, and significantly larger than the iOS region. "
   ]
  },
  {
   "cell_type": "code",
   "execution_count": 12,
   "metadata": {
    "ExecuteTime": {
     "end_time": "2021-04-08T19:39:39.922624Z",
     "start_time": "2021-04-08T19:39:39.609637Z"
    }
   },
   "outputs": [
    {
     "data": {
      "image/png": "[encoded data removed]",
      "text/plain": [
       "<Figure size 432x288 with 1 Axes>"
      ]
     },
     "metadata": {},
     "output_type": "display_data"
    }
   ],
   "source": [
    "# TODO: Create `platform_groups` based on `platform`\n",
    "platform_groups = user_device.groupby(user_device['platform'].str.title().replace('Ios', 'iOS'))\n",
    "\n",
    "# TODO: Compute `size` of `platform_groups`\n",
    "platform_group_sizes = platform_groups.size()\n",
    "\n",
    "# TODO: Generate `pie` chart from sizes\n",
    "platform_group_sizes.plot(kind='pie')\n",
    "\n",
    "# TODO: Eliminate `ylabel`\n",
    "plt.ylabel('')\n",
    "\n",
    "# TODO: Show plot\n",
    "plt.show()"
   ]
  },
  {
   "cell_type": "markdown",
   "metadata": {},
   "source": [
    "### Problem 2: Plotting Manufacturer Market Share\n",
    "Next, you will create a pie chart showing how many users each manufacturer has. This will answer the question: _Which brands have the most market share?_\n",
    "\n",
    "Follow the steps below:\n",
    "- Use `phones` to create groups based on `Manufacturer`\n",
    "  - Save the result into a variable called `device_manufacturer_groups`\n",
    "- Compute the `size` of these groups\n",
    "  - Save the result into a variable called `device_manufacturer_group_sizes`\n",
    "- Plot the group `size`s as a `pie` chart\n",
    "- Make sure the plot has no `ylabel`\n",
    "- `show` the plot\n",
    "\n",
    "You should see a pie chart with 10 regions: One for each manufacturer. It may look cluttered -- that's okay. You'll fix the clutter in the next problem."
   ]
  },
  {
   "cell_type": "code",
   "execution_count": 13,
   "metadata": {
    "ExecuteTime": {
     "end_time": "2021-04-08T19:39:40.375778Z",
     "start_time": "2021-04-08T19:39:39.929643Z"
    }
   },
   "outputs": [
    {
     "data": {
      "image/png": "[encoded data removed]",
      "text/plain": [
       "<Figure size 432x288 with 1 Axes>"
      ]
     },
     "metadata": {},
     "output_type": "display_data"
    }
   ],
   "source": [
    "# TODO: Create `device_manufacturer_groups` based on `Manufacturer`\n",
    "device_manufacturer_groups = phones.groupby('Manufacturer')\n",
    "\n",
    "# TODO: Compute `size` of `device_manufacturer_groups`\n",
    "device_manufacturer_group_sizes = device_manufacturer_groups.size()\n",
    "\n",
    "# TODO: Generate `pie` chart from sizes\n",
    "device_manufacturer_group_sizes.plot(kind = 'pie')\n",
    "\n",
    "# TODO: Eliminate `ylabel`\n",
    "plt.ylabel('')\n",
    "\n",
    "# TODO: Show plot\n",
    "plt.show()"
   ]
  },
  {
   "cell_type": "markdown",
   "metadata": {},
   "source": [
    "### Problem 3: Creating a Histogram of Manufacturer Market Share\n",
    "The pie chart you just created a little cluttered. In this problem, you'll use the same data to create a bar chart, which communicates the same information with less clutter.\n",
    "\n",
    "Follow the steps below:\n",
    "- Use `phones` to create groups based on `Manufacturer`\n",
    "  - Save the result into a variable called `device_manufacturer_groups`\n",
    "- Compute the `size` of these groups\n",
    "  - Save the result into a variable called `device_manufacturer_group_sizes`\n",
    "- Plot the group `size`s as a `bar` chart\n",
    "- Make sure the plot has no `ylabel`\n",
    "- `show` the plot\n",
    "\n",
    "Note that the only difference from the previous problem is that you will create a `bar` chart instead of a `pie` chart."
   ]
  },
  {
   "cell_type": "code",
   "execution_count": 14,
   "metadata": {
    "ExecuteTime": {
     "end_time": "2021-04-08T19:39:40.946348Z",
     "start_time": "2021-04-08T19:39:40.380443Z"
    }
   },
   "outputs": [
    {
     "data": {
      "image/png": "[encoded data removed]",
      "text/plain": [
       "<Figure size 432x288 with 1 Axes>"
      ]
     },
     "metadata": {
      "needs_background": "light"
     },
     "output_type": "display_data"
    }
   ],
   "source": [
    "# TODO: Create `device_manufacturer_groups` based on `Manufacturer`\n",
    "device_manufacturer_groups = phones.groupby('Manufacturer')\n",
    "\n",
    "# TODO: Compute `size` of `device_manufacturer_groups`\n",
    "device_manufacturer_group_sizes = device_manufacturer_groups.size()\n",
    "\n",
    "# TODO: Generate `bar_chart` chart from sizes\n",
    "device_manufacturer_group_sizes.plot(kind = 'bar')\n",
    "\n",
    "# TODO: Eliminate `ylabel`\n",
    "plt.ylabel('')\n",
    "\n",
    "# TODO: Show plot\n",
    "plt.show()"
   ]
  },
  {
   "cell_type": "markdown",
   "metadata": {},
   "source": [
    "These plots give a clear picture of each platform and manufacturer's market share."
   ]
  },
  {
   "cell_type": "markdown",
   "metadata": {},
   "source": [
    "## Part 3: Deep Dive into Usage Trends\n",
    "In Part 3, you'll answer the remaining business questions. \n",
    "- What is the most popular smartphone brand? \n",
    "- What smartphone brand has the highest average call minutes by user? \n",
    "- What smartphone brand has the highest average SMS usage by user? \n",
    "- What smartphone brand has the highest average data usage by user? \n",
    "\n",
    "First, you will need to load the `usage_all.csv`"
   ]
  },
  {
   "cell_type": "markdown",
   "metadata": {
    "slideshow": {
     "slide_type": "fragment"
    }
   },
   "source": [
    "### Problem 1: Load `usage_all.csv`\n",
    "Start by loading `usage_all.csv`. Then, print the `head` of the DataFrame and its `dtypes`."
   ]
  },
  {
   "cell_type": "code",
   "execution_count": 15,
   "metadata": {},
   "outputs": [],
   "source": [
    "# Provided Code -- Do NOT Edit!\n",
    "usage_all_csv = 'usage_all.csv'"
   ]
  },
  {
   "cell_type": "code",
   "execution_count": 16,
   "metadata": {},
   "outputs": [],
   "source": [
    "# TODO: Read `usage_all_csv`\n",
    "usage_all = pd.read_csv('usage_all.csv')"
   ]
  },
  {
   "cell_type": "code",
   "execution_count": 17,
   "metadata": {},
   "outputs": [
    {
     "data": {
      "text/html": [
       "<div>\n",
       "<style scoped>\n",
       "    .dataframe tbody tr th:only-of-type {\n",
       "        vertical-align: middle;\n",
       "    }\n",
       "\n",
       "    .dataframe tbody tr th {\n",
       "        vertical-align: top;\n",
       "    }\n",
       "\n",
       "    .dataframe thead th {\n",
       "        text-align: right;\n",
       "    }\n",
       "</style>\n",
       "<table border=\"1\" class=\"dataframe\">\n",
       "  <thead>\n",
       "    <tr style=\"text-align: right;\">\n",
       "      <th></th>\n",
       "      <th>outgoing_mins_per_month</th>\n",
       "      <th>outgoing_sms_per_month</th>\n",
       "      <th>monthly_mb</th>\n",
       "      <th>use_id</th>\n",
       "      <th>user_id</th>\n",
       "      <th>platform</th>\n",
       "      <th>platform_version</th>\n",
       "      <th>device</th>\n",
       "      <th>use_type_id</th>\n",
       "      <th>Manufacturer</th>\n",
       "      <th>Marketing Name</th>\n",
       "      <th>Make</th>\n",
       "    </tr>\n",
       "  </thead>\n",
       "  <tbody>\n",
       "    <tr>\n",
       "      <th>0</th>\n",
       "      <td>21.97</td>\n",
       "      <td>4.82</td>\n",
       "      <td>1557.33</td>\n",
       "      <td>22787</td>\n",
       "      <td>12921</td>\n",
       "      <td>android</td>\n",
       "      <td>4.3</td>\n",
       "      <td>GT-I9505</td>\n",
       "      <td>1</td>\n",
       "      <td>Samsung</td>\n",
       "      <td>Galaxy S4</td>\n",
       "      <td>jflte</td>\n",
       "    </tr>\n",
       "    <tr>\n",
       "      <th>1</th>\n",
       "      <td>1710.08</td>\n",
       "      <td>136.88</td>\n",
       "      <td>7267.55</td>\n",
       "      <td>22788</td>\n",
       "      <td>28714</td>\n",
       "      <td>android</td>\n",
       "      <td>6.0</td>\n",
       "      <td>SM-G930F</td>\n",
       "      <td>1</td>\n",
       "      <td>Samsung</td>\n",
       "      <td>Galaxy S7</td>\n",
       "      <td>herolte</td>\n",
       "    </tr>\n",
       "    <tr>\n",
       "      <th>2</th>\n",
       "      <td>1710.08</td>\n",
       "      <td>136.88</td>\n",
       "      <td>7267.55</td>\n",
       "      <td>22789</td>\n",
       "      <td>28714</td>\n",
       "      <td>android</td>\n",
       "      <td>6.0</td>\n",
       "      <td>SM-G930F</td>\n",
       "      <td>1</td>\n",
       "      <td>Samsung</td>\n",
       "      <td>Galaxy S7</td>\n",
       "      <td>herolte</td>\n",
       "    </tr>\n",
       "    <tr>\n",
       "      <th>3</th>\n",
       "      <td>94.46</td>\n",
       "      <td>35.17</td>\n",
       "      <td>519.12</td>\n",
       "      <td>22790</td>\n",
       "      <td>29592</td>\n",
       "      <td>android</td>\n",
       "      <td>5.1</td>\n",
       "      <td>D2303</td>\n",
       "      <td>1</td>\n",
       "      <td>Sony</td>\n",
       "      <td>Xperia M2</td>\n",
       "      <td>D2303</td>\n",
       "    </tr>\n",
       "    <tr>\n",
       "      <th>4</th>\n",
       "      <td>71.59</td>\n",
       "      <td>79.26</td>\n",
       "      <td>1557.33</td>\n",
       "      <td>22792</td>\n",
       "      <td>28217</td>\n",
       "      <td>android</td>\n",
       "      <td>5.1</td>\n",
       "      <td>SM-G361F</td>\n",
       "      <td>1</td>\n",
       "      <td>Samsung</td>\n",
       "      <td>Galaxy Core Prime</td>\n",
       "      <td>coreprimevelte</td>\n",
       "    </tr>\n",
       "  </tbody>\n",
       "</table>\n",
       "</div>"
      ],
      "text/plain": [
       "   outgoing_mins_per_month  outgoing_sms_per_month  monthly_mb  use_id  \\\n",
       "0                    21.97                    4.82     1557.33   22787   \n",
       "1                  1710.08                  136.88     7267.55   22788   \n",
       "2                  1710.08                  136.88     7267.55   22789   \n",
       "3                    94.46                   35.17      519.12   22790   \n",
       "4                    71.59                   79.26     1557.33   22792   \n",
       "\n",
       "   user_id platform  platform_version    device  use_type_id Manufacturer  \\\n",
       "0    12921  android               4.3  GT-I9505            1      Samsung   \n",
       "1    28714  android               6.0  SM-G930F            1      Samsung   \n",
       "2    28714  android               6.0  SM-G930F            1      Samsung   \n",
       "3    29592  android               5.1     D2303            1         Sony   \n",
       "4    28217  android               5.1  SM-G361F            1      Samsung   \n",
       "\n",
       "      Marketing Name            Make  \n",
       "0          Galaxy S4           jflte  \n",
       "1          Galaxy S7         herolte  \n",
       "2          Galaxy S7         herolte  \n",
       "3          Xperia M2           D2303  \n",
       "4  Galaxy Core Prime  coreprimevelte  "
      ]
     },
     "execution_count": 17,
     "metadata": {},
     "output_type": "execute_result"
    }
   ],
   "source": [
    "# TODO: Print `head` of `usage_all`\n",
    "usage_all.head()"
   ]
  },
  {
   "cell_type": "code",
   "execution_count": 18,
   "metadata": {},
   "outputs": [
    {
     "data": {
      "text/plain": [
       "outgoing_mins_per_month    float64\n",
       "outgoing_sms_per_month     float64\n",
       "monthly_mb                 float64\n",
       "use_id                       int64\n",
       "user_id                      int64\n",
       "platform                    object\n",
       "platform_version           float64\n",
       "device                      object\n",
       "use_type_id                  int64\n",
       "Manufacturer                object\n",
       "Marketing Name              object\n",
       "Make                        object\n",
       "dtype: object"
      ]
     },
     "execution_count": 18,
     "metadata": {},
     "output_type": "execute_result"
    }
   ],
   "source": [
    "# TODO: Print `dtypes` of `usage_all`\n",
    "usage_all.dtypes"
   ]
  },
  {
   "cell_type": "markdown",
   "metadata": {},
   "source": [
    "### Problem 2: Identify the Most Popular Smartphones\n",
    "Generate a list of the 5 most popular smartphones. Follow the steps below:\n",
    "- Use `value_counts` to find the most popular devices in `usage_all`\n",
    "- Extract the `Marketing Name` of the most popular device\n",
    "\n",
    "Your code should print the following:\n",
    "\n",
    "```\n",
    "SM-G900F                  30\n",
    "GT-I9505                  11\n",
    "ONEPLUS A3003              7\n",
    "SM-G935F                   5\n",
    "SM-G361F                   5\n",
    "SM-G920F                   5\n",
    "...\n",
    "\n",
    "13    Galaxy S5\n",
    "Name: Marketing Name, dtype: object\n",
    "```\n",
    "\n",
    "\n",
    "**Hints**\n",
    "- Use the `device` column."
   ]
  },
  {
   "cell_type": "code",
   "execution_count": 19,
   "metadata": {},
   "outputs": [
    {
     "data": {
      "text/plain": [
       "SM-G900F                  30\n",
       "GT-I9505                  11\n",
       "ONEPLUS A3003              7\n",
       "SM-G361F                   5\n",
       "SM-J320FN                  5\n",
       "SM-G920F                   5\n",
       "SM-N910F                   5\n",
       "HTC Desire 510             5\n",
       "SM-G935F                   5\n",
       "SM-G925F                   4\n",
       "Moto G (4)                 4\n",
       "F3111                      4\n",
       "SM-A300FU                  4\n",
       "GT-I9515                   3\n",
       "HTC Desire 825             3\n",
       "SM-G930F                   3\n",
       "GT-I9195                   3\n",
       "HTC One mini 2             3\n",
       "D6603                      2\n",
       "ONE A2003                  2\n",
       "GT-I9300                   2\n",
       "GT-N7100                   2\n",
       "HTC Desire 626             2\n",
       "SM-G360F                   2\n",
       "HTC One S                  2\n",
       "A0001                      2\n",
       "D5503                      2\n",
       "D2303                      2\n",
       "SM-A310F                   2\n",
       "X11                        2\n",
       "SM-G903F                   2\n",
       "Vodafone Smart ultra 6     1\n",
       "Lenovo K51c78              1\n",
       "MotoE2(4G-LTE)             1\n",
       "SM-A500FU                  1\n",
       "LG-H815                    1\n",
       "C6603                      1\n",
       "EVA-L09                    1\n",
       "Nexus 5X                   1\n",
       "E6653                      1\n",
       "HTC Desire 620             1\n",
       "HUAWEI CUN-L01             1\n",
       "GT-I8190N                  1\n",
       "D5803                      1\n",
       "HTC Desire 530             1\n",
       "HTC One_M8                 1\n",
       "HUAWEI VNS-L31             1\n",
       "GT-I9506                   1\n",
       "iPhone6,2                  1\n",
       "VF-795                     1\n",
       "HTC One M9                 1\n",
       "SM-N9005                   1\n",
       "SM-G531F                   1\n",
       "SM-G800F                   1\n",
       "iPhone7,2                  1\n",
       "Name: device, dtype: int64"
      ]
     },
     "execution_count": 19,
     "metadata": {},
     "output_type": "execute_result"
    }
   ],
   "source": [
    "# TODO: Count `device` column in descending order\n",
    "usage_all.device.value_counts()"
   ]
  },
  {
   "cell_type": "code",
   "execution_count": 20,
   "metadata": {},
   "outputs": [
    {
     "data": {
      "text/html": [
       "<div>\n",
       "<style scoped>\n",
       "    .dataframe tbody tr th:only-of-type {\n",
       "        vertical-align: middle;\n",
       "    }\n",
       "\n",
       "    .dataframe tbody tr th {\n",
       "        vertical-align: top;\n",
       "    }\n",
       "\n",
       "    .dataframe thead th {\n",
       "        text-align: right;\n",
       "    }\n",
       "</style>\n",
       "<table border=\"1\" class=\"dataframe\">\n",
       "  <thead>\n",
       "    <tr style=\"text-align: right;\">\n",
       "      <th></th>\n",
       "      <th>outgoing_mins_per_month</th>\n",
       "      <th>outgoing_sms_per_month</th>\n",
       "      <th>monthly_mb</th>\n",
       "      <th>use_id</th>\n",
       "      <th>user_id</th>\n",
       "      <th>platform</th>\n",
       "      <th>platform_version</th>\n",
       "      <th>device</th>\n",
       "      <th>use_type_id</th>\n",
       "      <th>Manufacturer</th>\n",
       "      <th>Marketing Name</th>\n",
       "      <th>Make</th>\n",
       "    </tr>\n",
       "  </thead>\n",
       "  <tbody>\n",
       "    <tr>\n",
       "      <th>13</th>\n",
       "      <td>324.34</td>\n",
       "      <td>92.52</td>\n",
       "      <td>519.12</td>\n",
       "      <td>22808</td>\n",
       "      <td>29065</td>\n",
       "      <td>android</td>\n",
       "      <td>6.0</td>\n",
       "      <td>SM-G900F</td>\n",
       "      <td>1</td>\n",
       "      <td>Samsung</td>\n",
       "      <td>Galaxy S5</td>\n",
       "      <td>klte</td>\n",
       "    </tr>\n",
       "  </tbody>\n",
       "</table>\n",
       "</div>"
      ],
      "text/plain": [
       "    outgoing_mins_per_month  outgoing_sms_per_month  monthly_mb  use_id  \\\n",
       "13                   324.34                   92.52      519.12   22808   \n",
       "\n",
       "    user_id platform  platform_version    device  use_type_id Manufacturer  \\\n",
       "13    29065  android               6.0  SM-G900F            1      Samsung   \n",
       "\n",
       "   Marketing Name  Make  \n",
       "13      Galaxy S5  klte  "
      ]
     },
     "execution_count": 20,
     "metadata": {},
     "output_type": "execute_result"
    }
   ],
   "source": [
    "# TODO: Note the value of the `Marketing Name` column: `Galaxy S5`  \n",
    "usage_all[usage_all['Marketing Name'] == 'Galaxy S5'].head(1)"
   ]
  },
  {
   "cell_type": "code",
   "execution_count": 21,
   "metadata": {},
   "outputs": [
    {
     "data": {
      "text/plain": [
       "13    Galaxy S5\n",
       "Name: Marketing Name, dtype: object"
      ]
     },
     "execution_count": 21,
     "metadata": {},
     "output_type": "execute_result"
    }
   ],
   "source": [
    "# TODO: Get the `Marketing Name` associated with `device == SM-G900F` directly\n",
    "usage_all.loc[usage_all['device'] == 'SM-G900F','Marketing Name'].head(1)"
   ]
  },
  {
   "cell_type": "markdown",
   "metadata": {},
   "source": [
    "This result shows that the Samsung SM-G900F, marketed as the **Galaxy S5**, is the most popular phone in the dataset."
   ]
  },
  {
   "cell_type": "markdown",
   "metadata": {},
   "source": [
    "### Problem 3: Finding the Smartphone with the Most Average Call Minutes\n",
    "Next, you will find the phone favored by users who call a lot. Follow the steps below:\n",
    "- Use `usage_all` to generate groups based on `device`\n",
    "  - Save the result into a variable called `device_groups_2`\n",
    "- Compute the `mean` of `device_groups_2`, and save the result into a variable called `device_group_means`\n",
    "- Sort `device_group_means` by `outgoing_mins_per_month`\n",
    "- Print the last 5 items in the sorted DataFrame\n",
    "- Extract the `Marketing Name` of the most popular device\n",
    "\n",
    "<hr>\n",
    "\n",
    "Your code should print the following:\n",
    "\n",
    "```\n",
    "   outgoing_mins_per_month  outgoing_sms_per_month  monthly_mb  use_id  user_id  platform_version  use_type_id\n",
    "device\t\t\t\t\t\t\t\n",
    "D6603\t362.010\t14.190\t7267.550\t22920.5\t18833.000000\t6.0\t1.0\n",
    "ONE A2003\t447.085\t41.445\t2076.450\t22994.5\t22763.000000\t6.0\t1.0\n",
    "iPhone7,2\t681.440\t47.350\t1271.390\t22829.0\t29653.000000\t10.1\t2.0\n",
    "HTC Desire 510\t797.060\t7.670\t12562.488\t22815.0\t23415.000000\t4.4\t1.0\n",
    "SM-G930F\t1161.240\t100.210\t7959.700\t22866.0\t28549.333333\t6.0\t1.0\n",
    "```"
   ]
  },
  {
   "cell_type": "code",
   "execution_count": 22,
   "metadata": {},
   "outputs": [],
   "source": [
    "# TODO: Use `usage_all` to generate groups based on `device`\n",
    "device_groups_2 = usage_all.groupby('device')"
   ]
  },
  {
   "cell_type": "code",
   "execution_count": 23,
   "metadata": {},
   "outputs": [],
   "source": [
    "# TODO: Create `device_group_means`\n",
    "device_group_means = device_groups_2.mean()"
   ]
  },
  {
   "cell_type": "code",
   "execution_count": 24,
   "metadata": {
    "scrolled": true
   },
   "outputs": [
    {
     "data": {
      "text/html": [
       "<div>\n",
       "<style scoped>\n",
       "    .dataframe tbody tr th:only-of-type {\n",
       "        vertical-align: middle;\n",
       "    }\n",
       "\n",
       "    .dataframe tbody tr th {\n",
       "        vertical-align: top;\n",
       "    }\n",
       "\n",
       "    .dataframe thead th {\n",
       "        text-align: right;\n",
       "    }\n",
       "</style>\n",
       "<table border=\"1\" class=\"dataframe\">\n",
       "  <thead>\n",
       "    <tr style=\"text-align: right;\">\n",
       "      <th></th>\n",
       "      <th>outgoing_mins_per_month</th>\n",
       "      <th>outgoing_sms_per_month</th>\n",
       "      <th>monthly_mb</th>\n",
       "      <th>use_id</th>\n",
       "      <th>user_id</th>\n",
       "      <th>platform_version</th>\n",
       "      <th>use_type_id</th>\n",
       "    </tr>\n",
       "    <tr>\n",
       "      <th>device</th>\n",
       "      <th></th>\n",
       "      <th></th>\n",
       "      <th></th>\n",
       "      <th></th>\n",
       "      <th></th>\n",
       "      <th></th>\n",
       "      <th></th>\n",
       "    </tr>\n",
       "  </thead>\n",
       "  <tbody>\n",
       "    <tr>\n",
       "      <th>D6603</th>\n",
       "      <td>362.010</td>\n",
       "      <td>14.190</td>\n",
       "      <td>7267.550</td>\n",
       "      <td>22920.5</td>\n",
       "      <td>18833.000000</td>\n",
       "      <td>6.0</td>\n",
       "      <td>1.0</td>\n",
       "    </tr>\n",
       "    <tr>\n",
       "      <th>ONE A2003</th>\n",
       "      <td>447.085</td>\n",
       "      <td>41.445</td>\n",
       "      <td>2076.450</td>\n",
       "      <td>22994.5</td>\n",
       "      <td>22763.000000</td>\n",
       "      <td>6.0</td>\n",
       "      <td>1.0</td>\n",
       "    </tr>\n",
       "    <tr>\n",
       "      <th>iPhone7,2</th>\n",
       "      <td>681.440</td>\n",
       "      <td>47.350</td>\n",
       "      <td>1271.390</td>\n",
       "      <td>22829.0</td>\n",
       "      <td>29653.000000</td>\n",
       "      <td>10.1</td>\n",
       "      <td>2.0</td>\n",
       "    </tr>\n",
       "    <tr>\n",
       "      <th>HTC Desire 510</th>\n",
       "      <td>797.060</td>\n",
       "      <td>7.670</td>\n",
       "      <td>12562.488</td>\n",
       "      <td>22815.0</td>\n",
       "      <td>23415.000000</td>\n",
       "      <td>4.4</td>\n",
       "      <td>1.0</td>\n",
       "    </tr>\n",
       "    <tr>\n",
       "      <th>SM-G930F</th>\n",
       "      <td>1161.240</td>\n",
       "      <td>100.210</td>\n",
       "      <td>7959.700</td>\n",
       "      <td>22866.0</td>\n",
       "      <td>28549.333333</td>\n",
       "      <td>6.0</td>\n",
       "      <td>1.0</td>\n",
       "    </tr>\n",
       "  </tbody>\n",
       "</table>\n",
       "</div>"
      ],
      "text/plain": [
       "                outgoing_mins_per_month  outgoing_sms_per_month  monthly_mb  \\\n",
       "device                                                                        \n",
       "D6603                           362.010                  14.190    7267.550   \n",
       "ONE A2003                       447.085                  41.445    2076.450   \n",
       "iPhone7,2                       681.440                  47.350    1271.390   \n",
       "HTC Desire 510                  797.060                   7.670   12562.488   \n",
       "SM-G930F                       1161.240                 100.210    7959.700   \n",
       "\n",
       "                 use_id       user_id  platform_version  use_type_id  \n",
       "device                                                                \n",
       "D6603           22920.5  18833.000000               6.0          1.0  \n",
       "ONE A2003       22994.5  22763.000000               6.0          1.0  \n",
       "iPhone7,2       22829.0  29653.000000              10.1          2.0  \n",
       "HTC Desire 510  22815.0  23415.000000               4.4          1.0  \n",
       "SM-G930F        22866.0  28549.333333               6.0          1.0  "
      ]
     },
     "execution_count": 24,
     "metadata": {},
     "output_type": "execute_result"
    }
   ],
   "source": [
    "# TODO: Sort by `outgoing_mins_per_month` and print last 5 elements of result\n",
    "device_group_means.sort_values(by=['outgoing_mins_per_month'], ascending = True).tail(5)"
   ]
  },
  {
   "cell_type": "code",
   "execution_count": 25,
   "metadata": {
    "ExecuteTime": {
     "end_time": "2021-04-08T19:39:46.240681Z",
     "start_time": "2021-04-08T19:39:46.216653Z"
    }
   },
   "outputs": [
    {
     "data": {
      "text/plain": [
       "1    Galaxy S7\n",
       "Name: Marketing Name, dtype: object"
      ]
     },
     "execution_count": 25,
     "metadata": {},
     "output_type": "execute_result"
    }
   ],
   "source": [
    "# TODO: Get the `Marketing Name` associated with the `device` `SM-G930F`\n",
    "usage_all.loc[usage_all['device'] == 'SM-G930F','Marketing Name'].head(1)"
   ]
  },
  {
   "cell_type": "markdown",
   "metadata": {},
   "source": [
    "The **Galaxy S7** is favored by users who use a lot of minutes. It seems that Galaxy phones are favorites across demographics, and should be stocked liberally."
   ]
  },
  {
   "cell_type": "markdown",
   "metadata": {},
   "source": [
    "### Problem 4: Finding the Smartphone with the Highest Average SMS Usage\n",
    "In this problem, you'll find the phones favored by the most active texters. Follow the steps below:\n",
    "- Use `usage_all` to generate groups based on device\n",
    "  - Save the result into a variable called `device_groups_3`\n",
    "- Compute the mean of `device_groups_3`, and save the result into a variable called `device_group_means`\n",
    "- Sort device_group_means by `outgoing_sms_per_month`\n",
    "- Print the last 5 items in the sorted DataFrame\n",
    "- Print the row in `device_info` corresponding to the top result in your sorted DataFrame\n",
    "- Extract the `Marketing Name` of the most popular device\n",
    "\n",
    "<hr>\n",
    "\n",
    "Your code should print the following:\n",
    "\n",
    "```\n",
    "outgoing_mins_per_month\toutgoing_sms_per_month\tmonthly_mb\tuse_id\tuser_id\tplatform_version\tuse_type_id\n",
    "device\t\t\t\t\t\t\t\n",
    "SM-A310F\t103.97\t234.72\t1557.330000\t22849.500000\t29659.0\t6.0\t1.0\n",
    "X11\t60.65\t261.90\t12458.670000\t23004.000000\t18108.0\t4.4\t1.0\n",
    "SM-N9005\t205.11\t273.75\t16611.550000\t22891.000000\t29670.0\t5.0\t1.0\n",
    "HTC One mini 2\t78.80\t327.33\t13842.956667\t22820.333333\t29651.0\t4.4\t1.0\n",
    "iPhone6,2\t50.68\t540.60\t650.920000\t23012.000000\t29711.0\t9.3\t2.0\n",
    "```"
   ]
  },
  {
   "cell_type": "code",
   "execution_count": 26,
   "metadata": {},
   "outputs": [],
   "source": [
    "# TODO: Use `usage_all` to generate groups based on `device`\n",
    "device_groups_3 = usage_all.groupby('device')"
   ]
  },
  {
   "cell_type": "code",
   "execution_count": 27,
   "metadata": {},
   "outputs": [],
   "source": [
    "# TODO: Create `device_group_means`\n",
    "device_group_means = device_groups_3.mean()"
   ]
  },
  {
   "cell_type": "code",
   "execution_count": 28,
   "metadata": {
    "ExecuteTime": {
     "end_time": "2021-04-08T19:39:46.290603Z",
     "start_time": "2021-04-08T19:39:46.245109Z"
    }
   },
   "outputs": [
    {
     "data": {
      "text/html": [
       "<div>\n",
       "<style scoped>\n",
       "    .dataframe tbody tr th:only-of-type {\n",
       "        vertical-align: middle;\n",
       "    }\n",
       "\n",
       "    .dataframe tbody tr th {\n",
       "        vertical-align: top;\n",
       "    }\n",
       "\n",
       "    .dataframe thead th {\n",
       "        text-align: right;\n",
       "    }\n",
       "</style>\n",
       "<table border=\"1\" class=\"dataframe\">\n",
       "  <thead>\n",
       "    <tr style=\"text-align: right;\">\n",
       "      <th></th>\n",
       "      <th>outgoing_mins_per_month</th>\n",
       "      <th>outgoing_sms_per_month</th>\n",
       "      <th>monthly_mb</th>\n",
       "      <th>use_id</th>\n",
       "      <th>user_id</th>\n",
       "      <th>platform_version</th>\n",
       "      <th>use_type_id</th>\n",
       "    </tr>\n",
       "    <tr>\n",
       "      <th>device</th>\n",
       "      <th></th>\n",
       "      <th></th>\n",
       "      <th></th>\n",
       "      <th></th>\n",
       "      <th></th>\n",
       "      <th></th>\n",
       "      <th></th>\n",
       "    </tr>\n",
       "  </thead>\n",
       "  <tbody>\n",
       "    <tr>\n",
       "      <th>SM-A310F</th>\n",
       "      <td>103.97</td>\n",
       "      <td>234.72</td>\n",
       "      <td>1557.330000</td>\n",
       "      <td>22849.500000</td>\n",
       "      <td>29659.0</td>\n",
       "      <td>6.0</td>\n",
       "      <td>1.0</td>\n",
       "    </tr>\n",
       "    <tr>\n",
       "      <th>X11</th>\n",
       "      <td>60.65</td>\n",
       "      <td>261.90</td>\n",
       "      <td>12458.670000</td>\n",
       "      <td>23004.000000</td>\n",
       "      <td>18108.0</td>\n",
       "      <td>4.4</td>\n",
       "      <td>1.0</td>\n",
       "    </tr>\n",
       "    <tr>\n",
       "      <th>SM-N9005</th>\n",
       "      <td>205.11</td>\n",
       "      <td>273.75</td>\n",
       "      <td>16611.550000</td>\n",
       "      <td>22891.000000</td>\n",
       "      <td>29670.0</td>\n",
       "      <td>5.0</td>\n",
       "      <td>1.0</td>\n",
       "    </tr>\n",
       "    <tr>\n",
       "      <th>HTC One mini 2</th>\n",
       "      <td>78.80</td>\n",
       "      <td>327.33</td>\n",
       "      <td>13842.956667</td>\n",
       "      <td>22820.333333</td>\n",
       "      <td>29651.0</td>\n",
       "      <td>4.4</td>\n",
       "      <td>1.0</td>\n",
       "    </tr>\n",
       "    <tr>\n",
       "      <th>iPhone6,2</th>\n",
       "      <td>50.68</td>\n",
       "      <td>540.60</td>\n",
       "      <td>650.920000</td>\n",
       "      <td>23012.000000</td>\n",
       "      <td>29711.0</td>\n",
       "      <td>9.3</td>\n",
       "      <td>2.0</td>\n",
       "    </tr>\n",
       "  </tbody>\n",
       "</table>\n",
       "</div>"
      ],
      "text/plain": [
       "                outgoing_mins_per_month  outgoing_sms_per_month    monthly_mb  \\\n",
       "device                                                                          \n",
       "SM-A310F                         103.97                  234.72   1557.330000   \n",
       "X11                               60.65                  261.90  12458.670000   \n",
       "SM-N9005                         205.11                  273.75  16611.550000   \n",
       "HTC One mini 2                    78.80                  327.33  13842.956667   \n",
       "iPhone6,2                         50.68                  540.60    650.920000   \n",
       "\n",
       "                      use_id  user_id  platform_version  use_type_id  \n",
       "device                                                                \n",
       "SM-A310F        22849.500000  29659.0               6.0          1.0  \n",
       "X11             23004.000000  18108.0               4.4          1.0  \n",
       "SM-N9005        22891.000000  29670.0               5.0          1.0  \n",
       "HTC One mini 2  22820.333333  29651.0               4.4          1.0  \n",
       "iPhone6,2       23012.000000  29711.0               9.3          2.0  "
      ]
     },
     "execution_count": 28,
     "metadata": {},
     "output_type": "execute_result"
    }
   ],
   "source": [
    "# TODO: Sort by `outgoing_sms_per_month` and print last 5 elements of result\n",
    "device_group_means.sort_values(by=['outgoing_sms_per_month'], ascending = True).tail(5)"
   ]
  },
  {
   "cell_type": "code",
   "execution_count": 29,
   "metadata": {
    "ExecuteTime": {
     "end_time": "2021-04-08T19:39:46.349855Z",
     "start_time": "2021-04-08T19:39:46.295832Z"
    }
   },
   "outputs": [
    {
     "data": {
      "text/plain": [
       "132    iPhone 5S (Global)\n",
       "Name: Marketing Name, dtype: object"
      ]
     },
     "execution_count": 29,
     "metadata": {},
     "output_type": "execute_result"
    }
   ],
   "source": [
    "# TODO: Get the `Marketing Name` associated with the `device` `iPhone6,2`\n",
    "usage_all.loc[usage_all['device'] == 'iPhone6,2','Marketing Name'].head(1)"
   ]
  },
  {
   "cell_type": "markdown",
   "metadata": {},
   "source": [
    "The **iPhone 5S** stands out as a favorite of users who text a lot."
   ]
  },
  {
   "cell_type": "markdown",
   "metadata": {},
   "source": [
    "### Problem 5: Finding the Smartphone with the Highest Average Data Usage\n",
    "Finally, you'll find which phones are favored by users who use the most data. Follow the steps below:\n",
    "- Use `usage_all` to generate groups based on device\n",
    "  - Save the result into a variable called `device_groups_4`\n",
    "- Compute the mean of `device_groups_4`, and save the result into a variable called `device_group_means`\n",
    "- Sort device_group_means by `monthly_mb`\n",
    "- Print the last 5 items in the sorted DataFrame\n",
    "- Print the row in `device_info` corresponding to the top result in your sorted DataFrame\n",
    "\n",
    "<hr>\n",
    "\n",
    "Your code should print the following:\n",
    "\n",
    "```\n",
    "    outgoing_mins_per_month\toutgoing_sms_per_month\tmonthly_mb\tuse_id\tuser_id\tplatform_version\tuse_type_id\n",
    "device\t\t\t\t\t\t\t\n",
    "X11\t60.650\t261.90\t12458.670000\t23004.000000\t18108.0\t4.4\t1.0\n",
    "HTC Desire 510\t797.060\t7.67\t12562.488000\t22815.000000\t23415.0\t4.4\t1.0\n",
    "HTC One mini 2\t78.800\t327.33\t13842.956667\t22820.333333\t29651.0\t4.4\t1.0\n",
    "A0001\t170.395\t62.10\t15573.330000\t22822.500000\t25635.0\t6.0\t1.0\n",
    "SM-N9005\t205.110\t273.75\t16611.550000\t22891.000000\t29670.0\t5.0\t1.0\n",
    "\n",
    "Manufacturer\tMarketing Name\tMake\tModel\n",
    "9892\tSamsung\tGalaxy Note3\thlte\tSM-N9005\n",
    "```"
   ]
  },
  {
   "cell_type": "code",
   "execution_count": 30,
   "metadata": {},
   "outputs": [],
   "source": [
    "# TODO: Use `usage_all` to generate groups based on `device`\n",
    "device_groups_4 = usage_all.groupby('device')"
   ]
  },
  {
   "cell_type": "code",
   "execution_count": 31,
   "metadata": {},
   "outputs": [],
   "source": [
    "# TODO: Create `device_group_means`\n",
    "device_group_means = device_groups_4.mean()"
   ]
  },
  {
   "cell_type": "code",
   "execution_count": 32,
   "metadata": {},
   "outputs": [
    {
     "data": {
      "text/html": [
       "<div>\n",
       "<style scoped>\n",
       "    .dataframe tbody tr th:only-of-type {\n",
       "        vertical-align: middle;\n",
       "    }\n",
       "\n",
       "    .dataframe tbody tr th {\n",
       "        vertical-align: top;\n",
       "    }\n",
       "\n",
       "    .dataframe thead th {\n",
       "        text-align: right;\n",
       "    }\n",
       "</style>\n",
       "<table border=\"1\" class=\"dataframe\">\n",
       "  <thead>\n",
       "    <tr style=\"text-align: right;\">\n",
       "      <th></th>\n",
       "      <th>outgoing_mins_per_month</th>\n",
       "      <th>outgoing_sms_per_month</th>\n",
       "      <th>monthly_mb</th>\n",
       "      <th>use_id</th>\n",
       "      <th>user_id</th>\n",
       "      <th>platform_version</th>\n",
       "      <th>use_type_id</th>\n",
       "    </tr>\n",
       "    <tr>\n",
       "      <th>device</th>\n",
       "      <th></th>\n",
       "      <th></th>\n",
       "      <th></th>\n",
       "      <th></th>\n",
       "      <th></th>\n",
       "      <th></th>\n",
       "      <th></th>\n",
       "    </tr>\n",
       "  </thead>\n",
       "  <tbody>\n",
       "    <tr>\n",
       "      <th>X11</th>\n",
       "      <td>60.650</td>\n",
       "      <td>261.90</td>\n",
       "      <td>12458.670000</td>\n",
       "      <td>23004.000000</td>\n",
       "      <td>18108.0</td>\n",
       "      <td>4.4</td>\n",
       "      <td>1.0</td>\n",
       "    </tr>\n",
       "    <tr>\n",
       "      <th>HTC Desire 510</th>\n",
       "      <td>797.060</td>\n",
       "      <td>7.67</td>\n",
       "      <td>12562.488000</td>\n",
       "      <td>22815.000000</td>\n",
       "      <td>23415.0</td>\n",
       "      <td>4.4</td>\n",
       "      <td>1.0</td>\n",
       "    </tr>\n",
       "    <tr>\n",
       "      <th>HTC One mini 2</th>\n",
       "      <td>78.800</td>\n",
       "      <td>327.33</td>\n",
       "      <td>13842.956667</td>\n",
       "      <td>22820.333333</td>\n",
       "      <td>29651.0</td>\n",
       "      <td>4.4</td>\n",
       "      <td>1.0</td>\n",
       "    </tr>\n",
       "    <tr>\n",
       "      <th>A0001</th>\n",
       "      <td>170.395</td>\n",
       "      <td>62.10</td>\n",
       "      <td>15573.330000</td>\n",
       "      <td>22822.500000</td>\n",
       "      <td>25635.0</td>\n",
       "      <td>6.0</td>\n",
       "      <td>1.0</td>\n",
       "    </tr>\n",
       "    <tr>\n",
       "      <th>SM-N9005</th>\n",
       "      <td>205.110</td>\n",
       "      <td>273.75</td>\n",
       "      <td>16611.550000</td>\n",
       "      <td>22891.000000</td>\n",
       "      <td>29670.0</td>\n",
       "      <td>5.0</td>\n",
       "      <td>1.0</td>\n",
       "    </tr>\n",
       "  </tbody>\n",
       "</table>\n",
       "</div>"
      ],
      "text/plain": [
       "                outgoing_mins_per_month  outgoing_sms_per_month    monthly_mb  \\\n",
       "device                                                                          \n",
       "X11                              60.650                  261.90  12458.670000   \n",
       "HTC Desire 510                  797.060                    7.67  12562.488000   \n",
       "HTC One mini 2                   78.800                  327.33  13842.956667   \n",
       "A0001                           170.395                   62.10  15573.330000   \n",
       "SM-N9005                        205.110                  273.75  16611.550000   \n",
       "\n",
       "                      use_id  user_id  platform_version  use_type_id  \n",
       "device                                                                \n",
       "X11             23004.000000  18108.0               4.4          1.0  \n",
       "HTC Desire 510  22815.000000  23415.0               4.4          1.0  \n",
       "HTC One mini 2  22820.333333  29651.0               4.4          1.0  \n",
       "A0001           22822.500000  25635.0               6.0          1.0  \n",
       "SM-N9005        22891.000000  29670.0               5.0          1.0  "
      ]
     },
     "execution_count": 32,
     "metadata": {},
     "output_type": "execute_result"
    }
   ],
   "source": [
    "# TODO: Sort by `monthly_mb` and print last 5 elements of result\n",
    "device_group_means.sort_values(by=['monthly_mb'], ascending = True).tail(5)"
   ]
  },
  {
   "cell_type": "code",
   "execution_count": 33,
   "metadata": {
    "ExecuteTime": {
     "end_time": "2021-04-08T19:39:46.551753Z",
     "start_time": "2021-04-08T19:39:46.412988Z"
    }
   },
   "outputs": [
    {
     "data": {
      "text/plain": [
       "62    Galaxy Note3\n",
       "Name: Marketing Name, dtype: object"
      ]
     },
     "execution_count": 33,
     "metadata": {},
     "output_type": "execute_result"
    }
   ],
   "source": [
    "# TODO: Get the `Marketing Name` associated with the `device` `SM-N9005`\n",
    "usage_all.loc[usage_all['device'] == 'SM-N9005','Marketing Name'].head(1)"
   ]
  },
  {
   "cell_type": "markdown",
   "metadata": {},
   "source": [
    "## Part 4: Wrap-up \n",
    "\n",
    "Review your work and answer the initial questions you had to solve.\n",
    "\n",
    "- What is the breakdown in terms of platform popularity; i.e. Android and iOS?  \n",
    "- What is the breakdown in terms of popular phone manufacturers? \n",
    "- What is the most popular smartphone brand? \n",
    "- What smartphone brand has the highest average call minutes by user? \n",
    "- What smartphone brand has the highest average SMS usage by user? \n",
    "- What smartphone brand has the highest average data usage by user? "
   ]
  },
  {
   "cell_type": "code",
   "execution_count": null,
   "metadata": {},
   "outputs": [],
   "source": [
    "Android phones are more popular than iOS.\n",
    "Samsumg is the most popular phone manufacturer followed by Apple and HTC.\n",
    "Samsung SM-G900F marketed as the Galaxy S5 is the most popular smartphone brand.\n",
    "Galaxy S7 has the highest average call minutes by user.\n",
    "iPhone 5S has the highest average SMS usage by user.\n",
    "Galaxy Note3 has the highest average data usage by user."
   ]
  }
 ],
 "metadata": {
  "kernelspec": {
   "display_name": "Python 3",
   "language": "python",
   "name": "python3"
  },
  "language_info": {
   "codemirror_mode": {
    "name": "ipython",
    "version": 3
   },
   "file_extension": ".py",
   "mimetype": "text/x-python",
   "name": "python",
   "nbconvert_exporter": "python",
   "pygments_lexer": "ipython3",
   "version": "3.8.5"
  }
 },
 "nbformat": 4,
 "nbformat_minor": 4
}
