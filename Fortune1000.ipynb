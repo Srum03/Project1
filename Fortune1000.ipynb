{
 "cells": [
  {
   "cell_type": "markdown",
   "metadata": {},
   "source": [
    "# Fortune 1000 Companies"
   ]
  },
  {
   "cell_type": "markdown",
   "metadata": {},
   "source": [
    "In this assignment, you will play the role of a junior analyst at an investment bank. Your VP is preparing a presentation on how well different economic sectors have been performing relative to one another, as well as how companies within top sectors perform relative to the overall sector. Her slide deck currently contains numerous statements about which sectors and companies have the highest revenue, profit margins, and employee headcounts. While she is confident that the claims are accurate, you've been assigned the task of performing due diligence to generate figures and plots supporting them. \n",
    "\n",
    "You have been tasked to load and clean a CSV file containing information on Fortune 1000 companies, and then analyze it to answer the following questions: \n",
    "- What are the top sectors, in terms of number of companies?  \n",
    "- What are the top sectors, in terms of number of revenue?\n",
    "- What are the top sectors, in terms of number of profit?\n",
    "- What are the top sectors, in terms of number of greatest number of jobs; i.e. employees? \n",
    "- What are the top sectors, in terms of number of profit per employee? \n",
    "- What are the top 3 best performing companies, and how do they compare revenue-wise to their overall sector? \n",
    "\n"
   ]
  },
  {
   "cell_type": "markdown",
   "metadata": {},
   "source": [
    "---\n",
    "\n",
    "### Getting Started\n",
    "To get started, download the following files:\n",
    "- `Unit 21 - Business - Unsolved.ipynb` (_this notebook_)\n",
    "- `fortune1000.csv`\n",
    "\n",
    "Place these together in to a dedicated directory on your hard drive. We recommend creating a folder in your `Documents` directory for this week of class, as follows:\n",
    "\n",
    "```\n",
    "Documents/\n",
    "  Python/\n",
    "    Week21/\n",
    "      Unit 21 - Business - Unsolved.ipynb\n",
    "      fortune1000.csv\n",
    "```\n",
    "\n",
    "Then, start Jupyter Notebook and open `Unit 21 - Business - Unsolved.ipynb` in your browser. Make sure the `fortune1000.csv` file lives in the same directory.\n",
    "\n",
    "### Problem Structure\n",
    "Each problem will be accompanied by:\n",
    "- **Instructions**\n",
    "  - Each problem features a markdown cell explaining the problem.\n",
    "- **Unfinished Code Cells**\n",
    "  - Each problem has unfinished code cells, where you will write code to solve the problem.\n",
    "  - Cells will contain either starter code for you to finish, or a comment explaining what your code should do.\n",
    "- **Expected Output**. \n",
    "  - Many unfinished code cells will have output below them. You will be expected to write code that produces the same output.\n",
    "  - Some unfinished code cells do _not_ have output below them. This is simply because not all code will generate output. Your solutions for these cells should _not_ print anything.\n",
    "  \n",
    "### Deliverables\n",
    "To receive credit for this assignment, you must submit the following files:\n",
    "- Your completed Jupyter Notebook\n",
    "\n",
    "Your completed Jupyter Notebook will be this file, but with all of the problems solved. This is the only file you will need to submit. When you're done with the assignment, run all cells to verify that your code executes as expected. Then, save and submit this notebook.\n",
    "\n",
    "Good luck!"
   ]
  },
  {
   "cell_type": "markdown",
   "metadata": {},
   "source": [
    "## Part 1: Loading and Cleaning Data"
   ]
  },
  {
   "cell_type": "markdown",
   "metadata": {},
   "source": [
    "### Problem 1: Load `fortune_1000.csv`\n",
    "Start by loading the Fortune 1000 dataset into a DataFrame called `fortune` and then print the `head` of the `fortune` DataFrame. Next, drop the `Rank` column in-place, and then print the `head` again to verify the changes. \n",
    "\n",
    "Your code should print the following:\n",
    "\n",
    "```\n",
    "Company\tSector\tIndustry\tLocation\tRevenue\tProfits\tEmployees\n",
    "0\tWalmart\tRetailing\tGeneral Merchandisers\tBentonville, AR\t482130\t14694\t2300000\n",
    "1\tExxon Mobil\tEnergy\tPetroleum Refining\tIrving, TX\t246204\t16150\t75600\n",
    "2\tApple\tTechnology\tComputers, Office Equipment\tCupertino, CA\t233715\t53394\t110000\n",
    "3\tBerkshire Hathaway\tFinancials\tInsurance: Property and Casualty (Stock)\tOmaha, NE\t210821\t24083\t331000\n",
    "4\tMcKesson\tHealth Care\tWholesalers: Health Care\tSan Francisco, CA\t181241\t1476\t70400\n",
    "```"
   ]
  },
  {
   "cell_type": "code",
   "execution_count": 1,
   "metadata": {},
   "outputs": [],
   "source": [
    "# Provided Code -- Do NOT Edit!\n",
    "import matplotlib.pyplot as plt\n",
    "import pandas as pd\n",
    "\n",
    "# Keeps Jupyter Notebook from truncating output\n",
    "pd.set_option('display.max_rows', None)\n",
    "\n",
    "filename = 'fortune1000.csv'"
   ]
  },
  {
   "cell_type": "code",
   "execution_count": 2,
   "metadata": {},
   "outputs": [],
   "source": [
    "# TODO: Read `fortune1000.csv`\n",
    "fortune = pd.read_csv('fortune1000.csv')"
   ]
  },
  {
   "cell_type": "code",
   "execution_count": 3,
   "metadata": {},
   "outputs": [
    {
     "data": {
      "text/html": [
       "<div>\n",
       "<style scoped>\n",
       "    .dataframe tbody tr th:only-of-type {\n",
       "        vertical-align: middle;\n",
       "    }\n",
       "\n",
       "    .dataframe tbody tr th {\n",
       "        vertical-align: top;\n",
       "    }\n",
       "\n",
       "    .dataframe thead th {\n",
       "        text-align: right;\n",
       "    }\n",
       "</style>\n",
       "<table border=\"1\" class=\"dataframe\">\n",
       "  <thead>\n",
       "    <tr style=\"text-align: right;\">\n",
       "      <th></th>\n",
       "      <th>Rank</th>\n",
       "      <th>Company</th>\n",
       "      <th>Sector</th>\n",
       "      <th>Industry</th>\n",
       "      <th>Location</th>\n",
       "      <th>Revenue</th>\n",
       "      <th>Profits</th>\n",
       "      <th>Employees</th>\n",
       "    </tr>\n",
       "  </thead>\n",
       "  <tbody>\n",
       "    <tr>\n",
       "      <th>0</th>\n",
       "      <td>1</td>\n",
       "      <td>Walmart</td>\n",
       "      <td>Retailing</td>\n",
       "      <td>General Merchandisers</td>\n",
       "      <td>Bentonville, AR</td>\n",
       "      <td>482130</td>\n",
       "      <td>14694</td>\n",
       "      <td>2300000</td>\n",
       "    </tr>\n",
       "    <tr>\n",
       "      <th>1</th>\n",
       "      <td>2</td>\n",
       "      <td>Exxon Mobil</td>\n",
       "      <td>Energy</td>\n",
       "      <td>Petroleum Refining</td>\n",
       "      <td>Irving, TX</td>\n",
       "      <td>246204</td>\n",
       "      <td>16150</td>\n",
       "      <td>75600</td>\n",
       "    </tr>\n",
       "    <tr>\n",
       "      <th>2</th>\n",
       "      <td>3</td>\n",
       "      <td>Apple</td>\n",
       "      <td>Technology</td>\n",
       "      <td>Computers, Office Equipment</td>\n",
       "      <td>Cupertino, CA</td>\n",
       "      <td>233715</td>\n",
       "      <td>53394</td>\n",
       "      <td>110000</td>\n",
       "    </tr>\n",
       "    <tr>\n",
       "      <th>3</th>\n",
       "      <td>4</td>\n",
       "      <td>Berkshire Hathaway</td>\n",
       "      <td>Financials</td>\n",
       "      <td>Insurance: Property and Casualty (Stock)</td>\n",
       "      <td>Omaha, NE</td>\n",
       "      <td>210821</td>\n",
       "      <td>24083</td>\n",
       "      <td>331000</td>\n",
       "    </tr>\n",
       "    <tr>\n",
       "      <th>4</th>\n",
       "      <td>5</td>\n",
       "      <td>McKesson</td>\n",
       "      <td>Health Care</td>\n",
       "      <td>Wholesalers: Health Care</td>\n",
       "      <td>San Francisco, CA</td>\n",
       "      <td>181241</td>\n",
       "      <td>1476</td>\n",
       "      <td>70400</td>\n",
       "    </tr>\n",
       "  </tbody>\n",
       "</table>\n",
       "</div>"
      ],
      "text/plain": [
       "   Rank             Company       Sector  \\\n",
       "0     1             Walmart    Retailing   \n",
       "1     2         Exxon Mobil       Energy   \n",
       "2     3               Apple   Technology   \n",
       "3     4  Berkshire Hathaway   Financials   \n",
       "4     5            McKesson  Health Care   \n",
       "\n",
       "                                   Industry           Location  Revenue  \\\n",
       "0                     General Merchandisers    Bentonville, AR   482130   \n",
       "1                        Petroleum Refining         Irving, TX   246204   \n",
       "2               Computers, Office Equipment      Cupertino, CA   233715   \n",
       "3  Insurance: Property and Casualty (Stock)          Omaha, NE   210821   \n",
       "4                  Wholesalers: Health Care  San Francisco, CA   181241   \n",
       "\n",
       "   Profits  Employees  \n",
       "0    14694    2300000  \n",
       "1    16150      75600  \n",
       "2    53394     110000  \n",
       "3    24083     331000  \n",
       "4     1476      70400  "
      ]
     },
     "execution_count": 3,
     "metadata": {},
     "output_type": "execute_result"
    }
   ],
   "source": [
    "# TODO: Inspect `head` of `fortune` -- notice the unnecessary`Rank` column\n",
    "fortune.head()"
   ]
  },
  {
   "cell_type": "code",
   "execution_count": 4,
   "metadata": {},
   "outputs": [],
   "source": [
    "# TODO: Drop `Rank` column `inplace`\n",
    "fortune.drop(columns=['Rank'], inplace=True)"
   ]
  },
  {
   "cell_type": "code",
   "execution_count": 5,
   "metadata": {},
   "outputs": [
    {
     "data": {
      "text/html": [
       "<div>\n",
       "<style scoped>\n",
       "    .dataframe tbody tr th:only-of-type {\n",
       "        vertical-align: middle;\n",
       "    }\n",
       "\n",
       "    .dataframe tbody tr th {\n",
       "        vertical-align: top;\n",
       "    }\n",
       "\n",
       "    .dataframe thead th {\n",
       "        text-align: right;\n",
       "    }\n",
       "</style>\n",
       "<table border=\"1\" class=\"dataframe\">\n",
       "  <thead>\n",
       "    <tr style=\"text-align: right;\">\n",
       "      <th></th>\n",
       "      <th>Company</th>\n",
       "      <th>Sector</th>\n",
       "      <th>Industry</th>\n",
       "      <th>Location</th>\n",
       "      <th>Revenue</th>\n",
       "      <th>Profits</th>\n",
       "      <th>Employees</th>\n",
       "    </tr>\n",
       "  </thead>\n",
       "  <tbody>\n",
       "    <tr>\n",
       "      <th>0</th>\n",
       "      <td>Walmart</td>\n",
       "      <td>Retailing</td>\n",
       "      <td>General Merchandisers</td>\n",
       "      <td>Bentonville, AR</td>\n",
       "      <td>482130</td>\n",
       "      <td>14694</td>\n",
       "      <td>2300000</td>\n",
       "    </tr>\n",
       "    <tr>\n",
       "      <th>1</th>\n",
       "      <td>Exxon Mobil</td>\n",
       "      <td>Energy</td>\n",
       "      <td>Petroleum Refining</td>\n",
       "      <td>Irving, TX</td>\n",
       "      <td>246204</td>\n",
       "      <td>16150</td>\n",
       "      <td>75600</td>\n",
       "    </tr>\n",
       "    <tr>\n",
       "      <th>2</th>\n",
       "      <td>Apple</td>\n",
       "      <td>Technology</td>\n",
       "      <td>Computers, Office Equipment</td>\n",
       "      <td>Cupertino, CA</td>\n",
       "      <td>233715</td>\n",
       "      <td>53394</td>\n",
       "      <td>110000</td>\n",
       "    </tr>\n",
       "    <tr>\n",
       "      <th>3</th>\n",
       "      <td>Berkshire Hathaway</td>\n",
       "      <td>Financials</td>\n",
       "      <td>Insurance: Property and Casualty (Stock)</td>\n",
       "      <td>Omaha, NE</td>\n",
       "      <td>210821</td>\n",
       "      <td>24083</td>\n",
       "      <td>331000</td>\n",
       "    </tr>\n",
       "    <tr>\n",
       "      <th>4</th>\n",
       "      <td>McKesson</td>\n",
       "      <td>Health Care</td>\n",
       "      <td>Wholesalers: Health Care</td>\n",
       "      <td>San Francisco, CA</td>\n",
       "      <td>181241</td>\n",
       "      <td>1476</td>\n",
       "      <td>70400</td>\n",
       "    </tr>\n",
       "  </tbody>\n",
       "</table>\n",
       "</div>"
      ],
      "text/plain": [
       "              Company       Sector                                  Industry  \\\n",
       "0             Walmart    Retailing                     General Merchandisers   \n",
       "1         Exxon Mobil       Energy                        Petroleum Refining   \n",
       "2               Apple   Technology               Computers, Office Equipment   \n",
       "3  Berkshire Hathaway   Financials  Insurance: Property and Casualty (Stock)   \n",
       "4            McKesson  Health Care                  Wholesalers: Health Care   \n",
       "\n",
       "            Location  Revenue  Profits  Employees  \n",
       "0    Bentonville, AR   482130    14694    2300000  \n",
       "1         Irving, TX   246204    16150      75600  \n",
       "2      Cupertino, CA   233715    53394     110000  \n",
       "3          Omaha, NE   210821    24083     331000  \n",
       "4  San Francisco, CA   181241     1476      70400  "
      ]
     },
     "execution_count": 5,
     "metadata": {},
     "output_type": "execute_result"
    }
   ],
   "source": [
    "# TODO: Print `head` after dropping `Rank`\n",
    "fortune.head()"
   ]
  },
  {
   "cell_type": "markdown",
   "metadata": {},
   "source": [
    "## Part 2: Studying Sectors & Industries\n",
    "In Part 2, you will identify which sectors:\n",
    "- Comprise the largest number of companies\n",
    "- Generate the most revenue\n",
    "- Make the highest profit margins\n",
    "- Enjoy the highest `Profits per Employee` ratios\n",
    "\n",
    "For each problem, you'll also generate bar charts to visualize your findings"
   ]
  },
  {
   "cell_type": "markdown",
   "metadata": {},
   "source": [
    "### Problem 1: Identify Sectors with Largest Number of Companies\n",
    "You will use `fortune` to determine how many sectors exist, as well as which sectors comprise the largest number of companies.\n",
    "\n",
    "Follow the steps below:\n",
    "- Create groups based on `Sector`\n",
    "- Print the number of groups\n",
    "- Use `size` to print the number of companies in each sector, in _descending_ order\n",
    "- Use `size` to create a bar chart displaying how many companies are in each sector\n",
    "\n",
    "Your code should print the following, in addition to a plot (not pictured):\n",
    "\n",
    "```\n",
    "21\n",
    "\n",
    "Sector\n",
    "Financials                   139\n",
    "Energy                       122\n",
    "Technology                   102\n",
    "Retailing                     80\n",
    "Health Care                   75\n",
    "Business Services             51\n",
    "Industrials                   46\n",
    "Food, Beverages & Tobacco     43\n",
    "Materials                     43\n",
    "Wholesalers                   40\n",
    "dtype: int64\n",
    "```"
   ]
  },
  {
   "cell_type": "markdown",
   "metadata": {},
   "source": [
    "#### Sectors"
   ]
  },
  {
   "cell_type": "code",
   "execution_count": 6,
   "metadata": {},
   "outputs": [],
   "source": [
    "# TODO: Group `fortune` on `Sector`\n",
    "Sector = fortune.groupby('Sector')"
   ]
  },
  {
   "cell_type": "code",
   "execution_count": 7,
   "metadata": {},
   "outputs": [
    {
     "data": {
      "text/plain": [
       "21"
      ]
     },
     "execution_count": 7,
     "metadata": {},
     "output_type": "execute_result"
    }
   ],
   "source": [
    "# TODO: Count number of sectors in the DataFrame\n",
    "len(Sector)"
   ]
  },
  {
   "cell_type": "code",
   "execution_count": 8,
   "metadata": {},
   "outputs": [
    {
     "data": {
      "text/plain": [
       "Sector\n",
       "Financials                      139\n",
       "Energy                          122\n",
       "Technology                      102\n",
       "Retailing                        80\n",
       "Health Care                      75\n",
       "Business Services                51\n",
       "Industrials                      46\n",
       "Materials                        43\n",
       "Food, Beverages & Tobacco        43\n",
       "Wholesalers                      40\n",
       "Transportation                   36\n",
       "Chemicals                        30\n",
       "Household Products               28\n",
       "Engineering & Construction       26\n",
       "Hotels, Resturants & Leisure     25\n",
       "Media                            25\n",
       "Motor Vehicles & Parts           24\n",
       "Aerospace & Defense              20\n",
       "Food and Drug Stores             15\n",
       "Telecommunications               15\n",
       "Apparel                          15\n",
       "dtype: int64"
      ]
     },
     "execution_count": 8,
     "metadata": {},
     "output_type": "execute_result"
    }
   ],
   "source": [
    "# TODO: Find \"busiest\" sectors in descending order\n",
    "Sector.size().sort_values(ascending = False)"
   ]
  },
  {
   "cell_type": "code",
   "execution_count": 9,
   "metadata": {},
   "outputs": [
    {
     "data": {
      "image/png": "[encoded data removed]",
      "text/plain": [
       "<Figure size 432x288 with 1 Axes>"
      ]
     },
     "metadata": {
      "needs_background": "light"
     },
     "output_type": "display_data"
    }
   ],
   "source": [
    "# TODO: Generate bar chart of each group's size\n",
    "Sector.size().plot(kind='bar')\n",
    "plt.ylabel('Number of Companies')\n",
    "plt.xlabel(' ')\n",
    "plt.show()"
   ]
  },
  {
   "cell_type": "markdown",
   "metadata": {},
   "source": [
    "### Problem 2: Identify Highest-Grossing Sectors\n",
    "Next, you will determine which sectors generated the largest amount of revenue. \n",
    "\n",
    "Follow the steps below:\n",
    "- Group `fortune` on `Sector`\n",
    "- Compute total revenue for each sector, sorted in _descending_ order, and print the result\n",
    "- Compute total revenue for each sector, sorted in _descending_ order, and generate a bar chart using the first ten sectors\n",
    "\n",
    "Your code should print the following, in addition to a plot (not pictured):\n",
    "\n",
    "```\n",
    "\n",
    "Sector\n",
    "Financials                      2217159\n",
    "Health Care                     1614707\n",
    "Energy                          1517809\n",
    "Retailing                       1465076\n",
    "Technology                      1377600\n",
    "Food, Beverages & Tobacco        555967\n",
    "Industrials                      497581\n",
    "Food and Drug Stores             483769\n",
    "Motor Vehicles & Parts           482540\n",
    "Telecommunications               461834\n",
    "Wholesalers                      444800\n",
    "Transportation                   408508\n",
    "Aerospace & Defense              357940\n",
    "Business Services                272195\n",
    "Materials                        259145\n",
    "Chemicals                        243897\n",
    "Household Products               234737\n",
    "Media                            220764\n",
    "Hotels, Resturants & Leisure     169546\n",
    "Engineering & Construction       153983\n",
    "Apparel                           95968\n",
    "Name: Revenue, dtype: int64\n",
    "```"
   ]
  },
  {
   "cell_type": "code",
   "execution_count": 10,
   "metadata": {},
   "outputs": [],
   "source": [
    "# TODO: Group `fortune` on `Sector`\n",
    "Sector = fortune.groupby('Sector')"
   ]
  },
  {
   "cell_type": "code",
   "execution_count": 11,
   "metadata": {},
   "outputs": [
    {
     "data": {
      "text/plain": [
       "Sector\n",
       "Financials                      2217159\n",
       "Health Care                     1614707\n",
       "Energy                          1517809\n",
       "Retailing                       1465076\n",
       "Technology                      1377600\n",
       "Food, Beverages & Tobacco        555967\n",
       "Industrials                      497581\n",
       "Food and Drug Stores             483769\n",
       "Motor Vehicles & Parts           482540\n",
       "Telecommunications               461834\n",
       "Wholesalers                      444800\n",
       "Transportation                   408508\n",
       "Aerospace & Defense              357940\n",
       "Business Services                272195\n",
       "Materials                        259145\n",
       "Chemicals                        243897\n",
       "Household Products               234737\n",
       "Media                            220764\n",
       "Hotels, Resturants & Leisure     169546\n",
       "Engineering & Construction       153983\n",
       "Apparel                           95968\n",
       "Name: Revenue, dtype: int64"
      ]
     },
     "execution_count": 11,
     "metadata": {},
     "output_type": "execute_result"
    }
   ],
   "source": [
    "# TODO: Compute Total Revenue\n",
    "Sector['Revenue'].sum().sort_values(ascending = False)"
   ]
  },
  {
   "cell_type": "code",
   "execution_count": 12,
   "metadata": {
    "scrolled": true
   },
   "outputs": [
    {
     "data": {
      "image/png": "[encoded data removed]",
      "text/plain": [
       "<Figure size 432x288 with 1 Axes>"
      ]
     },
     "metadata": {
      "needs_background": "light"
     },
     "output_type": "display_data"
    }
   ],
   "source": [
    "# TODO: Generate bar chart of total revenue for top 10 highest-grossing sectors\n",
    "Sector['Revenue'].sum().sort_values(ascending = False).nlargest(10).plot(kind='bar')\n",
    "plt.ticklabel_format(style='plain', axis='y')\n",
    "plt.title('Revenue vs Sector')\n",
    "plt.ylabel('Revenue in Millions')\n",
    "plt.xlabel(' ')\n",
    "plt.show()"
   ]
  },
  {
   "cell_type": "markdown",
   "metadata": {},
   "source": [
    "### Problem 3: Identify Highest-Profit Sectors\n",
    "Next, you will determine which sectors generated the largest profit margins. \n",
    "\n",
    "Follow the steps below:\n",
    "- Group `fortune` on `Sector`\n",
    "- Compute total profits for each sector, sorted in _descending_ order, and print the result\n",
    "- Compute total profits for each sector, sorted in _descending_ order, and generate a bar chart using the first ten sectors\n",
    "\n",
    "Your code should print the following, in addition to a plot (not pictured):\n",
    "\n",
    "```\n",
    "Sector\n",
    "Financials                      260209\n",
    "Technology                      180473\n",
    "Health Care                     106114\n",
    "Food, Beverages & Tobacco        51417\n",
    "Telecommunications               48637\n",
    "Retailing                        47830\n",
    "Transportation                   44169\n",
    "Aerospace & Defense              28742\n",
    "Business Services                28227\n",
    "Motor Vehicles & Parts           25898\n",
    "Media                            24347\n",
    "Chemicals                        22628\n",
    "Industrials                      20764\n",
    "Hotels, Resturants & Leisure     20697\n",
    "Food and Drug Stores             16759\n",
    "Household Products               14428\n",
    "Apparel                           8236\n",
    "Wholesalers                       8233\n",
    "Engineering & Construction        5304\n",
    "Materials                         4428\n",
    "Energy                          -73447\n",
    "Name: Profits, dtype: int64\n",
    "```"
   ]
  },
  {
   "cell_type": "code",
   "execution_count": 13,
   "metadata": {},
   "outputs": [],
   "source": [
    "# TODO: Group `fortune` on `Sector`\n",
    "Sector = fortune.groupby('Sector')"
   ]
  },
  {
   "cell_type": "code",
   "execution_count": 14,
   "metadata": {
    "scrolled": true
   },
   "outputs": [
    {
     "data": {
      "text/plain": [
       "Sector\n",
       "Financials                      260209\n",
       "Technology                      180473\n",
       "Health Care                     106114\n",
       "Food, Beverages & Tobacco        51417\n",
       "Telecommunications               48637\n",
       "Retailing                        47830\n",
       "Transportation                   44169\n",
       "Aerospace & Defense              28742\n",
       "Business Services                28227\n",
       "Motor Vehicles & Parts           25898\n",
       "Media                            24347\n",
       "Chemicals                        22628\n",
       "Industrials                      20764\n",
       "Hotels, Resturants & Leisure     20697\n",
       "Food and Drug Stores             16759\n",
       "Household Products               14428\n",
       "Apparel                           8236\n",
       "Wholesalers                       8233\n",
       "Engineering & Construction        5304\n",
       "Materials                         4428\n",
       "Energy                          -73447\n",
       "Name: Profits, dtype: int64"
      ]
     },
     "execution_count": 14,
     "metadata": {},
     "output_type": "execute_result"
    }
   ],
   "source": [
    "# TODO: Sort sectors by total profit\n",
    "Sector['Profits'].sum().sort_values(ascending = False)"
   ]
  },
  {
   "cell_type": "code",
   "execution_count": 15,
   "metadata": {},
   "outputs": [
    {
     "data": {
      "image/png": "[encoded data removed]",
      "text/plain": [
       "<Figure size 432x288 with 1 Axes>"
      ]
     },
     "metadata": {
      "needs_background": "light"
     },
     "output_type": "display_data"
    }
   ],
   "source": [
    "# TODO: Plot total profits of top 10 sectors\n",
    "Sector['Profits'].sum().sort_values(ascending = False).nlargest(10).plot(kind='bar')\n",
    "plt.title('Profits vs Sector')\n",
    "plt.ylabel('Profits in Millions')\n",
    "plt.xlabel(' ')\n",
    "plt.show()"
   ]
  },
  {
   "cell_type": "markdown",
   "metadata": {},
   "source": [
    "### Problem 4: Identify Sectors Responsible for Greatest Number of Jobs\n",
    "Next, you will identify which sectors employ the largest number of employees, _on average_.\n",
    "\n",
    "Follow the steps below:\n",
    "- Group `fortune` on `Sector`\n",
    "- Compute average employee headcount for each sector, sorted in _descending_ order, and print the result\n",
    "- Compute average employee headcount for each sector, sorted in _descending_ order, and generate a bar chart using the first ten sectors\n",
    "\n",
    "Your code should print the following, in addition to a plot (not pictured):\n",
    "```\n",
    "Sector\n",
    "Hotels, Resturants & Leisure    99369.800000\n",
    "Food and Drug Stores            93026.533333\n",
    "Retailing                       77845.362500\n",
    "Telecommunications              55497.866667\n",
    "Aerospace & Defense             48402.850000\n",
    "Motor Vehicles & Parts          45106.666667\n",
    "Transportation                  42688.694444\n",
    "Health Care                     35710.520000\n",
    "Technology                      35087.735294\n",
    "Industrials                     33591.934783\n",
    "Food, Beverages & Tobacco       28177.488372\n",
    "Business Services               26687.254902\n",
    "Financials                      24172.287770\n",
    "Apparel                         23093.133333\n",
    "Household Products              23072.785714\n",
    "Media                           22012.560000\n",
    "Engineering & Construction      15642.615385\n",
    "Chemicals                       15455.033333\n",
    "Materials                       14840.069767\n",
    "Wholesalers                     13139.925000\n",
    "Energy                           9745.303279\n",
    "Name: Employees, dtype: float64\n",
    "```"
   ]
  },
  {
   "cell_type": "code",
   "execution_count": 16,
   "metadata": {},
   "outputs": [],
   "source": [
    "# TODO: Group `fortune` on `Sector`\n",
    "Sector = fortune.groupby('Sector')"
   ]
  },
  {
   "cell_type": "code",
   "execution_count": 17,
   "metadata": {},
   "outputs": [
    {
     "data": {
      "text/plain": [
       "Sector\n",
       "Hotels, Resturants & Leisure    99369.800000\n",
       "Food and Drug Stores            93026.533333\n",
       "Retailing                       77845.362500\n",
       "Telecommunications              55497.866667\n",
       "Aerospace & Defense             48402.850000\n",
       "Motor Vehicles & Parts          45106.666667\n",
       "Transportation                  42688.694444\n",
       "Health Care                     35710.520000\n",
       "Technology                      35087.735294\n",
       "Industrials                     33591.934783\n",
       "Food, Beverages & Tobacco       28177.488372\n",
       "Business Services               26687.254902\n",
       "Financials                      24172.287770\n",
       "Apparel                         23093.133333\n",
       "Household Products              23072.785714\n",
       "Media                           22012.560000\n",
       "Engineering & Construction      15642.615385\n",
       "Chemicals                       15455.033333\n",
       "Materials                       14840.069767\n",
       "Wholesalers                     13139.925000\n",
       "Energy                           9745.303279\n",
       "Name: Employees, dtype: float64"
      ]
     },
     "execution_count": 17,
     "metadata": {},
     "output_type": "execute_result"
    }
   ],
   "source": [
    "# TODO: Sectors that employ the LARGEST number of people\n",
    "Sector['Employees'].mean().sort_values(ascending = False)"
   ]
  },
  {
   "cell_type": "code",
   "execution_count": 18,
   "metadata": {},
   "outputs": [
    {
     "data": {
      "image/png": "[encoded data removed]",
      "text/plain": [
       "<Figure size 432x288 with 1 Axes>"
      ]
     },
     "metadata": {
      "needs_background": "light"
     },
     "output_type": "display_data"
    }
   ],
   "source": [
    "Sector['Employees'].mean().sort_values(ascending = False).nlargest(10).plot(kind='bar')\n",
    "plt.title('Average Employee Headcount')\n",
    "plt.ylabel('Employees Count')\n",
    "plt.xlabel(' ')\n",
    "plt.show()"
   ]
  },
  {
   "cell_type": "markdown",
   "metadata": {},
   "source": [
    "### Problem 5: Highest/Lowest Profit per Employee\n",
    "Finally, you will compute profit per employee for each sector. In other words, you will divide each sector's total profits by its total employee count. This helps show how much profit there is to \"go around\" within each sector.\n",
    "\n",
    "Follow the steps below:\n",
    "- Group `fortune` on `Sector`\n",
    "- Compute the `sum` of the `Profits` and `Employees` columns using `agg`, and save the result to a variable called `sector_employees_and_profits`\n",
    "- Add a column to `sector_employees_and_profits`, called `Profits per Employee`, equal to: `Profits / Employees`\n",
    "- Print `sector_employees_and_profits`\n",
    "- Print `sector_employees_and_profits`, sorted by `Profits per Employee`\n",
    "\n",
    "Your code will print a lot of output. The first five lines of each print should match the following:\n",
    "\n",
    "```\n",
    "\tProfits\tEmployees\tProfits per Employee\n",
    "Sector\t\t\t\n",
    "Aerospace & Defense\t28742\t968057\t0.029690\n",
    "Apparel\t8236\t346397\t0.023776\n",
    "Business Services\t28227\t1361050\t0.020739\n",
    "Chemicals\t22628\t463651\t0.048804\n",
    "Energy\t-73447\t1188927\t-0.061776\n",
    "...\n",
    "\n",
    "Profits\tEmployees\tProfits per Employee\n",
    "Sector\t\t\t\n",
    "Financials\t260209\t3359948\t0.077444\n",
    "Telecommunications\t48637\t832468\t0.058425\n",
    "Technology\t180473\t3578949\t0.050426\n",
    "Chemicals\t22628\t463651\t0.048804\n",
    "Media\t24347\t550314\t0.044242\n",
    "...\n",
    "```"
   ]
  },
  {
   "cell_type": "code",
   "execution_count": 19,
   "metadata": {},
   "outputs": [],
   "source": [
    "Sector = fortune.groupby('Sector')"
   ]
  },
  {
   "cell_type": "code",
   "execution_count": 20,
   "metadata": {},
   "outputs": [],
   "source": [
    "# TODO: Get total profits and total employees for ALL sectors\n",
    "sector_employees_and_profits = Sector.agg({\n",
    "    'Profits': 'sum',\n",
    "    'Employees': 'sum'\n",
    "})"
   ]
  },
  {
   "cell_type": "code",
   "execution_count": 21,
   "metadata": {},
   "outputs": [],
   "source": [
    "# TODO: Add `Profits per Employee` Column\n",
    "sector_employees_and_profits['Profits_per_Employee'] = sector_employees_and_profits['Profits']/sector_employees_and_profits['Employees']\n"
   ]
  },
  {
   "cell_type": "code",
   "execution_count": 22,
   "metadata": {},
   "outputs": [
    {
     "data": {
      "text/html": [
       "<div>\n",
       "<style scoped>\n",
       "    .dataframe tbody tr th:only-of-type {\n",
       "        vertical-align: middle;\n",
       "    }\n",
       "\n",
       "    .dataframe tbody tr th {\n",
       "        vertical-align: top;\n",
       "    }\n",
       "\n",
       "    .dataframe thead th {\n",
       "        text-align: right;\n",
       "    }\n",
       "</style>\n",
       "<table border=\"1\" class=\"dataframe\">\n",
       "  <thead>\n",
       "    <tr style=\"text-align: right;\">\n",
       "      <th></th>\n",
       "      <th>Profits</th>\n",
       "      <th>Employees</th>\n",
       "      <th>Profits_per_Employee</th>\n",
       "    </tr>\n",
       "    <tr>\n",
       "      <th>Sector</th>\n",
       "      <th></th>\n",
       "      <th></th>\n",
       "      <th></th>\n",
       "    </tr>\n",
       "  </thead>\n",
       "  <tbody>\n",
       "    <tr>\n",
       "      <th>Aerospace &amp; Defense</th>\n",
       "      <td>28742</td>\n",
       "      <td>968057</td>\n",
       "      <td>0.029690</td>\n",
       "    </tr>\n",
       "    <tr>\n",
       "      <th>Apparel</th>\n",
       "      <td>8236</td>\n",
       "      <td>346397</td>\n",
       "      <td>0.023776</td>\n",
       "    </tr>\n",
       "    <tr>\n",
       "      <th>Business Services</th>\n",
       "      <td>28227</td>\n",
       "      <td>1361050</td>\n",
       "      <td>0.020739</td>\n",
       "    </tr>\n",
       "    <tr>\n",
       "      <th>Chemicals</th>\n",
       "      <td>22628</td>\n",
       "      <td>463651</td>\n",
       "      <td>0.048804</td>\n",
       "    </tr>\n",
       "    <tr>\n",
       "      <th>Energy</th>\n",
       "      <td>-73447</td>\n",
       "      <td>1188927</td>\n",
       "      <td>-0.061776</td>\n",
       "    </tr>\n",
       "    <tr>\n",
       "      <th>Engineering &amp; Construction</th>\n",
       "      <td>5304</td>\n",
       "      <td>406708</td>\n",
       "      <td>0.013041</td>\n",
       "    </tr>\n",
       "    <tr>\n",
       "      <th>Financials</th>\n",
       "      <td>260209</td>\n",
       "      <td>3359948</td>\n",
       "      <td>0.077444</td>\n",
       "    </tr>\n",
       "    <tr>\n",
       "      <th>Food and Drug Stores</th>\n",
       "      <td>16759</td>\n",
       "      <td>1395398</td>\n",
       "      <td>0.012010</td>\n",
       "    </tr>\n",
       "    <tr>\n",
       "      <th>Food, Beverages &amp; Tobacco</th>\n",
       "      <td>51417</td>\n",
       "      <td>1211632</td>\n",
       "      <td>0.042436</td>\n",
       "    </tr>\n",
       "    <tr>\n",
       "      <th>Health Care</th>\n",
       "      <td>106114</td>\n",
       "      <td>2678289</td>\n",
       "      <td>0.039620</td>\n",
       "    </tr>\n",
       "    <tr>\n",
       "      <th>Hotels, Resturants &amp; Leisure</th>\n",
       "      <td>20697</td>\n",
       "      <td>2484245</td>\n",
       "      <td>0.008331</td>\n",
       "    </tr>\n",
       "    <tr>\n",
       "      <th>Household Products</th>\n",
       "      <td>14428</td>\n",
       "      <td>646038</td>\n",
       "      <td>0.022333</td>\n",
       "    </tr>\n",
       "    <tr>\n",
       "      <th>Industrials</th>\n",
       "      <td>20764</td>\n",
       "      <td>1545229</td>\n",
       "      <td>0.013437</td>\n",
       "    </tr>\n",
       "    <tr>\n",
       "      <th>Materials</th>\n",
       "      <td>4428</td>\n",
       "      <td>638123</td>\n",
       "      <td>0.006939</td>\n",
       "    </tr>\n",
       "    <tr>\n",
       "      <th>Media</th>\n",
       "      <td>24347</td>\n",
       "      <td>550314</td>\n",
       "      <td>0.044242</td>\n",
       "    </tr>\n",
       "    <tr>\n",
       "      <th>Motor Vehicles &amp; Parts</th>\n",
       "      <td>25898</td>\n",
       "      <td>1082560</td>\n",
       "      <td>0.023923</td>\n",
       "    </tr>\n",
       "    <tr>\n",
       "      <th>Retailing</th>\n",
       "      <td>47830</td>\n",
       "      <td>6227629</td>\n",
       "      <td>0.007680</td>\n",
       "    </tr>\n",
       "    <tr>\n",
       "      <th>Technology</th>\n",
       "      <td>180473</td>\n",
       "      <td>3578949</td>\n",
       "      <td>0.050426</td>\n",
       "    </tr>\n",
       "    <tr>\n",
       "      <th>Telecommunications</th>\n",
       "      <td>48637</td>\n",
       "      <td>832468</td>\n",
       "      <td>0.058425</td>\n",
       "    </tr>\n",
       "    <tr>\n",
       "      <th>Transportation</th>\n",
       "      <td>44169</td>\n",
       "      <td>1536793</td>\n",
       "      <td>0.028741</td>\n",
       "    </tr>\n",
       "    <tr>\n",
       "      <th>Wholesalers</th>\n",
       "      <td>8233</td>\n",
       "      <td>525597</td>\n",
       "      <td>0.015664</td>\n",
       "    </tr>\n",
       "  </tbody>\n",
       "</table>\n",
       "</div>"
      ],
      "text/plain": [
       "                              Profits  Employees  Profits_per_Employee\n",
       "Sector                                                                \n",
       "Aerospace & Defense             28742     968057              0.029690\n",
       "Apparel                          8236     346397              0.023776\n",
       "Business Services               28227    1361050              0.020739\n",
       "Chemicals                       22628     463651              0.048804\n",
       "Energy                         -73447    1188927             -0.061776\n",
       "Engineering & Construction       5304     406708              0.013041\n",
       "Financials                     260209    3359948              0.077444\n",
       "Food and Drug Stores            16759    1395398              0.012010\n",
       "Food, Beverages & Tobacco       51417    1211632              0.042436\n",
       "Health Care                    106114    2678289              0.039620\n",
       "Hotels, Resturants & Leisure    20697    2484245              0.008331\n",
       "Household Products              14428     646038              0.022333\n",
       "Industrials                     20764    1545229              0.013437\n",
       "Materials                        4428     638123              0.006939\n",
       "Media                           24347     550314              0.044242\n",
       "Motor Vehicles & Parts          25898    1082560              0.023923\n",
       "Retailing                       47830    6227629              0.007680\n",
       "Technology                     180473    3578949              0.050426\n",
       "Telecommunications              48637     832468              0.058425\n",
       "Transportation                  44169    1536793              0.028741\n",
       "Wholesalers                      8233     525597              0.015664"
      ]
     },
     "execution_count": 22,
     "metadata": {},
     "output_type": "execute_result"
    }
   ],
   "source": [
    "# TODO: Print new DataFrame\n",
    "sector_employees_and_profits"
   ]
  },
  {
   "cell_type": "code",
   "execution_count": 23,
   "metadata": {},
   "outputs": [
    {
     "data": {
      "text/html": [
       "<div>\n",
       "<style scoped>\n",
       "    .dataframe tbody tr th:only-of-type {\n",
       "        vertical-align: middle;\n",
       "    }\n",
       "\n",
       "    .dataframe tbody tr th {\n",
       "        vertical-align: top;\n",
       "    }\n",
       "\n",
       "    .dataframe thead th {\n",
       "        text-align: right;\n",
       "    }\n",
       "</style>\n",
       "<table border=\"1\" class=\"dataframe\">\n",
       "  <thead>\n",
       "    <tr style=\"text-align: right;\">\n",
       "      <th></th>\n",
       "      <th>Profits</th>\n",
       "      <th>Employees</th>\n",
       "      <th>Profits_per_Employee</th>\n",
       "    </tr>\n",
       "    <tr>\n",
       "      <th>Sector</th>\n",
       "      <th></th>\n",
       "      <th></th>\n",
       "      <th></th>\n",
       "    </tr>\n",
       "  </thead>\n",
       "  <tbody>\n",
       "    <tr>\n",
       "      <th>Financials</th>\n",
       "      <td>260209</td>\n",
       "      <td>3359948</td>\n",
       "      <td>0.077444</td>\n",
       "    </tr>\n",
       "    <tr>\n",
       "      <th>Telecommunications</th>\n",
       "      <td>48637</td>\n",
       "      <td>832468</td>\n",
       "      <td>0.058425</td>\n",
       "    </tr>\n",
       "    <tr>\n",
       "      <th>Technology</th>\n",
       "      <td>180473</td>\n",
       "      <td>3578949</td>\n",
       "      <td>0.050426</td>\n",
       "    </tr>\n",
       "    <tr>\n",
       "      <th>Chemicals</th>\n",
       "      <td>22628</td>\n",
       "      <td>463651</td>\n",
       "      <td>0.048804</td>\n",
       "    </tr>\n",
       "    <tr>\n",
       "      <th>Media</th>\n",
       "      <td>24347</td>\n",
       "      <td>550314</td>\n",
       "      <td>0.044242</td>\n",
       "    </tr>\n",
       "    <tr>\n",
       "      <th>Food, Beverages &amp; Tobacco</th>\n",
       "      <td>51417</td>\n",
       "      <td>1211632</td>\n",
       "      <td>0.042436</td>\n",
       "    </tr>\n",
       "    <tr>\n",
       "      <th>Health Care</th>\n",
       "      <td>106114</td>\n",
       "      <td>2678289</td>\n",
       "      <td>0.039620</td>\n",
       "    </tr>\n",
       "    <tr>\n",
       "      <th>Aerospace &amp; Defense</th>\n",
       "      <td>28742</td>\n",
       "      <td>968057</td>\n",
       "      <td>0.029690</td>\n",
       "    </tr>\n",
       "    <tr>\n",
       "      <th>Transportation</th>\n",
       "      <td>44169</td>\n",
       "      <td>1536793</td>\n",
       "      <td>0.028741</td>\n",
       "    </tr>\n",
       "    <tr>\n",
       "      <th>Motor Vehicles &amp; Parts</th>\n",
       "      <td>25898</td>\n",
       "      <td>1082560</td>\n",
       "      <td>0.023923</td>\n",
       "    </tr>\n",
       "    <tr>\n",
       "      <th>Apparel</th>\n",
       "      <td>8236</td>\n",
       "      <td>346397</td>\n",
       "      <td>0.023776</td>\n",
       "    </tr>\n",
       "    <tr>\n",
       "      <th>Household Products</th>\n",
       "      <td>14428</td>\n",
       "      <td>646038</td>\n",
       "      <td>0.022333</td>\n",
       "    </tr>\n",
       "    <tr>\n",
       "      <th>Business Services</th>\n",
       "      <td>28227</td>\n",
       "      <td>1361050</td>\n",
       "      <td>0.020739</td>\n",
       "    </tr>\n",
       "    <tr>\n",
       "      <th>Wholesalers</th>\n",
       "      <td>8233</td>\n",
       "      <td>525597</td>\n",
       "      <td>0.015664</td>\n",
       "    </tr>\n",
       "    <tr>\n",
       "      <th>Industrials</th>\n",
       "      <td>20764</td>\n",
       "      <td>1545229</td>\n",
       "      <td>0.013437</td>\n",
       "    </tr>\n",
       "    <tr>\n",
       "      <th>Engineering &amp; Construction</th>\n",
       "      <td>5304</td>\n",
       "      <td>406708</td>\n",
       "      <td>0.013041</td>\n",
       "    </tr>\n",
       "    <tr>\n",
       "      <th>Food and Drug Stores</th>\n",
       "      <td>16759</td>\n",
       "      <td>1395398</td>\n",
       "      <td>0.012010</td>\n",
       "    </tr>\n",
       "    <tr>\n",
       "      <th>Hotels, Resturants &amp; Leisure</th>\n",
       "      <td>20697</td>\n",
       "      <td>2484245</td>\n",
       "      <td>0.008331</td>\n",
       "    </tr>\n",
       "    <tr>\n",
       "      <th>Retailing</th>\n",
       "      <td>47830</td>\n",
       "      <td>6227629</td>\n",
       "      <td>0.007680</td>\n",
       "    </tr>\n",
       "    <tr>\n",
       "      <th>Materials</th>\n",
       "      <td>4428</td>\n",
       "      <td>638123</td>\n",
       "      <td>0.006939</td>\n",
       "    </tr>\n",
       "    <tr>\n",
       "      <th>Energy</th>\n",
       "      <td>-73447</td>\n",
       "      <td>1188927</td>\n",
       "      <td>-0.061776</td>\n",
       "    </tr>\n",
       "  </tbody>\n",
       "</table>\n",
       "</div>"
      ],
      "text/plain": [
       "                              Profits  Employees  Profits_per_Employee\n",
       "Sector                                                                \n",
       "Financials                     260209    3359948              0.077444\n",
       "Telecommunications              48637     832468              0.058425\n",
       "Technology                     180473    3578949              0.050426\n",
       "Chemicals                       22628     463651              0.048804\n",
       "Media                           24347     550314              0.044242\n",
       "Food, Beverages & Tobacco       51417    1211632              0.042436\n",
       "Health Care                    106114    2678289              0.039620\n",
       "Aerospace & Defense             28742     968057              0.029690\n",
       "Transportation                  44169    1536793              0.028741\n",
       "Motor Vehicles & Parts          25898    1082560              0.023923\n",
       "Apparel                          8236     346397              0.023776\n",
       "Household Products              14428     646038              0.022333\n",
       "Business Services               28227    1361050              0.020739\n",
       "Wholesalers                      8233     525597              0.015664\n",
       "Industrials                     20764    1545229              0.013437\n",
       "Engineering & Construction       5304     406708              0.013041\n",
       "Food and Drug Stores            16759    1395398              0.012010\n",
       "Hotels, Resturants & Leisure    20697    2484245              0.008331\n",
       "Retailing                       47830    6227629              0.007680\n",
       "Materials                        4428     638123              0.006939\n",
       "Energy                         -73447    1188927             -0.061776"
      ]
     },
     "execution_count": 23,
     "metadata": {},
     "output_type": "execute_result"
    }
   ],
   "source": [
    "# TODO: Sort by Profits per Employee\n",
    "sector_employees_and_profits.sort_values(by ='Profits_per_Employee', ascending = False)"
   ]
  },
  {
   "cell_type": "code",
   "execution_count": 24,
   "metadata": {},
   "outputs": [
    {
     "data": {
      "image/png": "[encoded data removed]",
      "text/plain": [
       "<Figure size 432x288 with 1 Axes>"
      ]
     },
     "metadata": {
      "needs_background": "light"
     },
     "output_type": "display_data"
    }
   ],
   "source": [
    "# TODO: Sort by Profits per Employee\n",
    "sector_employees_and_profits['Profits_per_Employee'].sort_values(ascending = False).plot(kind='bar')\n",
    "plt.title('Profits per Employee vs Sector')\n",
    "plt.ylabel('Profits per Employee(USD)')\n",
    "plt.xlabel(' ')\n",
    "plt.show()"
   ]
  },
  {
   "cell_type": "markdown",
   "metadata": {},
   "source": [
    "## Part 3: Studying the Best Performing Companies\n",
    "In Part 3, you will determine how much better the three best-performing companies in the dataset perform. "
   ]
  },
  {
   "cell_type": "markdown",
   "metadata": {},
   "source": [
    "### Problem 1: The Three Highest-Grossing Companies vs Sector Average\n",
    "\n",
    "\n",
    "Follow the steps below:\n",
    "- Group `fortune` on `Sector`\n",
    "- Find the best performing companies in each sector, sorted by Revenue in descending order. Save the result into a variable called `top_companies_by_revenue`\n",
    "- Save the first three rows of `top_companies_by_revenue` into a variable, called `top_three_companies`\n",
    "  - Print `top_three_companies`.\n",
    "- Compute the `mean` of sectors. Then, use `loc` to extract every row and _only_ the `Revenue` column into a variable ccalled `sector_average_revenues`\n",
    "- Use the data in `top_three_companies` and `sector_average_revenues` to compute the difference between the revenues of the three highest grossing companies and the average for their sectors.\n",
    "\n",
    "Your code should print the following:\n",
    "\n",
    "```\n",
    "Walmart earned $463816.55 hundred thousand more than the Retailing average of $18313.45 hundred thousand.\n",
    "\n",
    "Exxon Mobile earned $233762.94 hundred thousand more than the Retailing average of $12441.06 hundred thousand.\n",
    "\n",
    "Apple earned $220209.12 hundred thousand more than the Retailing average of $13505.88 hundred thousand.\n",
    "```"
   ]
  },
  {
   "cell_type": "code",
   "execution_count": 25,
   "metadata": {},
   "outputs": [],
   "source": [
    "# TODO: Group `fortune` by `Sector`\n",
    "Sector = fortune.groupby('Sector')"
   ]
  },
  {
   "cell_type": "code",
   "execution_count": 26,
   "metadata": {},
   "outputs": [
    {
     "data": {
      "text/html": [
       "<div>\n",
       "<style scoped>\n",
       "    .dataframe tbody tr th:only-of-type {\n",
       "        vertical-align: middle;\n",
       "    }\n",
       "\n",
       "    .dataframe tbody tr th {\n",
       "        vertical-align: top;\n",
       "    }\n",
       "\n",
       "    .dataframe thead th {\n",
       "        text-align: right;\n",
       "    }\n",
       "</style>\n",
       "<table border=\"1\" class=\"dataframe\">\n",
       "  <thead>\n",
       "    <tr style=\"text-align: right;\">\n",
       "      <th></th>\n",
       "      <th>Company</th>\n",
       "      <th>Industry</th>\n",
       "      <th>Location</th>\n",
       "      <th>Revenue</th>\n",
       "      <th>Profits</th>\n",
       "      <th>Employees</th>\n",
       "    </tr>\n",
       "    <tr>\n",
       "      <th>Sector</th>\n",
       "      <th></th>\n",
       "      <th></th>\n",
       "      <th></th>\n",
       "      <th></th>\n",
       "      <th></th>\n",
       "      <th></th>\n",
       "    </tr>\n",
       "  </thead>\n",
       "  <tbody>\n",
       "    <tr>\n",
       "      <th>Retailing</th>\n",
       "      <td>Walmart</td>\n",
       "      <td>General Merchandisers</td>\n",
       "      <td>Bentonville, AR</td>\n",
       "      <td>482130</td>\n",
       "      <td>14694</td>\n",
       "      <td>2300000</td>\n",
       "    </tr>\n",
       "    <tr>\n",
       "      <th>Energy</th>\n",
       "      <td>Exxon Mobil</td>\n",
       "      <td>Petroleum Refining</td>\n",
       "      <td>Irving, TX</td>\n",
       "      <td>246204</td>\n",
       "      <td>16150</td>\n",
       "      <td>75600</td>\n",
       "    </tr>\n",
       "    <tr>\n",
       "      <th>Technology</th>\n",
       "      <td>Apple</td>\n",
       "      <td>Computers, Office Equipment</td>\n",
       "      <td>Cupertino, CA</td>\n",
       "      <td>233715</td>\n",
       "      <td>53394</td>\n",
       "      <td>110000</td>\n",
       "    </tr>\n",
       "  </tbody>\n",
       "</table>\n",
       "</div>"
      ],
      "text/plain": [
       "                Company                     Industry         Location  \\\n",
       "Sector                                                                  \n",
       "Retailing       Walmart        General Merchandisers  Bentonville, AR   \n",
       "Energy      Exxon Mobil           Petroleum Refining       Irving, TX   \n",
       "Technology        Apple  Computers, Office Equipment    Cupertino, CA   \n",
       "\n",
       "            Revenue  Profits  Employees  \n",
       "Sector                                   \n",
       "Retailing    482130    14694    2300000  \n",
       "Energy       246204    16150      75600  \n",
       "Technology   233715    53394     110000  "
      ]
     },
     "execution_count": 26,
     "metadata": {},
     "output_type": "execute_result"
    }
   ],
   "source": [
    "# TODO: Get top performing companies by sector\n",
    "top_companies_by_revenue = Sector.first().sort_values(by = 'Revenue', ascending = False).head(3)\n",
    "top_companies_by_revenue"
   ]
  },
  {
   "cell_type": "code",
   "execution_count": 27,
   "metadata": {},
   "outputs": [
    {
     "data": {
      "text/html": [
       "<div>\n",
       "<style scoped>\n",
       "    .dataframe tbody tr th:only-of-type {\n",
       "        vertical-align: middle;\n",
       "    }\n",
       "\n",
       "    .dataframe tbody tr th {\n",
       "        vertical-align: top;\n",
       "    }\n",
       "\n",
       "    .dataframe thead th {\n",
       "        text-align: right;\n",
       "    }\n",
       "</style>\n",
       "<table border=\"1\" class=\"dataframe\">\n",
       "  <thead>\n",
       "    <tr style=\"text-align: right;\">\n",
       "      <th></th>\n",
       "      <th>Company</th>\n",
       "      <th>Industry</th>\n",
       "      <th>Location</th>\n",
       "      <th>Revenue</th>\n",
       "      <th>Profits</th>\n",
       "      <th>Employees</th>\n",
       "    </tr>\n",
       "    <tr>\n",
       "      <th>Sector</th>\n",
       "      <th></th>\n",
       "      <th></th>\n",
       "      <th></th>\n",
       "      <th></th>\n",
       "      <th></th>\n",
       "      <th></th>\n",
       "    </tr>\n",
       "  </thead>\n",
       "  <tbody>\n",
       "    <tr>\n",
       "      <th>Retailing</th>\n",
       "      <td>Walmart</td>\n",
       "      <td>General Merchandisers</td>\n",
       "      <td>Bentonville, AR</td>\n",
       "      <td>482130</td>\n",
       "      <td>14694</td>\n",
       "      <td>2300000</td>\n",
       "    </tr>\n",
       "    <tr>\n",
       "      <th>Energy</th>\n",
       "      <td>Exxon Mobil</td>\n",
       "      <td>Petroleum Refining</td>\n",
       "      <td>Irving, TX</td>\n",
       "      <td>246204</td>\n",
       "      <td>16150</td>\n",
       "      <td>75600</td>\n",
       "    </tr>\n",
       "    <tr>\n",
       "      <th>Technology</th>\n",
       "      <td>Apple</td>\n",
       "      <td>Computers, Office Equipment</td>\n",
       "      <td>Cupertino, CA</td>\n",
       "      <td>233715</td>\n",
       "      <td>53394</td>\n",
       "      <td>110000</td>\n",
       "    </tr>\n",
       "  </tbody>\n",
       "</table>\n",
       "</div>"
      ],
      "text/plain": [
       "                Company                     Industry         Location  \\\n",
       "Sector                                                                  \n",
       "Retailing       Walmart        General Merchandisers  Bentonville, AR   \n",
       "Energy      Exxon Mobil           Petroleum Refining       Irving, TX   \n",
       "Technology        Apple  Computers, Office Equipment    Cupertino, CA   \n",
       "\n",
       "            Revenue  Profits  Employees  \n",
       "Sector                                   \n",
       "Retailing    482130    14694    2300000  \n",
       "Energy       246204    16150      75600  \n",
       "Technology   233715    53394     110000  "
      ]
     },
     "execution_count": 27,
     "metadata": {},
     "output_type": "execute_result"
    }
   ],
   "source": [
    "# TODO: Get only top 3 best performing companies by sector\n",
    "top_three_companies = Sector.first().sort_values(by = 'Revenue', ascending = False).head(3)\n",
    "top_three_companies"
   ]
  },
  {
   "cell_type": "code",
   "execution_count": 28,
   "metadata": {},
   "outputs": [],
   "source": [
    "# TODO: Get average Revenue for `Retailing`, `Energy`, and `Technology`\n",
    "mean_sector = round(Sector.mean(), 2)\n",
    "average_revenue = mean_sector.loc[:, 'Revenue']\n",
    "average_Retailing = average_revenue.loc['Retailing']\n",
    "average_Energy = average_revenue.loc['Energy']\n",
    "average_Technology = average_revenue.loc['Technology']"
   ]
  },
  {
   "cell_type": "code",
   "execution_count": 29,
   "metadata": {},
   "outputs": [
    {
     "name": "stdout",
     "output_type": "stream",
     "text": [
      "Walmart earned $463816.55 hundred thousand more than the Retailing average of $18313.45 hundred thousand.\n"
     ]
    }
   ],
   "source": [
    "# TODO: Difference between Walmart's Revenue and Retailing Average\n",
    "fortune.set_index('Company', inplace = True)\n",
    "Walmart_Revenue = fortune.loc['Walmart', 'Revenue']\n",
    "\n",
    "print('Walmart earned ' + '$' + str(Walmart_Revenue - average_Retailing) + \n",
    "      ' hundred thousand more than the Retailing average of ' + '$' + str(average_Retailing) + ' hundred thousand.')"
   ]
  },
  {
   "cell_type": "code",
   "execution_count": 30,
   "metadata": {},
   "outputs": [
    {
     "name": "stdout",
     "output_type": "stream",
     "text": [
      "Exxon Mobil earned $233762.94 hundred thousand more than the Retailing average of $12441.06 hundred thousand.\n"
     ]
    }
   ],
   "source": [
    "# TODO: Difference between Exxon Mobile's Revenue and Energy Average\n",
    "ExxonMobil_Revenue = fortune.loc['Exxon Mobil', 'Revenue']\n",
    "\n",
    "print('Exxon Mobil earned ' + '$' + str(ExxonMobil_Revenue - average_Energy) + \n",
    "      ' hundred thousand more than the Retailing average of ' + '$' + str(average_Energy) + ' hundred thousand.')"
   ]
  },
  {
   "cell_type": "code",
   "execution_count": 31,
   "metadata": {},
   "outputs": [
    {
     "name": "stdout",
     "output_type": "stream",
     "text": [
      "Apple earned $220209.12 hundred thousand more than the Retailing average of $13505.88 hundred thousand.\n"
     ]
    }
   ],
   "source": [
    "# TODO: Difference between Apple's Revenue and Technology Average\n",
    "Apple_Revenue = fortune.loc['Apple', 'Revenue']\n",
    "\n",
    "print('Apple earned ' + '$' + str(Apple_Revenue - average_Technology) + \n",
    "      ' hundred thousand more than the Retailing average of ' + '$' + str(average_Technology) + ' hundred thousand.')"
   ]
  }
 ],
 "metadata": {
  "kernelspec": {
   "display_name": "Python 3",
   "language": "python",
   "name": "python3"
  },
  "language_info": {
   "codemirror_mode": {
    "name": "ipython",
    "version": 3
   },
   "file_extension": ".py",
   "mimetype": "text/x-python",
   "name": "python",
   "nbconvert_exporter": "python",
   "pygments_lexer": "ipython3",
   "version": "3.8.5"
  }
 },
 "nbformat": 4,
 "nbformat_minor": 5
}
