{
 "cells": [
  {
   "cell_type": "markdown",
   "metadata": {},
   "source": [
    "# Analyzing Retail Purchases with Pandas "
   ]
  },
  {
   "cell_type": "markdown",
   "metadata": {},
   "source": [
    "In this assignment, you are a marketing analyst for a popular e-commerce site. The company is putting together a marketing presentation that highlights its last decade in business. You have specifically been tasked with pulling figures for the year 2011. \n",
    "\n",
    "You have been provided with a CSV file of sales data that you will first need to load and clean. In order to thoroughly clean  the data, you must:\n",
    "* \t\tConvert columns that contain dates to a `datetime` type\n",
    "* \t\tConvert any columns that contain negative values to positive ones\n",
    "* \t\tRemove rows containing `none` values\n",
    "* \t\tRemove rows where the unit price of an item is equal to 0\n",
    "* \t\tSelect only 2011 sales data \n",
    "\n",
    "Once your dataset is clean, you will analyze it to collect the following figures for 2011:\n",
    "* \t\tTotal items sold\n",
    "* \t\tTotal revenue\n",
    "* \t\tTotal number of unique items sold \n",
    "* \t\tAverage Number of Orders per Customer\n",
    "* \t\tAverage Value of Each Invoice"
   ]
  },
  {
   "cell_type": "markdown",
   "metadata": {},
   "source": [
    "---\n",
    "### Getting Started\n",
    "To get started, download the following files:\n",
    "- `Unit 20 - Technical - Unsolved.ipynb` (_this notebook_)\n",
    "- `Transactions.csv`\n",
    "\n",
    "Place these together in to a dedicated directory on your hard drive. We recommend creating a folder in your `Documents` directory for this week of class, as follows:\n",
    "\n",
    "```\n",
    "Documents/\n",
    "  Term III/\n",
    "    Week 20/\n",
    "      Unit 20 - Technical - Unsolved.ipynb\n",
    "      Transactions.csv\n",
    "```\n",
    "\n",
    "Then, start Jupyter Notebook in the `Week20` directory, and open `Unit 20 - Technical - Unsolved.ipynb` in your browser. Make sure the `Transactions.csv` file lives in the same directory.\n",
    "\n",
    "---\n",
    "\n",
    "### Problem Structure\n",
    "Each problem will be accompanied by:\n",
    "- **Instructions**\n",
    "  - Each problem features a markdown cell explaining the problem.\n",
    "- **Unfinished Code Cells**\n",
    "  - Each problem has unfinished code cells, where you will write code to solve the problem.\n",
    "  - Cells will contain either starter code for you to finish, or a comment explaining what your code should do.\n",
    "- **Expected Output**. \n",
    "  - Many unfinished code cells will have output below them. You will be expected to write code that produces the same output.\n",
    "  - Some unfinished code cells do _not_ have output below them. This is simply because not all code will generate output. Your solutions for these cells should _not_ print anything.\n",
    "\n",
    "---\n",
    "  \n",
    "### Deliverables\n",
    "To receive credit for this assignment, you must submit the following files:\n",
    "- Your completed Jupyter Notebook\n",
    "\n",
    "Your completed Jupyter Notebook will be this file, but with all of the problems solved. This is the only file you will need to submit.\n",
    "\n",
    "When you're done with the assignment, run all cells to verify that your code executes as expected. Then, save and submit this notebook.\n",
    "\n",
    "Good luck!\n",
    "\n",
    "---"
   ]
  },
  {
   "cell_type": "markdown",
   "metadata": {},
   "source": [
    "# Part 1: Loading & Exploring Data\n",
    "All data analysis projects start with the same steps: Loading the data, inspecting its types, converting data types and fixing erroneous or missing values. Only when this is finished can you safely proceed to analysis.\n",
    "\n",
    "In Part 1, you will perform all of these steps on the data in `Transactions.csv`. "
   ]
  },
  {
   "cell_type": "markdown",
   "metadata": {},
   "source": [
    "### Problem 1: Load Transactions Data\n",
    "`Transactions.csv` contains a record of purchases at a retail gift shop. In this problem, you must:\n",
    "- Load `Transactions.csv` with `pandas` into a DataFrame called `transactions`\n",
    "- Print the first 5 rows of the DataFrame\n",
    "\n",
    "Printing the first 5 rows of the DataFrame will reveal the column names, as well as what kind of data each column contains.\n",
    "\n",
    "---\n",
    "\n",
    "Your code should print the following:\n",
    "\n",
    "```\n",
    "InvoiceNo\tInvoiceDate\tCustomerID\tStockCode\tUnitPrice\tQuantitySold\tDescription\n",
    "0\t536365\t12/1/2010 8:26\t17850.0\t85123A\t2.55\t6\tWHITE HANGING HEART T-LIGHT HOLDER\n",
    "1\t536365\t12/1/2010 8:26\t17850.0\t71053\t3.39\t6\tWHITE METAL LANTERN\n",
    "2\t536365\t12/1/2010 8:26\t17850.0\t84406B\t2.75\t8\tCREAM CUPID HEARTS COAT HANGER\n",
    "3\t536365\t12/1/2010 8:26\t17850.0\t84029G\t3.39\t6\tKNITTED UNION FLAG HOT WATER BOTTLE\n",
    "4\t536365\t12/1/2010 8:26\t17850.0\t84029E\t3.39\t6\tRED WOOLLY HOTTIE WHITE HEART.\n",
    "\n",
    "InvoiceNo             object\n",
    "InvoiceDate           object\n",
    "CustomerID           float64\n",
    "StockCode             object\n",
    "UnitPrice            float64\n",
    "Quantity               int64\n",
    "Description           object\n",
    "dtype: object\n",
    "```\n",
    "\n",
    "<hr>\n",
    "\n",
    "**Hints**\n",
    "- Recall that `dataframe.head(n)` prints the first `n` rows of `dataframe`. "
   ]
  },
  {
   "cell_type": "code",
   "execution_count": 1,
   "metadata": {},
   "outputs": [],
   "source": [
    "# TODO: Provided Data -- Do NOT Edit!\n",
    "filename = 'Transactions.csv'"
   ]
  },
  {
   "cell_type": "code",
   "execution_count": 2,
   "metadata": {
    "ExecuteTime": {
     "end_time": "2021-04-07T00:59:44.847141Z",
     "start_time": "2021-04-07T00:59:44.191349Z"
    }
   },
   "outputs": [],
   "source": [
    "# TODO: Load `Transactions.csv` into `transactions` DataFrame\n",
    "import pandas as pd\n",
    "transactions = pd.read_csv('Transactions.csv', sep =',')"
   ]
  },
  {
   "cell_type": "code",
   "execution_count": 3,
   "metadata": {
    "ExecuteTime": {
     "end_time": "2021-04-07T00:59:44.896073Z",
     "start_time": "2021-04-07T00:59:44.850743Z"
    }
   },
   "outputs": [
    {
     "data": {
      "text/html": [
       "<div>\n",
       "<style scoped>\n",
       "    .dataframe tbody tr th:only-of-type {\n",
       "        vertical-align: middle;\n",
       "    }\n",
       "\n",
       "    .dataframe tbody tr th {\n",
       "        vertical-align: top;\n",
       "    }\n",
       "\n",
       "    .dataframe thead th {\n",
       "        text-align: right;\n",
       "    }\n",
       "</style>\n",
       "<table border=\"1\" class=\"dataframe\">\n",
       "  <thead>\n",
       "    <tr style=\"text-align: right;\">\n",
       "      <th></th>\n",
       "      <th>InvoiceNo</th>\n",
       "      <th>InvoiceDate</th>\n",
       "      <th>CustomerID</th>\n",
       "      <th>StockCode</th>\n",
       "      <th>UnitPrice</th>\n",
       "      <th>QuantitySold</th>\n",
       "      <th>Description</th>\n",
       "      <th>QuantityRemaining</th>\n",
       "    </tr>\n",
       "  </thead>\n",
       "  <tbody>\n",
       "    <tr>\n",
       "      <th>0</th>\n",
       "      <td>536365</td>\n",
       "      <td>12/1/2010 8:26</td>\n",
       "      <td>17850.0</td>\n",
       "      <td>85123A</td>\n",
       "      <td>2.55</td>\n",
       "      <td>6</td>\n",
       "      <td>WHITE HANGING HEART T-LIGHT HOLDER</td>\n",
       "      <td>3</td>\n",
       "    </tr>\n",
       "    <tr>\n",
       "      <th>1</th>\n",
       "      <td>536365</td>\n",
       "      <td>12/1/2010 8:26</td>\n",
       "      <td>17850.0</td>\n",
       "      <td>71053</td>\n",
       "      <td>3.39</td>\n",
       "      <td>6</td>\n",
       "      <td>WHITE METAL LANTERN</td>\n",
       "      <td>3</td>\n",
       "    </tr>\n",
       "    <tr>\n",
       "      <th>2</th>\n",
       "      <td>536365</td>\n",
       "      <td>12/1/2010 8:26</td>\n",
       "      <td>17850.0</td>\n",
       "      <td>84406B</td>\n",
       "      <td>2.75</td>\n",
       "      <td>8</td>\n",
       "      <td>CREAM CUPID HEARTS COAT HANGER</td>\n",
       "      <td>4</td>\n",
       "    </tr>\n",
       "    <tr>\n",
       "      <th>3</th>\n",
       "      <td>536365</td>\n",
       "      <td>12/1/2010 8:26</td>\n",
       "      <td>17850.0</td>\n",
       "      <td>84029G</td>\n",
       "      <td>3.39</td>\n",
       "      <td>6</td>\n",
       "      <td>KNITTED UNION FLAG HOT WATER BOTTLE</td>\n",
       "      <td>3</td>\n",
       "    </tr>\n",
       "    <tr>\n",
       "      <th>4</th>\n",
       "      <td>536365</td>\n",
       "      <td>12/1/2010 8:26</td>\n",
       "      <td>17850.0</td>\n",
       "      <td>84029E</td>\n",
       "      <td>3.39</td>\n",
       "      <td>6</td>\n",
       "      <td>RED WOOLLY HOTTIE WHITE HEART.</td>\n",
       "      <td>3</td>\n",
       "    </tr>\n",
       "  </tbody>\n",
       "</table>\n",
       "</div>"
      ],
      "text/plain": [
       "  InvoiceNo     InvoiceDate  CustomerID StockCode  UnitPrice  QuantitySold  \\\n",
       "0    536365  12/1/2010 8:26     17850.0    85123A       2.55             6   \n",
       "1    536365  12/1/2010 8:26     17850.0     71053       3.39             6   \n",
       "2    536365  12/1/2010 8:26     17850.0    84406B       2.75             8   \n",
       "3    536365  12/1/2010 8:26     17850.0    84029G       3.39             6   \n",
       "4    536365  12/1/2010 8:26     17850.0    84029E       3.39             6   \n",
       "\n",
       "                           Description  QuantityRemaining  \n",
       "0   WHITE HANGING HEART T-LIGHT HOLDER                  3  \n",
       "1                  WHITE METAL LANTERN                  3  \n",
       "2       CREAM CUPID HEARTS COAT HANGER                  4  \n",
       "3  KNITTED UNION FLAG HOT WATER BOTTLE                  3  \n",
       "4       RED WOOLLY HOTTIE WHITE HEART.                  3  "
      ]
     },
     "execution_count": 3,
     "metadata": {},
     "output_type": "execute_result"
    }
   ],
   "source": [
    "# TODO: Print first 5 rows of `transactions`\n",
    "transactions.head(5)"
   ]
  },
  {
   "cell_type": "code",
   "execution_count": 4,
   "metadata": {},
   "outputs": [
    {
     "data": {
      "text/plain": [
       "InvoiceNo             object\n",
       "InvoiceDate           object\n",
       "CustomerID           float64\n",
       "StockCode             object\n",
       "UnitPrice            float64\n",
       "QuantitySold           int64\n",
       "Description           object\n",
       "QuantityRemaining      int64\n",
       "dtype: object"
      ]
     },
     "execution_count": 4,
     "metadata": {},
     "output_type": "execute_result"
    }
   ],
   "source": [
    "#transactions.dtypes\n",
    "transactions.dtypes"
   ]
  },
  {
   "cell_type": "markdown",
   "metadata": {},
   "source": [
    "### Problem 2: Convert Type of `InvoiceDate` Column\n",
    "Note that the `InvoiceDate` column has been imported as an `object`. In this problem, you will convert `InvoiceDate` into a `datetime` column.\n",
    "\n",
    "When you're done, print the DataFrame's `dtypes` to verify that your changes have taken effect.\n",
    "\n",
    "---\n",
    "\n",
    "Your code should print the following:\n",
    "\n",
    "```\n",
    "InvoiceNo              object\n",
    "InvoiceDate    datetime64[ns]\n",
    "CustomerID            float64\n",
    "StockCode              object\n",
    "UnitPrice             float64\n",
    "Quantity                int64\n",
    "Description            object\n",
    "dtype: object\n",
    "```\n",
    "\n",
    "---\n",
    "\n",
    "**Hints**\n",
    "- Pandas has a `to_datetime` method that can convert a Series of date-formatted strings to actual datetime objects. It is called as follows: `pd.to_datetime(dataframe.ColumnWithDateFormattedStrings)`."
   ]
  },
  {
   "cell_type": "code",
   "execution_count": 5,
   "metadata": {
    "ExecuteTime": {
     "end_time": "2021-04-07T00:59:48.899377Z",
     "start_time": "2021-04-07T00:59:44.927837Z"
    }
   },
   "outputs": [],
   "source": [
    "# TODO: Convert `InvoiceDate` to datetime values\n",
    "transactions['InvoiceDate'] = pd.to_datetime(transactions['InvoiceDate'])"
   ]
  },
  {
   "cell_type": "code",
   "execution_count": 6,
   "metadata": {},
   "outputs": [
    {
     "data": {
      "text/plain": [
       "InvoiceNo                    object\n",
       "InvoiceDate          datetime64[ns]\n",
       "CustomerID                  float64\n",
       "StockCode                    object\n",
       "UnitPrice                   float64\n",
       "QuantitySold                  int64\n",
       "Description                  object\n",
       "QuantityRemaining             int64\n",
       "dtype: object"
      ]
     },
     "execution_count": 6,
     "metadata": {},
     "output_type": "execute_result"
    }
   ],
   "source": [
    "# TODO: Print datatypes of `transactions` DataFrame\n",
    "transactions.dtypes"
   ]
  },
  {
   "cell_type": "code",
   "execution_count": 7,
   "metadata": {},
   "outputs": [
    {
     "data": {
      "text/html": [
       "<div>\n",
       "<style scoped>\n",
       "    .dataframe tbody tr th:only-of-type {\n",
       "        vertical-align: middle;\n",
       "    }\n",
       "\n",
       "    .dataframe tbody tr th {\n",
       "        vertical-align: top;\n",
       "    }\n",
       "\n",
       "    .dataframe thead th {\n",
       "        text-align: right;\n",
       "    }\n",
       "</style>\n",
       "<table border=\"1\" class=\"dataframe\">\n",
       "  <thead>\n",
       "    <tr style=\"text-align: right;\">\n",
       "      <th></th>\n",
       "      <th>InvoiceNo</th>\n",
       "      <th>InvoiceDate</th>\n",
       "      <th>CustomerID</th>\n",
       "      <th>StockCode</th>\n",
       "      <th>UnitPrice</th>\n",
       "      <th>QuantitySold</th>\n",
       "      <th>Description</th>\n",
       "      <th>QuantityRemaining</th>\n",
       "    </tr>\n",
       "  </thead>\n",
       "  <tbody>\n",
       "    <tr>\n",
       "      <th>0</th>\n",
       "      <td>536365</td>\n",
       "      <td>2010-12-01 08:26:00</td>\n",
       "      <td>17850.0</td>\n",
       "      <td>85123A</td>\n",
       "      <td>2.55</td>\n",
       "      <td>6</td>\n",
       "      <td>WHITE HANGING HEART T-LIGHT HOLDER</td>\n",
       "      <td>3</td>\n",
       "    </tr>\n",
       "    <tr>\n",
       "      <th>1</th>\n",
       "      <td>536365</td>\n",
       "      <td>2010-12-01 08:26:00</td>\n",
       "      <td>17850.0</td>\n",
       "      <td>71053</td>\n",
       "      <td>3.39</td>\n",
       "      <td>6</td>\n",
       "      <td>WHITE METAL LANTERN</td>\n",
       "      <td>3</td>\n",
       "    </tr>\n",
       "    <tr>\n",
       "      <th>2</th>\n",
       "      <td>536365</td>\n",
       "      <td>2010-12-01 08:26:00</td>\n",
       "      <td>17850.0</td>\n",
       "      <td>84406B</td>\n",
       "      <td>2.75</td>\n",
       "      <td>8</td>\n",
       "      <td>CREAM CUPID HEARTS COAT HANGER</td>\n",
       "      <td>4</td>\n",
       "    </tr>\n",
       "    <tr>\n",
       "      <th>3</th>\n",
       "      <td>536365</td>\n",
       "      <td>2010-12-01 08:26:00</td>\n",
       "      <td>17850.0</td>\n",
       "      <td>84029G</td>\n",
       "      <td>3.39</td>\n",
       "      <td>6</td>\n",
       "      <td>KNITTED UNION FLAG HOT WATER BOTTLE</td>\n",
       "      <td>3</td>\n",
       "    </tr>\n",
       "    <tr>\n",
       "      <th>4</th>\n",
       "      <td>536365</td>\n",
       "      <td>2010-12-01 08:26:00</td>\n",
       "      <td>17850.0</td>\n",
       "      <td>84029E</td>\n",
       "      <td>3.39</td>\n",
       "      <td>6</td>\n",
       "      <td>RED WOOLLY HOTTIE WHITE HEART.</td>\n",
       "      <td>3</td>\n",
       "    </tr>\n",
       "  </tbody>\n",
       "</table>\n",
       "</div>"
      ],
      "text/plain": [
       "  InvoiceNo         InvoiceDate  CustomerID StockCode  UnitPrice  \\\n",
       "0    536365 2010-12-01 08:26:00     17850.0    85123A       2.55   \n",
       "1    536365 2010-12-01 08:26:00     17850.0     71053       3.39   \n",
       "2    536365 2010-12-01 08:26:00     17850.0    84406B       2.75   \n",
       "3    536365 2010-12-01 08:26:00     17850.0    84029G       3.39   \n",
       "4    536365 2010-12-01 08:26:00     17850.0    84029E       3.39   \n",
       "\n",
       "   QuantitySold                          Description  QuantityRemaining  \n",
       "0             6   WHITE HANGING HEART T-LIGHT HOLDER                  3  \n",
       "1             6                  WHITE METAL LANTERN                  3  \n",
       "2             8       CREAM CUPID HEARTS COAT HANGER                  4  \n",
       "3             6  KNITTED UNION FLAG HOT WATER BOTTLE                  3  \n",
       "4             6       RED WOOLLY HOTTIE WHITE HEART.                  3  "
      ]
     },
     "execution_count": 7,
     "metadata": {},
     "output_type": "execute_result"
    }
   ],
   "source": [
    "transactions.head()"
   ]
  },
  {
   "cell_type": "markdown",
   "metadata": {},
   "source": [
    "### Problem 3: Fix Negative `QuantitySold` Values\n",
    "Next, you will correct erroneously imported data by verifying that the `QuantitySold` column contain only _positive_ values. Follow the steps below:\n",
    "- Count the number of values in `QuantitySold` that are less than zero\n",
    "- Flip each negative number in `QuantitySold` to a positive number\n",
    "  - E.g., if a row contains a `QuantitySold` of `-15`, it should be \"flipped\" to `15`.\n",
    "\n",
    "\n",
    "---\n",
    "\n",
    "Your code should print the following:\n",
    "\n",
    "```\n",
    "InvoiceNo      8905\n",
    "InvoiceDate    8905\n",
    "CustomerID     8905\n",
    "StockCode      8905\n",
    "UnitPrice      8905\n",
    "Quantity       8905\n",
    "Description    8905\n",
    "dtype: int64\n",
    "\n",
    "InvoiceNo      0\n",
    "InvoiceDate    0\n",
    "CustomerID     0\n",
    "StockCode      0\n",
    "UnitPrice      0\n",
    "Quantity       0\n",
    "Description    0\n",
    "dtype: int64\n",
    "```"
   ]
  },
  {
   "cell_type": "code",
   "execution_count": 8,
   "metadata": {},
   "outputs": [
    {
     "data": {
      "text/plain": [
       "InvoiceNo            10624\n",
       "InvoiceDate          10624\n",
       "CustomerID            8905\n",
       "StockCode            10624\n",
       "UnitPrice            10624\n",
       "QuantitySold         10624\n",
       "Description           9762\n",
       "QuantityRemaining    10624\n",
       "dtype: int64"
      ]
     },
     "execution_count": 8,
     "metadata": {},
     "output_type": "execute_result"
    }
   ],
   "source": [
    "transactions[transactions['QuantitySold'] < 0].count()"
   ]
  },
  {
   "cell_type": "code",
   "execution_count": 9,
   "metadata": {},
   "outputs": [],
   "source": [
    "# TODO: Flip every negative element in `transactions.Quantity`\n",
    "transactions.loc[transactions.QuantitySold < 0, 'QuantitySold'] = -transactions.loc[transactions.QuantitySold < 0, 'QuantitySold']"
   ]
  },
  {
   "cell_type": "code",
   "execution_count": 10,
   "metadata": {
    "scrolled": true
   },
   "outputs": [
    {
     "data": {
      "text/plain": [
       "InvoiceNo            0\n",
       "InvoiceDate          0\n",
       "CustomerID           0\n",
       "StockCode            0\n",
       "UnitPrice            0\n",
       "QuantitySold         0\n",
       "Description          0\n",
       "QuantityRemaining    0\n",
       "dtype: int64"
      ]
     },
     "execution_count": 10,
     "metadata": {},
     "output_type": "execute_result"
    }
   ],
   "source": [
    "transactions[transactions['QuantitySold'] < 0].count()"
   ]
  },
  {
   "cell_type": "markdown",
   "metadata": {},
   "source": [
    "### Problem 4: Handling Missing Values\n",
    "Now that your data types are correct, you must remove any rows containing `None` values. Follow the steps below:\n",
    "- Count the number of `None` values in each column\n",
    "  - This time, _some_ columns should have `None` values\n",
    "- If any column contains `None` values, drop the corresponding rows\n",
    "- Count the number of `None` values in each column\n",
    "  - This time, no column should have any `None` values\n",
    "\n",
    "Modify your DataFrame in-place when you drop `None` values.\n",
    "\n",
    "<hr>\n",
    "\n",
    "Your code should print the following:\n",
    "\n",
    "```\n",
    "InvoiceNo                 0\n",
    "InvoiceDate               0\n",
    "CustomerID           119449\n",
    "StockCode                 0\n",
    "UnitPrice                 0\n",
    "Quantity                  0\n",
    "Description            1329\n",
    "dtype: int64\n",
    "\n",
    "InvoiceNo            0\n",
    "InvoiceDate          0\n",
    "CustomerID           0\n",
    "StockCode            0\n",
    "UnitPrice            0\n",
    "Quantity             0\n",
    "Description          0\n",
    "dtype: int64\n",
    "```\n",
    "\n",
    "<hr>\n",
    "\n",
    "**Hints**\n",
    "- Use the `isna` and `sum` methods to count the number of `None` values in each column.\n",
    "- Use `dropna` with the `inplace` argument to drop corrupt rows from your DataFrame.\n",
    "- Make sure to drop along the `row` axis."
   ]
  },
  {
   "cell_type": "code",
   "execution_count": 11,
   "metadata": {},
   "outputs": [
    {
     "data": {
      "text/plain": [
       "InvoiceNo                 0\n",
       "InvoiceDate               0\n",
       "CustomerID           135080\n",
       "StockCode                 0\n",
       "UnitPrice                 0\n",
       "QuantitySold              0\n",
       "Description            1454\n",
       "QuantityRemaining         0\n",
       "dtype: int64"
      ]
     },
     "execution_count": 11,
     "metadata": {},
     "output_type": "execute_result"
    }
   ],
   "source": [
    "# TODO: Use `isna` and `sum` to determine if columns contain `None` values\n",
    "transactions.isna().sum()"
   ]
  },
  {
   "cell_type": "code",
   "execution_count": 12,
   "metadata": {},
   "outputs": [],
   "source": [
    "# TODO: Drop `any` rows with null values on the `rows` axis `inplace`\n",
    "transactions.dropna(axis = 'rows',how = 'any', inplace=True)"
   ]
  },
  {
   "cell_type": "code",
   "execution_count": 13,
   "metadata": {
    "scrolled": true
   },
   "outputs": [
    {
     "data": {
      "text/plain": [
       "InvoiceNo            0\n",
       "InvoiceDate          0\n",
       "CustomerID           0\n",
       "StockCode            0\n",
       "UnitPrice            0\n",
       "QuantitySold         0\n",
       "Description          0\n",
       "QuantityRemaining    0\n",
       "dtype: int64"
      ]
     },
     "execution_count": 13,
     "metadata": {},
     "output_type": "execute_result"
    }
   ],
   "source": [
    "# TODO: Use `isna` and `sum` to verify columns no longer contain `None` values\n",
    "transactions.isna().sum()"
   ]
  },
  {
   "cell_type": "markdown",
   "metadata": {},
   "source": [
    "### Problem 5: Removing Rows with `UnitPrice` of `0`\n",
    "Finally, you will ensure that the `UnitPrice` column contains only _positive_ values. Follow the steps below:\n",
    "- Count the number of values in `UnitPrice` that are equal to _or_ less than zero\n",
    "- Set `transactions` equal to the subset of rows with a `UnitPrice` _greater_ than zero\n",
    "- Count the number of values in `UnitPrice` that are equal to _or_ less than zero to verify that your code worked\n",
    "\n",
    "Your code should print the following:\n",
    "\n",
    "```\n",
    "40\n",
    "\n",
    "0\n",
    "```"
   ]
  },
  {
   "cell_type": "code",
   "execution_count": 14,
   "metadata": {},
   "outputs": [
    {
     "data": {
      "text/plain": [
       "40"
      ]
     },
     "execution_count": 14,
     "metadata": {},
     "output_type": "execute_result"
    }
   ],
   "source": [
    "transactions.loc[transactions['UnitPrice'] <= 0, 'UnitPrice'].count()"
   ]
  },
  {
   "cell_type": "code",
   "execution_count": 15,
   "metadata": {},
   "outputs": [],
   "source": [
    "# TODO: Filter out all rows whose `UnitPrice` is GREATER than 0\n",
    "positive_filter = transactions['UnitPrice'] > 0"
   ]
  },
  {
   "cell_type": "code",
   "execution_count": 16,
   "metadata": {},
   "outputs": [],
   "source": [
    "# TODO: Set `positive_transactions` equal to a `copy` of the rows in `transactions` that match the `positive_filter` condition\n",
    "positive_transactions = transactions.loc[positive_filter].copy()"
   ]
  },
  {
   "cell_type": "code",
   "execution_count": 17,
   "metadata": {},
   "outputs": [
    {
     "data": {
      "text/plain": [
       "0"
      ]
     },
     "execution_count": 17,
     "metadata": {},
     "output_type": "execute_result"
    }
   ],
   "source": [
    "# TODO: Filter out all values in `UnitPrice` that are less than or equal to 0\n",
    "positive_transactions.loc[positive_transactions.UnitPrice <= 0, 'UnitPrice'].count()"
   ]
  },
  {
   "cell_type": "markdown",
   "metadata": {},
   "source": [
    "### Problem 6: Selecting Only Data from 2011\n",
    "Next, you will filter for _only_ data from 2011. Use a filter to set `transactions` equal to the subset of rows whose `InvoiceDate` occurs in 2011."
   ]
  },
  {
   "cell_type": "code",
   "execution_count": 18,
   "metadata": {},
   "outputs": [
    {
     "data": {
      "text/html": [
       "<div>\n",
       "<style scoped>\n",
       "    .dataframe tbody tr th:only-of-type {\n",
       "        vertical-align: middle;\n",
       "    }\n",
       "\n",
       "    .dataframe tbody tr th {\n",
       "        vertical-align: top;\n",
       "    }\n",
       "\n",
       "    .dataframe thead th {\n",
       "        text-align: right;\n",
       "    }\n",
       "</style>\n",
       "<table border=\"1\" class=\"dataframe\">\n",
       "  <thead>\n",
       "    <tr style=\"text-align: right;\">\n",
       "      <th></th>\n",
       "      <th>InvoiceNo</th>\n",
       "      <th>InvoiceDate</th>\n",
       "      <th>CustomerID</th>\n",
       "      <th>StockCode</th>\n",
       "      <th>UnitPrice</th>\n",
       "      <th>QuantitySold</th>\n",
       "      <th>Description</th>\n",
       "      <th>QuantityRemaining</th>\n",
       "    </tr>\n",
       "  </thead>\n",
       "  <tbody>\n",
       "    <tr>\n",
       "      <th>42481</th>\n",
       "      <td>539993</td>\n",
       "      <td>2011-01-04 10:00:00</td>\n",
       "      <td>13313.0</td>\n",
       "      <td>22386</td>\n",
       "      <td>1.95</td>\n",
       "      <td>10</td>\n",
       "      <td>JUMBO BAG PINK POLKADOT</td>\n",
       "      <td>5</td>\n",
       "    </tr>\n",
       "    <tr>\n",
       "      <th>42482</th>\n",
       "      <td>539993</td>\n",
       "      <td>2011-01-04 10:00:00</td>\n",
       "      <td>13313.0</td>\n",
       "      <td>21499</td>\n",
       "      <td>0.42</td>\n",
       "      <td>25</td>\n",
       "      <td>BLUE POLKADOT WRAP</td>\n",
       "      <td>12</td>\n",
       "    </tr>\n",
       "    <tr>\n",
       "      <th>42483</th>\n",
       "      <td>539993</td>\n",
       "      <td>2011-01-04 10:00:00</td>\n",
       "      <td>13313.0</td>\n",
       "      <td>21498</td>\n",
       "      <td>0.42</td>\n",
       "      <td>25</td>\n",
       "      <td>RED RETROSPOT WRAP</td>\n",
       "      <td>12</td>\n",
       "    </tr>\n",
       "    <tr>\n",
       "      <th>42484</th>\n",
       "      <td>539993</td>\n",
       "      <td>2011-01-04 10:00:00</td>\n",
       "      <td>13313.0</td>\n",
       "      <td>22379</td>\n",
       "      <td>2.10</td>\n",
       "      <td>5</td>\n",
       "      <td>RECYCLING BAG RETROSPOT</td>\n",
       "      <td>2</td>\n",
       "    </tr>\n",
       "    <tr>\n",
       "      <th>42485</th>\n",
       "      <td>539993</td>\n",
       "      <td>2011-01-04 10:00:00</td>\n",
       "      <td>13313.0</td>\n",
       "      <td>20718</td>\n",
       "      <td>1.25</td>\n",
       "      <td>10</td>\n",
       "      <td>RED RETROSPOT SHOPPER BAG</td>\n",
       "      <td>5</td>\n",
       "    </tr>\n",
       "    <tr>\n",
       "      <th>...</th>\n",
       "      <td>...</td>\n",
       "      <td>...</td>\n",
       "      <td>...</td>\n",
       "      <td>...</td>\n",
       "      <td>...</td>\n",
       "      <td>...</td>\n",
       "      <td>...</td>\n",
       "      <td>...</td>\n",
       "    </tr>\n",
       "    <tr>\n",
       "      <th>541904</th>\n",
       "      <td>581587</td>\n",
       "      <td>2011-12-09 12:50:00</td>\n",
       "      <td>12680.0</td>\n",
       "      <td>22613</td>\n",
       "      <td>0.85</td>\n",
       "      <td>12</td>\n",
       "      <td>PACK OF 20 SPACEBOY NAPKINS</td>\n",
       "      <td>6</td>\n",
       "    </tr>\n",
       "    <tr>\n",
       "      <th>541905</th>\n",
       "      <td>581587</td>\n",
       "      <td>2011-12-09 12:50:00</td>\n",
       "      <td>12680.0</td>\n",
       "      <td>22899</td>\n",
       "      <td>2.10</td>\n",
       "      <td>6</td>\n",
       "      <td>CHILDREN'S APRON DOLLY GIRL</td>\n",
       "      <td>3</td>\n",
       "    </tr>\n",
       "    <tr>\n",
       "      <th>541906</th>\n",
       "      <td>581587</td>\n",
       "      <td>2011-12-09 12:50:00</td>\n",
       "      <td>12680.0</td>\n",
       "      <td>23254</td>\n",
       "      <td>4.15</td>\n",
       "      <td>4</td>\n",
       "      <td>CHILDRENS CUTLERY DOLLY GIRL</td>\n",
       "      <td>2</td>\n",
       "    </tr>\n",
       "    <tr>\n",
       "      <th>541907</th>\n",
       "      <td>581587</td>\n",
       "      <td>2011-12-09 12:50:00</td>\n",
       "      <td>12680.0</td>\n",
       "      <td>23255</td>\n",
       "      <td>4.15</td>\n",
       "      <td>4</td>\n",
       "      <td>CHILDRENS CUTLERY CIRCUS PARADE</td>\n",
       "      <td>2</td>\n",
       "    </tr>\n",
       "    <tr>\n",
       "      <th>541908</th>\n",
       "      <td>581587</td>\n",
       "      <td>2011-12-09 12:50:00</td>\n",
       "      <td>12680.0</td>\n",
       "      <td>22138</td>\n",
       "      <td>4.95</td>\n",
       "      <td>3</td>\n",
       "      <td>BAKING SET 9 PIECE RETROSPOT</td>\n",
       "      <td>1</td>\n",
       "    </tr>\n",
       "  </tbody>\n",
       "</table>\n",
       "<p>379979 rows × 8 columns</p>\n",
       "</div>"
      ],
      "text/plain": [
       "       InvoiceNo         InvoiceDate  CustomerID StockCode  UnitPrice  \\\n",
       "42481     539993 2011-01-04 10:00:00     13313.0     22386       1.95   \n",
       "42482     539993 2011-01-04 10:00:00     13313.0     21499       0.42   \n",
       "42483     539993 2011-01-04 10:00:00     13313.0     21498       0.42   \n",
       "42484     539993 2011-01-04 10:00:00     13313.0     22379       2.10   \n",
       "42485     539993 2011-01-04 10:00:00     13313.0     20718       1.25   \n",
       "...          ...                 ...         ...       ...        ...   \n",
       "541904    581587 2011-12-09 12:50:00     12680.0     22613       0.85   \n",
       "541905    581587 2011-12-09 12:50:00     12680.0     22899       2.10   \n",
       "541906    581587 2011-12-09 12:50:00     12680.0     23254       4.15   \n",
       "541907    581587 2011-12-09 12:50:00     12680.0     23255       4.15   \n",
       "541908    581587 2011-12-09 12:50:00     12680.0     22138       4.95   \n",
       "\n",
       "        QuantitySold                      Description  QuantityRemaining  \n",
       "42481             10          JUMBO BAG PINK POLKADOT                  5  \n",
       "42482             25               BLUE POLKADOT WRAP                 12  \n",
       "42483             25              RED RETROSPOT WRAP                  12  \n",
       "42484              5         RECYCLING BAG RETROSPOT                   2  \n",
       "42485             10        RED RETROSPOT SHOPPER BAG                  5  \n",
       "...              ...                              ...                ...  \n",
       "541904            12      PACK OF 20 SPACEBOY NAPKINS                  6  \n",
       "541905             6     CHILDREN'S APRON DOLLY GIRL                   3  \n",
       "541906             4    CHILDRENS CUTLERY DOLLY GIRL                   2  \n",
       "541907             4  CHILDRENS CUTLERY CIRCUS PARADE                  2  \n",
       "541908             3    BAKING SET 9 PIECE RETROSPOT                   1  \n",
       "\n",
       "[379979 rows x 8 columns]"
      ]
     },
     "execution_count": 18,
     "metadata": {},
     "output_type": "execute_result"
    }
   ],
   "source": [
    "# TODO: Select rows from year `2011`\n",
    "transactions[transactions['InvoiceDate'].dt.year == 2011]"
   ]
  },
  {
   "cell_type": "markdown",
   "metadata": {},
   "source": [
    "# Part 2: Simple Analysis\n"
   ]
  },
  {
   "cell_type": "markdown",
   "metadata": {},
   "source": [
    "### Problem 1: Compute Total Items Sold\n",
    "Next, compute the total `QuantitySold` of items sold.\n",
    "\n",
    "Your code should print the following:\n",
    "\n",
    "```\n",
    "5442620\n",
    "```"
   ]
  },
  {
   "cell_type": "code",
   "execution_count": 19,
   "metadata": {},
   "outputs": [
    {
     "data": {
      "text/plain": [
       "5456504"
      ]
     },
     "execution_count": 19,
     "metadata": {},
     "output_type": "execute_result"
    }
   ],
   "source": [
    "# TODO: Find sum of `QuantitySold` column\n",
    "transactions['QuantitySold'].sum()"
   ]
  },
  {
   "cell_type": "markdown",
   "metadata": {},
   "source": [
    "### Problem 2: Compute Total Revenue\n",
    "Now, compute the total amount of money generated by the transactions in this data set.\n",
    "\n",
    "You will solve this problem in two parts:\n",
    "- Add a new to your DataFrame column, called `TotalPrice`, using the formula below:\n",
    "  - `TotalPrice = Quantity X UnitPrice`\n",
    "- Take the sum of the `TotalPrice` column to compute total revenue.\n",
    "\n",
    "Your code should print the following:\n",
    "```\n",
    "9522749.994000005\n",
    "```"
   ]
  },
  {
   "cell_type": "code",
   "execution_count": 20,
   "metadata": {},
   "outputs": [],
   "source": [
    "# TODO: Add `TotalPrice` column\n",
    "transactions['TotalPrice'] = transactions['QuantitySold'] * transactions['UnitPrice']"
   ]
  },
  {
   "cell_type": "code",
   "execution_count": 21,
   "metadata": {},
   "outputs": [
    {
     "name": "stdout",
     "output_type": "stream",
     "text": [
      "9522749.994000003\n"
     ]
    }
   ],
   "source": [
    "# Compute sum of `TotalPrice`\n",
    "total_revenue = transactions['TotalPrice'].sum()\n",
    "print(total_revenue)"
   ]
  },
  {
   "cell_type": "markdown",
   "metadata": {},
   "source": [
    "### Problem 3: Number of Unique Items Sold\n",
    "Next, you will determine how many _unique_ items appear in the dataset using the `StockCode` column. \n",
    "\n",
    "Your code should print the following:\n",
    "\n",
    "```\n",
    "3612\n",
    "```"
   ]
  },
  {
   "cell_type": "code",
   "execution_count": 22,
   "metadata": {},
   "outputs": [
    {
     "data": {
      "text/plain": [
       "3684"
      ]
     },
     "execution_count": 22,
     "metadata": {},
     "output_type": "execute_result"
    }
   ],
   "source": [
    "# TODO: Count unique `StockCode` entries\n",
    "transactions['StockCode'].nunique()"
   ]
  },
  {
   "cell_type": "markdown",
   "metadata": {},
   "source": [
    "### Problem 4: Average Number of Orders per Customer\n",
    "Next, you will determine how orders each customer made on average.\n",
    "\n",
    "Follow the steps below:\n",
    "- Save the number of unique customers to a variable, called `unique_customers`\n",
    "- Save the number of unique invoices to a variable, called `unique_invoices`\n",
    "- Compute the average number of invocies per customer\n",
    "\n",
    "Your code should print the following:\n",
    "\n",
    "```\n",
    "4.826302144708932\n",
    "```"
   ]
  },
  {
   "cell_type": "code",
   "execution_count": 23,
   "metadata": {},
   "outputs": [],
   "source": [
    "# TODO: Count number of unique customers\n",
    "unique_customers = transactions['CustomerID'].nunique()"
   ]
  },
  {
   "cell_type": "code",
   "execution_count": 24,
   "metadata": {},
   "outputs": [],
   "source": [
    "# TODO: Count number of unique invoices \n",
    "unique_invoices = transactions['InvoiceNo'].nunique()"
   ]
  },
  {
   "cell_type": "code",
   "execution_count": 25,
   "metadata": {},
   "outputs": [
    {
     "data": {
      "text/plain": [
       "5.07548032936871"
      ]
     },
     "execution_count": 25,
     "metadata": {},
     "output_type": "execute_result"
    }
   ],
   "source": [
    "# TODO: Compute average number of invoices per customer\n",
    "unique_invoices/unique_customers\n"
   ]
  },
  {
   "cell_type": "markdown",
   "metadata": {},
   "source": [
    "### Problem 5: Average Value of Each Invoice\n",
    "Finally, compute the average value of a customer invoice.\n",
    "\n",
    "Follow the steps below:\n",
    "- Count the number of unique invoices\n",
    "- Compute the total sales value\n",
    "- Use the above two values to compute the average value of an invoice \n",
    "\n",
    "Your code should print the following:\n",
    "```\n",
    "436.1718055474166\n",
    "```"
   ]
  },
  {
   "cell_type": "code",
   "execution_count": 26,
   "metadata": {},
   "outputs": [],
   "source": [
    "# TODO: Count number of unique invoices \n",
    "unique_invoices = transactions['InvoiceNo'].nunique()"
   ]
  },
  {
   "cell_type": "code",
   "execution_count": 27,
   "metadata": {},
   "outputs": [
    {
     "data": {
      "text/plain": [
       "9522749.994000003"
      ]
     },
     "execution_count": 27,
     "metadata": {},
     "output_type": "execute_result"
    }
   ],
   "source": [
    "# TODO: Total sales value\n",
    "total_revenue"
   ]
  },
  {
   "cell_type": "code",
   "execution_count": 28,
   "metadata": {},
   "outputs": [
    {
     "name": "stdout",
     "output_type": "stream",
     "text": [
      "429.1460114465977\n"
     ]
    }
   ],
   "source": [
    "# TODO: Average value of each invoice\n",
    "average_value_of_invoice = total_revenue/unique_invoices\n",
    "print(average_value_of_invoice)"
   ]
  }
 ],
 "metadata": {
  "kernelspec": {
   "display_name": "Python 3",
   "language": "python",
   "name": "python3"
  },
  "language_info": {
   "codemirror_mode": {
    "name": "ipython",
    "version": 3
   },
   "file_extension": ".py",
   "mimetype": "text/x-python",
   "name": "python",
   "nbconvert_exporter": "python",
   "pygments_lexer": "ipython3",
   "version": "3.8.5"
  }
 },
 "nbformat": 4,
 "nbformat_minor": 4
}
